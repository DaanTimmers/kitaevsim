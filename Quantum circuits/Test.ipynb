{
 "cells": [
  {
   "cell_type": "code",
<<<<<<< HEAD
   "execution_count": 10,
   "metadata": {},
   "outputs": [
    {
     "ename": "TypeError",
     "evalue": "'ABCMeta' object is not subscriptable",
     "output_type": "error",
     "traceback": [
      "\u001b[0;31m---------------------------------------------------------------------------\u001b[0m",
      "\u001b[0;31mTypeError\u001b[0m                                 Traceback (most recent call last)",
      "\u001b[0;32m/var/folders/jp/3pg31pr14qv9d64r8h1jy0mc0000gn/T/ipykernel_22283/2928523838.py\u001b[0m in \u001b[0;36m<module>\u001b[0;34m\u001b[0m\n\u001b[1;32m      3\u001b[0m \u001b[0;32mimport\u001b[0m \u001b[0mcirq\u001b[0m\u001b[0;34m\u001b[0m\u001b[0;34m\u001b[0m\u001b[0m\n\u001b[1;32m      4\u001b[0m \u001b[0;32mimport\u001b[0m \u001b[0mmatplotlib\u001b[0m\u001b[0;34m.\u001b[0m\u001b[0mpyplot\u001b[0m \u001b[0;32mas\u001b[0m \u001b[0mplt\u001b[0m\u001b[0;34m\u001b[0m\u001b[0;34m\u001b[0m\u001b[0m\n\u001b[0;32m----> 5\u001b[0;31m \u001b[0;32mimport\u001b[0m \u001b[0mqsimcirq\u001b[0m\u001b[0;34m\u001b[0m\u001b[0;34m\u001b[0m\u001b[0m\n\u001b[0m",
      "\u001b[0;32m~/anaconda3/lib/python3.7/site-packages/qsimcirq/__init__.py\u001b[0m in \u001b[0;36m<module>\u001b[0;34m\u001b[0m\n\u001b[1;32m     54\u001b[0m \u001b[0;34m\u001b[0m\u001b[0m\n\u001b[1;32m     55\u001b[0m \u001b[0;32mfrom\u001b[0m \u001b[0;34m.\u001b[0m\u001b[0mqsim_circuit\u001b[0m \u001b[0;32mimport\u001b[0m \u001b[0madd_op_to_opstring\u001b[0m\u001b[0;34m,\u001b[0m \u001b[0madd_op_to_circuit\u001b[0m\u001b[0;34m,\u001b[0m \u001b[0mQSimCircuit\u001b[0m\u001b[0;34m\u001b[0m\u001b[0;34m\u001b[0m\u001b[0m\n\u001b[0;32m---> 56\u001b[0;31m \u001b[0;32mfrom\u001b[0m \u001b[0;34m.\u001b[0m\u001b[0mqsim_simulator\u001b[0m \u001b[0;32mimport\u001b[0m \u001b[0mQSimOptions\u001b[0m\u001b[0;34m,\u001b[0m \u001b[0mQSimSimulator\u001b[0m\u001b[0;34m\u001b[0m\u001b[0;34m\u001b[0m\u001b[0m\n\u001b[0m\u001b[1;32m     57\u001b[0m \u001b[0;32mfrom\u001b[0m \u001b[0;34m.\u001b[0m\u001b[0mqsimh_simulator\u001b[0m \u001b[0;32mimport\u001b[0m \u001b[0mQSimhSimulator\u001b[0m\u001b[0;34m\u001b[0m\u001b[0;34m\u001b[0m\u001b[0m\n\u001b[1;32m     58\u001b[0m \u001b[0;34m\u001b[0m\u001b[0m\n",
      "\u001b[0;32m~/anaconda3/lib/python3.7/site-packages/qsimcirq/qsim_simulator.py\u001b[0m in \u001b[0;36m<module>\u001b[0;34m\u001b[0m\n\u001b[1;32m    128\u001b[0m     \u001b[0mcirq\u001b[0m\u001b[0;34m.\u001b[0m\u001b[0mSimulatesSamples\u001b[0m\u001b[0;34m,\u001b[0m\u001b[0;34m\u001b[0m\u001b[0;34m\u001b[0m\u001b[0m\n\u001b[1;32m    129\u001b[0m     \u001b[0mcirq\u001b[0m\u001b[0;34m.\u001b[0m\u001b[0mSimulatesAmplitudes\u001b[0m\u001b[0;34m,\u001b[0m\u001b[0;34m\u001b[0m\u001b[0;34m\u001b[0m\u001b[0m\n\u001b[0;32m--> 130\u001b[0;31m     \u001b[0mcirq\u001b[0m\u001b[0;34m.\u001b[0m\u001b[0mSimulatesFinalState\u001b[0m\u001b[0;34m[\u001b[0m\u001b[0mcirq\u001b[0m\u001b[0;34m.\u001b[0m\u001b[0mStateVectorTrialResult\u001b[0m\u001b[0;34m]\u001b[0m\u001b[0;34m,\u001b[0m\u001b[0;34m\u001b[0m\u001b[0;34m\u001b[0m\u001b[0m\n\u001b[0m\u001b[1;32m    131\u001b[0m     \u001b[0mcirq\u001b[0m\u001b[0;34m.\u001b[0m\u001b[0mSimulatesExpectationValues\u001b[0m\u001b[0;34m,\u001b[0m\u001b[0;34m\u001b[0m\u001b[0;34m\u001b[0m\u001b[0m\n\u001b[1;32m    132\u001b[0m ):\n",
      "\u001b[0;31mTypeError\u001b[0m: 'ABCMeta' object is not subscriptable"
     ]
    }
   ],
=======
   "execution_count": 8,
   "metadata": {},
   "outputs": [],
>>>>>>> a73a15f96bffd22c5810fc2be5e9acfe93072078
   "source": [
    "import numpy as np\n",
    "import scipy\n",
    "import cirq\n",
    "import matplotlib.pyplot as plt\n",
    "import cirq_google\n",
    "import qsimcirq"
   ]
  },
  {
   "cell_type": "markdown",
   "metadata": {},
   "source": [
    "## Google quantum AI - Cirq\n",
    "\n",
    "I will use this program to try out some functionalities of the Google quantum AI Cirq package. I will try to implement the basic multiplication circuit $\\ket{h}\\ket{g} \\rightarrow \\ket{h}\\ket{hg}$ for the quaternions and for D4 and use the 'quantum virtual machine' simulator."
   ]
  },
  {
   "cell_type": "code",
<<<<<<< HEAD
   "execution_count": 7,
=======
   "execution_count": 9,
>>>>>>> a73a15f96bffd22c5810fc2be5e9acfe93072078
   "metadata": {},
   "outputs": [
    {
     "ename": "NameError",
     "evalue": "name 'noise_model' is not defined",
     "output_type": "error",
     "traceback": [
<<<<<<< HEAD
      "\u001b[0;31m---------------------------------------------------------------------------\u001b[0m",
      "\u001b[0;31mNameError\u001b[0m                                 Traceback (most recent call last)",
      "\u001b[0;32m/var/folders/jp/3pg31pr14qv9d64r8h1jy0mc0000gn/T/ipykernel_22283/167254949.py\u001b[0m in \u001b[0;36m<module>\u001b[0;34m\u001b[0m\n\u001b[1;32m      1\u001b[0m \u001b[0;31m# qsim test\u001b[0m\u001b[0;34m\u001b[0m\u001b[0;34m\u001b[0m\u001b[0;34m\u001b[0m\u001b[0m\n\u001b[1;32m      2\u001b[0m \u001b[0;34m\u001b[0m\u001b[0m\n\u001b[0;32m----> 3\u001b[0;31m \u001b[0msim\u001b[0m \u001b[0;34m=\u001b[0m \u001b[0mqsimcirq\u001b[0m\u001b[0;34m.\u001b[0m\u001b[0mQSimSimulator\u001b[0m\u001b[0;34m(\u001b[0m\u001b[0mnoise\u001b[0m\u001b[0;34m=\u001b[0m\u001b[0mnoise_model\u001b[0m\u001b[0;34m)\u001b[0m\u001b[0;34m\u001b[0m\u001b[0;34m\u001b[0m\u001b[0m\n\u001b[0m",
      "\u001b[0;31mNameError\u001b[0m: name 'qsimcirq' is not defined"
=======
      "\u001b[1;31m---------------------------------------------------------------------------\u001b[0m",
      "\u001b[1;31mNameError\u001b[0m                                 Traceback (most recent call last)",
      "\u001b[1;32mC:\\Users\\JOVANO~1\\AppData\\Local\\Temp/ipykernel_24544/167254949.py\u001b[0m in \u001b[0;36m<module>\u001b[1;34m\u001b[0m\n\u001b[0;32m      1\u001b[0m \u001b[1;31m# qsim test\u001b[0m\u001b[1;33m\u001b[0m\u001b[1;33m\u001b[0m\u001b[0m\n\u001b[0;32m      2\u001b[0m \u001b[1;33m\u001b[0m\u001b[0m\n\u001b[1;32m----> 3\u001b[1;33m \u001b[0msim\u001b[0m \u001b[1;33m=\u001b[0m \u001b[0mqsimcirq\u001b[0m\u001b[1;33m.\u001b[0m\u001b[0mQSimSimulator\u001b[0m\u001b[1;33m(\u001b[0m\u001b[0mnoise\u001b[0m\u001b[1;33m=\u001b[0m\u001b[0mnoise_model\u001b[0m\u001b[1;33m)\u001b[0m\u001b[1;33m\u001b[0m\u001b[1;33m\u001b[0m\u001b[0m\n\u001b[0m",
      "\u001b[1;31mNameError\u001b[0m: name 'noise_model' is not defined"
>>>>>>> a73a15f96bffd22c5810fc2be5e9acfe93072078
     ]
    }
   ],
   "source": [
    "# qsim test\n",
    "\n",
    "sim = qsimcirq.QSimSimulator(noise=noise_model)\n"
   ]
  },
  {
   "cell_type": "code",
   "execution_count": null,
   "metadata": {},
   "outputs": [
    {
     "name": "stdout",
     "output_type": "stream",
     "text": [
      "(0, 0): ───────────────@───\n",
      "                       │\n",
      "(0, 1): ───X───X───X───X───\n",
      "           │   │   │\n",
      "(1, 0): ───┼───@───┼───@───\n",
      "           │   │   │   │\n",
      "(1, 1): ───@───@───┼───X───\n",
      "           │       │\n",
      "(2, 0): ───@───────@───@───\n",
      "                   │   │\n",
      "(2, 1): ───────────@───X───\n"
     ]
    }
   ],
   "source": [
    "# Quaternion multiplication\n",
    "\n",
    "h_a2, h_a, h_b = [cirq.GridQubit(i,0) for i in range(3)]\n",
    "g_a2, g_a, g_b = [cirq.GridQubit(i,1) for i in range(3)]\n",
    "\n",
    "Q_premult = cirq.Circuit()\n",
    "Q_premult.append([cirq.TOFFOLI(h_b,g_a,g_a2),\n",
    "                  cirq.TOFFOLI(h_a,g_a,g_a2),\n",
    "                  cirq.TOFFOLI(h_b,g_b,g_a2),\n",
    "                  cirq.Moment(cirq.CNOT(h_a,g_a),\n",
    "                  cirq.CNOT(h_a2,g_a2),\n",
    "                  cirq.CNOT(h_b,g_b))\n",
    "\n",
    "])\n",
    "\n",
    "print(Q_premult)\n"
   ]
  },
  {
   "cell_type": "code",
   "execution_count": null,
   "metadata": {},
   "outputs": [
    {
     "name": "stdout",
     "output_type": "stream",
     "text": [
      "(0, 0): ───────────────@──────────────\n",
      "                       │\n",
      "(0, 1): ───────@───────X──────────────\n",
      "               │\n",
      "(1, 0): ───────┼───────@──────────────\n",
      "               │       │\n",
      "(1, 1): ───────X───X───X──────────────\n",
      "               │   │\n",
      "(2, 0): ───H───@───@───@──────────────\n",
      "                   │   │\n",
      "(2, 1): ───────────@───X───M('out')───\n"
     ]
    }
   ],
   "source": [
    "# D4 multiplication\n",
    "\n",
    "h_m, h_R2, h_R = [cirq.GridQubit(i,0) for i in range(3)]\n",
    "g_m, g_R2, g_R = [cirq.GridQubit(i,1) for i in range(3)]\n",
    "\n",
    "D_premult = cirq.Circuit()\n",
    "D_premult.append([cirq.H(h_R),\n",
    "                  cirq.TOFFOLI(h_R,g_m,g_R2),\n",
    "                  cirq.TOFFOLI(h_R,g_R,g_R2),\n",
    "                  cirq.Moment(cirq.CNOT(h_m,g_m),\n",
    "                              cirq.CNOT(h_R2,g_R2),\n",
    "                              cirq.CNOT(h_R,g_R)),\n",
    "                  cirq.measure(g_R, key='out')\n",
    "\n",
    "])\n",
    "\n",
    "print(D_premult)"
   ]
  },
  {
   "cell_type": "code",
   "execution_count": null,
   "metadata": {},
   "outputs": [
    {
     "name": "stdout",
     "output_type": "stream",
     "text": [
      "out=1011011111011111001000110000110101110101001001011111100110111010000111001001100100100101111000011000\n",
      "Counter({1: 53, 0: 47})\n"
     ]
    }
   ],
   "source": [
    "# 'perfect' simulation with D4 multiplication\n",
    "\n",
    "simulator = cirq.Simulator()\n",
    "results = simulator.run(D_premult,repetitions=100)\n",
    "print(results)\n",
    "print(results.histogram(key='out'))\n",
    "\n"
   ]
  }
 ],
 "metadata": {
  "kernelspec": {
   "display_name": "Python 3.7.3 ('base')",
   "language": "python",
   "name": "python3"
  },
  "language_info": {
   "codemirror_mode": {
    "name": "ipython",
    "version": 3
   },
   "file_extension": ".py",
   "mimetype": "text/x-python",
   "name": "python",
   "nbconvert_exporter": "python",
   "pygments_lexer": "ipython3",
<<<<<<< HEAD
   "version": "3.7.10"
=======
   "version": "3.9.7"
>>>>>>> a73a15f96bffd22c5810fc2be5e9acfe93072078
  },
  "orig_nbformat": 4,
  "vscode": {
   "interpreter": {
    "hash": "c14d112fde1918c7d4bab182e09a215b6c8b04c23366deecb76389864398d637"
   }
  }
 },
 "nbformat": 4,
 "nbformat_minor": 2
}
