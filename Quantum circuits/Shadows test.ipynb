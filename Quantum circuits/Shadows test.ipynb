{
 "cells": [
  {
   "cell_type": "code",
   "execution_count": 2,
   "metadata": {},
   "outputs": [],
   "source": [
    "import numpy as np\n",
    "from scipy.linalg import expm\n",
    "from matplotlib import pyplot as plt\n",
    "import cirq"
   ]
  },
  {
   "cell_type": "code",
   "execution_count": 3,
   "metadata": {},
   "outputs": [],
   "source": [
    "ident = np.array([[1., 0.], [0., 1.]])\n",
    "sigma_x = np.array([[0., 1.], [1., 0.]])\n",
    "sigma_y = np.array([[0., -1.0j], [1.0j, 0.]])\n",
    "sigma_z = np.array([[1., 0.], [0., -1.]])"
   ]
  },
  {
   "cell_type": "code",
   "execution_count": 97,
   "metadata": {},
   "outputs": [],
   "source": [
    "def omega():\n",
    "    return np.random.rand() * np.pi * 2\n",
    "def phi ():\n",
    "    return np.random.rand() * np.pi * 2\n",
    "def theta():\n",
    "    return np.arccos(2 * np.random.rand() - 1)\n",
    "\n",
    "def unitary_angles(n_qubits):\n",
    "    omegas = [omega() for i in range(n_qubits)]\n",
    "    phis = [phi() for i in range(n_qubits)]\n",
    "    thetas = [theta() for i in range(n_qubits)]\n",
    "\n",
    "    return [phis,omegas,thetas]\n",
    "\n",
    "def unitary(phi,omega,theta):\n",
    "    \n",
    "    return expm(-0.5j * omega * sigma_z) @ expm(-0.5j * theta * sigma_x) @ expm(-0.5j * phi * sigma_z)"
   ]
  },
  {
   "cell_type": "code",
   "execution_count": 117,
   "metadata": {},
   "outputs": [
    {
     "name": "stdout",
     "output_type": "stream",
     "text": [
      "0: ───H───@───────Rz(0.097π)───Rx(0.234π)───Rz(1.32π)───M('out')───\n",
      "          │                                             │\n",
      "1: ───────X───@───Rz(0.602π)───Rx(0.782π)───Rz(1.6π)────M──────────\n",
      "              │                                         │\n",
      "2: ───────────X───Rz(0.63π)────Rx(0.413π)───Rz(0.49π)───M──────────\n"
     ]
    }
   ],
   "source": [
    "qubits = cirq.LineQubit.range(3)\n",
    "\n",
    "def shadows(angles):\n",
    "\n",
    "    shadows = cirq.Circuit()\n",
    "\n",
    "# Preparing GHZ state\n",
    "\n",
    "    shadows.append([cirq.H(qubits[0]),\n",
    "                    cirq.CNOT(qubits[0],qubits[1]),\n",
    "                    cirq.CNOT(qubits[1],qubits[2])\n",
    "                    ])\n",
    "\n",
    "# Unitaries\n",
    "\n",
    "    shadows.append([cirq.rz(angles[0][0])(qubits[0]), cirq.rz(angles[0][1])(qubits[1]), cirq.rz(angles[0][2])(qubits[2]),\n",
    "\n",
    "                    cirq.rx(angles[2][0])(qubits[0]), cirq.rx(angles[2][1])(qubits[1]), cirq.rx(angles[2][2])(qubits[2]),\n",
    "\n",
    "                    cirq.rz(angles[1][0])(qubits[0]), cirq.rz(angles[1][1])(qubits[1]), cirq.rz(angles[1][2])(qubits[2])],\n",
    "                    strategy=cirq.circuits.InsertStrategy.NEW_THEN_INLINE)\n",
    "\n",
    "# Measuring\n",
    "\n",
    "    shadows.append(cirq.measure(qubits[0],qubits[1],qubits[2],key='out'))\n",
    "\n",
    "    return shadows\n",
    "\n",
    "print(shadows(unitary_angles(3)))\n"
   ]
  },
  {
   "cell_type": "code",
   "execution_count": 125,
   "metadata": {},
   "outputs": [
    {
     "name": "stdout",
     "output_type": "stream",
     "text": [
      "(0.012741618068250544+0j)\n"
     ]
    }
   ],
   "source": [
    "projectors = np.zeros([2,2,2])\n",
    "projectors[0,0,0] = 1\n",
    "projectors[1,1,1] = 1\n",
    "\n",
    "def snapshot(angles,results):\n",
    "    \n",
    "    rho = np.eye(1)\n",
    "    for i_mmt, mmt in enumerate(results):\n",
    "        U = unitary(angles[0][i_mmt],angles[1][i_mmt],angles[2][i_mmt])\n",
    "        rho = np.kron(rho, 3 * np.conj((U.T)) @ projectors[:,:,mmt] @ U - np.eye(2))\n",
    "    \n",
    "    return rho\n",
    "\n",
    "N_rep = 10000\n",
    "rho = np.zeros([8,8],dtype='complex')\n",
    "for repetitions in range(N_rep):\n",
    "    angles = unitary_angles(3)\n",
    "    circuit = shadows(angles)\n",
    "    simulator = cirq.Simulator()\n",
    "    result = simulator.run(circuit).measurements['out'][0]\n",
    "\n",
    "    rho += snapshot(angles,result)\n",
    "\n",
    "rho /= N_rep\n",
    "\n",
    "rho_ex = np.zeros([8,8])\n",
    "rho_ex[0,0] = 1/2\n",
    "rho_ex[7,7] = 1/2\n",
    "rho_ex[0,7] = 1/2\n",
    "rho_ex[7,0] = 1/2\n",
    "print(np.trace(np.conj((rho-rho_ex).T)@(rho - rho_ex)))\n",
    "\n",
    "\n",
    "\n",
    "\n",
    "\n"
   ]
  },
  {
   "cell_type": "code",
   "execution_count": 123,
   "metadata": {},
   "outputs": [
    {
     "data": {
      "text/plain": [
       "array([[ 1.71068030e-02+0.00000000e+00j,  1.25784298e-03+2.63527824e-03j,\n",
       "        -4.52188821e-03+1.25899527e-03j, -4.93717891e-03+2.38595912e-03j,\n",
       "        -3.84740421e-03-2.07002961e-03j,  4.03771247e-03+1.72993465e-03j,\n",
       "        -8.01102510e-04+2.45740016e-03j,  3.80061964e-03+1.32616187e-03j],\n",
       "       [ 1.25784298e-03-2.63527824e-03j,  8.00259694e-03+0.00000000e+00j,\n",
       "         1.87703418e-03-1.12819727e-04j,  1.78776393e-03+2.22474883e-03j,\n",
       "        -7.25110224e-04+3.72986783e-03j, -3.91273544e-04+2.92581281e-03j,\n",
       "        -1.53840282e-03+1.23653040e-03j,  1.79616347e-03+2.29354268e-03j],\n",
       "       [-4.52188821e-03-1.25899527e-03j,  1.87703418e-03+1.12819727e-04j,\n",
       "         1.54426784e-02+0.00000000e+00j,  3.88321454e-03-1.88668069e-03j,\n",
       "        -2.60996838e-03-1.92435808e-03j,  4.19491012e-04-1.25198673e-03j,\n",
       "         4.49441605e-03+5.20424730e-03j,  2.19261948e-03-2.02914558e-03j],\n",
       "       [-4.93717891e-03-2.38595912e-03j,  1.78776393e-03-2.22474883e-03j,\n",
       "         3.88321454e-03+1.88668069e-03j,  1.78593621e-02+0.00000000e+00j,\n",
       "         5.92387896e-03+1.68738175e-03j, -4.60750458e-05+1.28513241e-04j,\n",
       "        -3.05642983e-03+2.29526670e-03j, -1.58109341e-03+8.71281108e-04j],\n",
       "       [-3.84740421e-03+2.07002961e-03j, -7.25110224e-04-3.72986783e-03j,\n",
       "        -2.60996838e-03+1.92435808e-03j,  5.92387896e-03-1.68738175e-03j,\n",
       "         1.23732053e-02+0.00000000e+00j, -8.66254927e-04+3.79652107e-05j,\n",
       "        -2.09691115e-03+2.33449768e-03j, -5.72241480e-03+4.59690014e-03j],\n",
       "       [ 4.03771247e-03-1.72993465e-03j, -3.91273544e-04-2.92581281e-03j,\n",
       "         4.19491012e-04+1.25198673e-03j, -4.60750458e-05-1.28513241e-04j,\n",
       "        -8.66254927e-04-3.79652107e-05j,  9.23004301e-03+0.00000000e+00j,\n",
       "        -2.91515104e-03+1.16210520e-03j, -1.25398785e-04+4.08716675e-03j],\n",
       "       [-8.01102510e-04-2.45740016e-03j, -1.53840282e-03-1.23653040e-03j,\n",
       "         4.49441605e-03-5.20424730e-03j, -3.05642983e-03-2.29526670e-03j,\n",
       "        -2.09691115e-03-2.33449768e-03j, -2.91515104e-03-1.16210520e-03j,\n",
       "         9.83652304e-03+0.00000000e+00j,  1.40207876e-03-7.40763282e-03j],\n",
       "       [ 3.80061964e-03-1.32616187e-03j,  1.79616347e-03-2.29354268e-03j,\n",
       "         2.19261948e-03+2.02914558e-03j, -1.58109341e-03-8.71281108e-04j,\n",
       "        -5.72241480e-03-4.59690014e-03j, -1.25398785e-04-4.08716675e-03j,\n",
       "         1.40207876e-03+7.40763282e-03j,  2.09124521e-02+0.00000000e+00j]])"
      ]
     },
     "execution_count": 123,
     "metadata": {},
     "output_type": "execute_result"
    }
   ],
   "source": [
    "np.conj((rho-rho_ex).T)@(rho - rho_ex)"
   ]
  },
  {
   "cell_type": "code",
   "execution_count": null,
   "metadata": {},
   "outputs": [],
   "source": []
  }
 ],
 "metadata": {
  "kernelspec": {
   "display_name": "Python 3.7.10 ('base')",
   "language": "python",
   "name": "python3"
  },
  "language_info": {
   "codemirror_mode": {
    "name": "ipython",
    "version": 3
   },
   "file_extension": ".py",
   "mimetype": "text/x-python",
   "name": "python",
   "nbconvert_exporter": "python",
   "pygments_lexer": "ipython3",
   "version": "3.7.10"
  },
  "orig_nbformat": 4,
  "vscode": {
   "interpreter": {
    "hash": "c14d112fde1918c7d4bab182e09a215b6c8b04c23366deecb76389864398d637"
   }
  }
 },
 "nbformat": 4,
 "nbformat_minor": 2
}
