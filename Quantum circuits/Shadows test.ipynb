{
 "cells": [
  {
   "cell_type": "code",
   "execution_count": 29,
   "metadata": {},
   "outputs": [],
   "source": [
    "import numpy as np\n",
    "from scipy.linalg import expm\n",
    "from matplotlib import pyplot as plt\n",
    "import cirq\n",
    "from cirq import H, CNOT, X"
   ]
  },
  {
   "cell_type": "code",
   "execution_count": 3,
   "metadata": {},
   "outputs": [],
   "source": [
    "ident = np.array([[1., 0.], [0., 1.]])\n",
    "sigma_x = np.array([[0., 1.], [1., 0.]])\n",
    "sigma_y = np.array([[0., -1.0j], [1.0j, 0.]])\n",
    "sigma_z = np.array([[1., 0.], [0., -1.]])"
   ]
  },
  {
   "cell_type": "code",
   "execution_count": 22,
   "metadata": {},
   "outputs": [],
   "source": [
    "# Random angles correctly sampled for the Haar measure\n",
    "\n",
    "def omega():\n",
    "    return np.random.rand() * np.pi * 2\n",
    "def phi ():\n",
    "    return np.random.rand() * np.pi * 2\n",
    "def theta():\n",
    "    return np.arccos(2 * np.random.rand() - 1)\n",
    "\n",
    "def unitary_angles(n_qubits):\n",
    "    omegas = [omega() for i in range(n_qubits)]\n",
    "    phis = [phi() for i in range(n_qubits)]\n",
    "    thetas = [theta() for i in range(n_qubits)]\n",
    "\n",
    "    return [phis,omegas,thetas]\n",
    "\n",
    "# Unitary matrix constructed from three angles\n",
    "\n",
    "def unitary(phi,omega,theta):\n",
    "    \n",
    "    return expm(-0.5j * omega * sigma_z) @ expm(-0.5j * theta * sigma_x) @ expm(-0.5j * phi * sigma_z)\n",
    "\n",
    "# Projectors onto |0> and |1> states for an invidual qubit\n",
    " \n",
    "projectors = np.zeros([2,2,2])\n",
    "projectors[0,0,0] = 1\n",
    "projectors[1,1,1] = 1"
   ]
  },
  {
   "cell_type": "code",
   "execution_count": 24,
   "metadata": {},
   "outputs": [
    {
     "name": "stdout",
     "output_type": "stream",
     "text": [
      "0: ───H───@───────Rz(1.66π)────Rx(0.845π)───Rz(0.469π)───M('out')───\n",
      "          │                                              │\n",
      "1: ───────X───@───Rz(1.11π)────Rx(0.707π)───Rz(1.44π)────M──────────\n",
      "              │                                          │\n",
      "2: ───────────X───Rz(0.246π)───Rx(0.374π)───Rz(0.284π)───M──────────\n"
     ]
    }
   ],
   "source": [
    "# Given an n-qubit circuit, attach the relevant random unitaries and measurements\n",
    "\n",
    "def shadows(qubits,circuit,angles,n_qubits):          # applies unitaries and measurement to first n qubits (i.e. put ancillas at the end)\n",
    "\n",
    "    shadows = cirq.Circuit()\n",
    "\n",
    "    # Attach circuit of interest\n",
    "\n",
    "    shadows.append(circuit)\n",
    "\n",
    "\n",
    "    # Random unitaries nitaries\n",
    "\n",
    "    shadows.append([cirq.rz(angles[0][i])(qubits[i]) for i in range(n_qubits)],strategy=cirq.circuits.InsertStrategy.NEW_THEN_INLINE)\n",
    "    shadows.append([cirq.rx(angles[2][i])(qubits[i]) for i in range(n_qubits)],strategy=cirq.circuits.InsertStrategy.NEW_THEN_INLINE)\n",
    "    shadows.append([cirq.rz(angles[1][i])(qubits[i]) for i in range(n_qubits)],strategy=cirq.circuits.InsertStrategy.NEW_THEN_INLINE)\n",
    "\n",
    "    # Measuring\n",
    "\n",
    "    shadows.append(cirq.measure(*qubits[0:n_qubits],key='out'))\n",
    "\n",
    "    return shadows\n",
    "\n",
    "# Example: GHZ circuit\n",
    "\n",
    "GHZ_qubits = cirq.LineQubit.range(3)\n",
    "\n",
    "GHZ_circuit = cirq.Circuit(cirq.H(GHZ_qubits[0]),\n",
    "                           cirq.CNOT(GHZ_qubits[0],GHZ_qubits[1]),\n",
    "                           cirq.CNOT(GHZ_qubits[1],GHZ_qubits[2]))\n",
    "\n",
    "print(shadows(GHZ_qubits,GHZ_circuit,unitary_angles(3),3))\n"
   ]
  },
  {
   "cell_type": "code",
   "execution_count": 30,
   "metadata": {},
   "outputs": [],
   "source": [
    "# More interesting example, the three edge setup with an ancilla and two plaquette defects\n",
    "\n",
    "fusion_qubits = cirq.LineQubit.range(11)\n",
    "g1_m, g1_R2, g1_R, g2_m, g2_R2, g2_R, g3_m, g3_R2, g3_R, x1, x2 = fusion_qubits\n",
    "\n",
    "fusion = cirq.Circuit()\n",
    "\n",
    "# Prepare ground state\n",
    "fusion.append([\n",
    "    H(g1_m),\n",
    "    H(g1_R2),\n",
    "    H(g2_R)\n",
    "])\n",
    "\n",
    "fusion.append([\n",
    "    CNOT(g1_m,g2_m),\n",
    "    CNOT(g1_m,g3_m),\n",
    "    CNOT(g1_R2,g2_R2),\n",
    "    CNOT(g1_R2,g3_R2),\n",
    "    CNOT(g1_R,g2_R),\n",
    "    CNOT(g1_R,g3_R),\n",
    "])\n",
    "\n",
    "# Prepare the ancilla in the superposition of the conjugacy class and multiply onto g1 and g2\n",
    "\n",
    "fusion.append([\n",
    "    H(x1),\n",
    "    CNOT(x1,x2)\n",
    "])\n",
    "\n",
    "fusion.append([\n",
    "    CNOT(x1,g1_R2),\n",
    "    X(g1_m),\n",
    "\n",
    "    CNOT(x2,g2_R2),\n",
    "    X(g2_m)\n",
    "])"
   ]
  },
  {
   "cell_type": "code",
   "execution_count": 28,
   "metadata": {},
   "outputs": [
    {
     "name": "stdout",
     "output_type": "stream",
     "text": [
      "(0.027071599440243444+0j)\n"
     ]
    }
   ],
   "source": [
    "# Reconstruct the 'snapshot' of the density matrix using unitary matrices\n",
    "\n",
    "def snapshot(angles,results):\n",
    "    \n",
    "    rho = np.eye(1)\n",
    "\n",
    "    for i_mmt, mmt in enumerate(results):\n",
    "        U = unitary(angles[0][i_mmt],angles[1][i_mmt],angles[2][i_mmt])\n",
    "        \n",
    "        rho = np.kron(rho, 3 * np.conj((U.T)) @ projectors[:,:,mmt] @ U - np.eye(2))\n",
    "    \n",
    "    return rho\n",
    "\n",
    "# Approximate the density matrix by averaging over snapshots\n",
    "\n",
    "n_qubits = 3\n",
    "\n",
    "qubits = GHZ_qubits\n",
    "circuit = GHZ_circuit\n",
    "\n",
    "N_rep = 500\n",
    "\n",
    "\n",
    "rho = np.zeros([2**n_qubits,2**n_qubits],dtype='complex')\n",
    "\n",
    "for repetitions in range(N_rep):\n",
    "    angles = unitary_angles(n_qubits)\n",
    "    \n",
    "    shadow_circuit = shadows(qubits,circuit,angles,n_qubits)\n",
    "\n",
    "    simulator = cirq.Simulator()\n",
    "    result = simulator.run(shadow_circuit).measurements['out'][0]\n",
    "\n",
    "    rho += snapshot(angles,result)\n",
    "\n",
    "rho /= N_rep\n",
    "\n",
    "# expected density matrix for 3 qubit GHZ\n",
    "rho_ex = np.zeros([8,8])\n",
    "rho_ex[0,0] = 1/2\n",
    "rho_ex[7,7] = 1/2\n",
    "rho_ex[0,7] = 1/2\n",
    "rho_ex[7,0] = 1/2\n",
    "\n",
    "print(np.trace(np.conj((rho-rho_ex).T)@(rho - rho_ex)))\n",
    "\n"
   ]
  }
 ],
 "metadata": {
  "kernelspec": {
   "display_name": "Python 3.7.10 ('base')",
   "language": "python",
   "name": "python3"
  },
  "language_info": {
   "codemirror_mode": {
    "name": "ipython",
    "version": 3
   },
   "file_extension": ".py",
   "mimetype": "text/x-python",
   "name": "python",
   "nbconvert_exporter": "python",
   "pygments_lexer": "ipython3",
   "version": "3.7.10"
  },
  "orig_nbformat": 4,
  "vscode": {
   "interpreter": {
    "hash": "c14d112fde1918c7d4bab182e09a215b6c8b04c23366deecb76389864398d637"
   }
  }
 },
 "nbformat": 4,
 "nbformat_minor": 2
}
