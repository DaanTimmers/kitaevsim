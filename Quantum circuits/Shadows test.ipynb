{
 "cells": [
  {
   "cell_type": "code",
   "execution_count": 1,
   "metadata": {},
   "outputs": [],
   "source": [
    "import numpy as np\n",
    "from scipy.linalg import expm\n",
    "from matplotlib import pyplot as plt\n",
    "import cirq"
   ]
  },
  {
   "cell_type": "code",
   "execution_count": 2,
   "metadata": {},
   "outputs": [],
   "source": [
    "ident = np.array([[1., 0.], [0., 1.]])\n",
    "sigma_x = np.array([[0., 1.], [1., 0.]])\n",
    "sigma_y = np.array([[0., -1.0j], [1.0j, 0.]])\n",
    "sigma_z = np.array([[1., 0.], [0., -1.]])"
   ]
  },
  {
   "cell_type": "code",
   "execution_count": 3,
   "metadata": {},
   "outputs": [],
   "source": [
    "def omega():\n",
    "    return np.random.rand() * np.pi * 2\n",
    "def phi ():\n",
    "    return np.random.rand() * np.pi * 2\n",
    "def theta():\n",
    "    return np.arccos(2 * np.random.rand() - 1)\n",
    "\n",
    "def unitary_angles(n_qubits):\n",
    "    omegas = [omega() for i in range(n_qubits)]\n",
    "    phis = [phi() for i in range(n_qubits)]\n",
    "    thetas = [theta() for i in range(n_qubits)]\n",
    "\n",
    "    return [phis,omegas,thetas]\n",
    "\n",
    "def unitary(phi,omega,theta):\n",
    "    \n",
    "    return expm(-0.5j * omega * sigma_z) @ expm(-0.5j * theta * sigma_x) @ expm(-0.5j * phi * sigma_z)"
   ]
  },
  {
   "cell_type": "code",
   "execution_count": 4,
   "metadata": {},
   "outputs": [
    {
     "name": "stdout",
     "output_type": "stream",
     "text": [
      "0: ───H───@───────Rz(0.93π)───Rx(0.559π)───Rz(1.21π)───M('out')───\n",
      "          │                                            │\n",
      "1: ───────X───@───Rz(1.66π)───Rx(0.461π)───Rz(1.17π)───M──────────\n",
      "              │                                        │\n",
      "2: ───────────X───Rz(1.75π)───Rx(0.679π)───Rz(0.35π)───M──────────\n"
     ]
    }
   ],
   "source": [
    "qubits = cirq.LineQubit.range(3)\n",
    "\n",
    "def shadows(angles):\n",
    "\n",
    "    shadows = cirq.Circuit()\n",
    "\n",
    "# Preparing GHZ state\n",
    "\n",
    "    shadows.append([cirq.H(qubits[0]),\n",
    "                    cirq.CNOT(qubits[0],qubits[1]),\n",
    "                    cirq.CNOT(qubits[1],qubits[2])\n",
    "                    ])\n",
    "\n",
    "# Unitaries\n",
    "\n",
    "    shadows.append([cirq.rz(angles[0][0])(qubits[0]), cirq.rz(angles[0][1])(qubits[1]), cirq.rz(angles[0][2])(qubits[2]),\n",
    "\n",
    "                    cirq.rx(angles[2][0])(qubits[0]), cirq.rx(angles[2][1])(qubits[1]), cirq.rx(angles[2][2])(qubits[2]),\n",
    "\n",
    "                    cirq.rz(angles[1][0])(qubits[0]), cirq.rz(angles[1][1])(qubits[1]), cirq.rz(angles[1][2])(qubits[2])],\n",
    "                    strategy=cirq.circuits.InsertStrategy.NEW_THEN_INLINE)\n",
    "\n",
    "# Measuring\n",
    "\n",
    "    shadows.append(cirq.measure(qubits[0],qubits[1],qubits[2],key='out'))\n",
    "\n",
    "    return shadows\n",
    "\n",
    "print(shadows(unitary_angles(3)))\n"
   ]
  },
  {
   "cell_type": "code",
   "execution_count": 5,
   "metadata": {},
   "outputs": [
    {
     "name": "stdout",
     "output_type": "stream",
     "text": [
      "(0.00863698193026017+0j)\n"
     ]
    }
   ],
   "source": [
    "projectors = np.zeros([2,2,2])\n",
    "projectors[0,0,0] = 1\n",
    "projectors[1,1,1] = 1\n",
    "\n",
    "def snapshot(angles,results):\n",
    "    \n",
    "    rho = np.eye(1)\n",
    "    for i_mmt, mmt in enumerate(results):\n",
    "        U = unitary(angles[0][i_mmt],angles[1][i_mmt],angles[2][i_mmt])\n",
    "        rho = np.kron(rho, 3 * np.conj((U.T)) @ projectors[:,:,mmt] @ U - np.eye(2))\n",
    "    \n",
    "    return rho\n",
    "\n",
    "N_rep = 10000\n",
    "rho = np.zeros([8,8],dtype='complex')\n",
    "for repetitions in range(N_rep):\n",
    "    angles = unitary_angles(3)\n",
    "    circuit = shadows(angles)\n",
    "    simulator = cirq.Simulator()\n",
    "    result = simulator.run(circuit).measurements['out'][0]\n",
    "\n",
    "    rho += snapshot(angles,result)\n",
    "\n",
    "rho /= N_rep\n",
    "\n",
    "rho_ex = np.zeros([8,8])\n",
    "rho_ex[0,0] = 1/2\n",
    "rho_ex[7,7] = 1/2\n",
    "rho_ex[0,7] = 1/2\n",
    "rho_ex[7,0] = 1/2\n",
    "print(np.trace(np.conj((rho-rho_ex).T)@(rho - rho_ex)))\n",
    "\n",
    "\n",
    "\n",
    "\n",
    "\n"
   ]
  }
 ],
 "metadata": {
  "kernelspec": {
   "display_name": "Python 3.7.10 ('base')",
   "language": "python",
   "name": "python3"
  },
  "language_info": {
   "codemirror_mode": {
    "name": "ipython",
    "version": 3
   },
   "file_extension": ".py",
   "mimetype": "text/x-python",
   "name": "python",
   "nbconvert_exporter": "python",
   "pygments_lexer": "ipython3",
   "version": "3.9.13"
  },
  "orig_nbformat": 4,
  "vscode": {
   "interpreter": {
    "hash": "c14d112fde1918c7d4bab182e09a215b6c8b04c23366deecb76389864398d637"
   }
  }
 },
 "nbformat": 4,
 "nbformat_minor": 2
}
