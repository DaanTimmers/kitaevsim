{
 "cells": [
  {
   "attachments": {},
   "cell_type": "markdown",
   "metadata": {},
   "source": [
    "# Preamble"
   ]
  },
  {
   "cell_type": "code",
   "execution_count": 1,
   "metadata": {},
   "outputs": [],
   "source": [
    "import numpy as np\n",
    "import itertools"
   ]
  },
  {
   "attachments": {},
   "cell_type": "markdown",
   "metadata": {},
   "source": [
    "Some Matrix functions:"
   ]
  },
  {
   "cell_type": "code",
   "execution_count": 2,
   "metadata": {},
   "outputs": [],
   "source": [
    "def dag(M):\n",
    "    return np.conjugate(M.T)\n",
    "def matInv(M):\n",
    "    return np.linalg.inv(M)\n",
    "def is_eq(A,B):\n",
    "    return np.allclose(A,B, rtol=1e-05, atol=1e-08)"
   ]
  },
  {
   "cell_type": "code",
   "execution_count": 3,
   "metadata": {},
   "outputs": [
    {
     "name": "stdout",
     "output_type": "stream",
     "text": [
      "(-0.49999999999999983+0.8660254037844387j)\n"
     ]
    }
   ],
   "source": [
    "om = np.exp(1.j*2*np.pi/3)\n",
    "print(om)"
   ]
  },
  {
   "cell_type": "code",
   "execution_count": 4,
   "metadata": {},
   "outputs": [
    {
     "name": "stdout",
     "output_type": "stream",
     "text": [
      "[[ 0.+0.j  0.+1.j]\n",
      " [-0.-1.j  0.+0.j]]\n",
      "True\n"
     ]
    }
   ],
   "source": [
    "A = np.array([[0, 1.j],[-1.j, 0]])\n",
    "print(A)\n",
    "print(is_eq(dag(A), matInv(A)))"
   ]
  },
  {
   "attachments": {},
   "cell_type": "markdown",
   "metadata": {},
   "source": [
    "# Fusion Rules and F- and R- Symbol Calculation\n",
    "\n",
    "## Fusion\n",
    "\n",
    "Using the Verlinde formula to get S-matrix and then using that to extract the fusion rules $N_{\\mathcal{A}\\mathcal{B}}^{\\mathcal{C}}$:\n",
    "\n",
    "$\\mathcal{S}_{\\mathcal{A}\\mathcal{B}} = \\frac{1}{|G|}\\sum_{h_i^A \\in C_A, h_j^B \\in C_B, h^A_i h^B_j = h^B_j h^A_i} \\chi^A((x_i^A)^{-1}h_j^B x_i^A)\\chi^B((x_j^B)^{-1}h_i^A x_j^B)$,\n",
    "\n",
    "where $x_i^A h_1^A(x_i^A)^{-1} = h_1^A$ which is a $C_A$ representative [alt. $q_c r \\bar{q}_c = c$].\n",
    "\n",
    "$N_{\\mathcal{A}\\mathcal{B}}^{\\mathcal{C}} = \\sum_\\mathcal{L} \\frac{\\mathcal{S}_{\\mathcal{A}\\mathcal{L}}\\mathcal{S}_{\\mathcal{B}\\mathcal{L}}\\mathcal{S}_{\\mathcal{C}\\mathcal{L}}^*}{\\mathcal{S}_{\\mathcal{0}\\mathcal{L}}}$.\n",
    "\n",
    "## F- and R-\n",
    "\n",
    "Imagine we hace a space $\\mathcal{H} = \\mathcal{H}_b \\otimes \\mathcal{H}_a$ we can project down to the space of irreducible representations by $\\mathcal{P}_{c}^{ba}(\\ket{c, \\mu}) \\propto \\sum_{h \\in G}\\sum_{z \\in Z(r)}R^\\dag_{\\mu\\mu}(z) B_h^b A_{q_c z \\bar{q}_c}^b \\otimes B_{h^{-1}c}^a A_{q_c z \\bar{q}_c}^a$, where $\\ket{c, \\mu} \\in \\mathcal{H}_c$.\n",
    "\n",
    "This allows us to define the splitting tree map: $\\phi_c^{ba}: \\mathcal{H}_c \\rightarrow \\mathcal{H}_b \\otimes \\mathcal{H}_a$ as $\\phi_c^{ba}(\\ket{c, \\mu}) = \\text{eig}(\\mathcal{P}_{c}^{ba}(\\ket{c, \\mu}), \\lambda = 1) \\times e^{i \\phi(c, \\mu)}$. The phase being set by requiring correct group action of $A_g^{ba} \\circ \\phi_c^{ba} \\circ A_{\\bar{g}}^{c} = \\phi_c^{ba} $.\n",
    "\n",
    "The braiding action $\\mathcal{B}_{ab}: \\mathcal{H}_a\\otimes\\mathcal{H}_b\\rightarrow\\mathcal{H}_b\\otimes\\mathcal{H}_a$ is given by: $Flip \\circ (\\sum_g A_g^a \\otimes B_g^b)$.\n",
    "\n",
    "Combining the two facts we can evaluate the R-symbol as: $\\mathcal{R}_c^{ab} \\propto (\\phi_c^{ba}(\\ket{c, \\mu}))^\\dag\\mathcal{B}_{ab}(\\phi_c^{ab}(\\ket{c, \\mu}))$, with condition $|\\mathcal{R}_c^{ab}| = 1$.\n",
    "\n",
    "### F- Symbol\n",
    "\n",
    "In a similar manner we can calculate the F-symbol as : $(\\mathcal{F}_a^{bcd})_{xy} \\propto (\\phi_y^{cd} \\circ \\phi_a^{by}(\\ket{c,\\mu}))^\\dag\\phi_x^{bc} \\circ \\phi_a^{xd}(\\ket{c,\\mu})$"
   ]
  },
  {
   "attachments": {},
   "cell_type": "markdown",
   "metadata": {},
   "source": [
    "## $S_3$"
   ]
  },
  {
   "attachments": {},
   "cell_type": "markdown",
   "metadata": {},
   "source": [
    "### Fusion Rule Calculations and Group Def"
   ]
  },
  {
   "cell_type": "code",
   "execution_count": 5,
   "metadata": {},
   "outputs": [],
   "source": [
    "G = np.zeros([3,3,6], complex)\n",
    "G[:,:,0] = np.eye(3) # The S_3 group via perm rep\n",
    "G[:,:,1] = np.array([[0, 1, 0],[1, 0, 0],[0, 0, 1]])\n",
    "G[:,:,2] = np.array([[1, 0, 0],[0, 0, 1],[0, 1, 0]]) # sigma\n",
    "G[:,:,3] = np.array([[0, 0, 1],[0, 1, 0],[1, 0, 0]])\n",
    "G[:,:,4] = np.array([[0, 0, 1],[1, 0, 0],[0, 1, 0]]) # mu\n",
    "G[:,:,5] = np.array([[0, 1, 0],[0, 0, 1],[1, 0, 0]])\n",
    "g_lab = ['e','12','23','13','123','132']\n",
    "g_lab_decomp = ['e','mm s m','s','m s mm','m','s m s']\n",
    "order = len(g_lab)\n",
    "\n",
    "C_e = np.array([0])  # Conj Classes\n",
    "C_s = np.array([1, 2, 3]) # 2 is the rep\n",
    "C_c = np.array([4, 5])\n",
    "# i - 1 ; j - 2 ; k - 3 !!!\n",
    "\n",
    "Z_e = np.array([0, 1, 2, 3, 4, 5])  # Centers Classes\n",
    "Z_s = np.array([0, 2])\n",
    "Z_c = np.array([0, 4, 5])\n",
    "\n",
    "X_e = np.array([0])  # Centers Classes\n",
    "X_s = np.array([3, 0, 1])\n",
    "X_c = np.array([0, 2])\n",
    "\n",
    "om = np.exp(1.j*2*np.pi/3) # chosen 3rd root of unity\n",
    "\n",
    "def q(c):\n",
    "    Q_C = [0, 3, 0, 1, 0, 2] # This for q_c instead\n",
    "    return Q_C[c]\n",
    "\n",
    "def grp_i(i):\n",
    "    return matInv(G[:,:,i])\n",
    "\n",
    "def index(h):\n",
    "    for i in range(order): # to be generalised\n",
    "        if np.array_equal(h, G[:,:,i]):\n",
    "            return i\n",
    "\n",
    "def inv(x):\n",
    "    for i in range(8): # to be generalised\n",
    "        if np.array_equal(matInv(G[:,:,x]), G[:,:,i]):\n",
    "            return i\n",
    "\n",
    "def grp(x):\n",
    "    return G[:,:, x] # USE G AS A GLOBAL VAR!!! ---- CAREFUL !"
   ]
  },
  {
   "cell_type": "code",
   "execution_count": 6,
   "metadata": {},
   "outputs": [
    {
     "name": "stdout",
     "output_type": "stream",
     "text": [
      "True\n",
      "True\n",
      "True\n",
      "True\n",
      "True\n",
      "True\n",
      "True\n",
      "True\n"
     ]
    }
   ],
   "source": [
    "print(is_eq(grp(2)@grp(4)@grp_i(2), grp(5)))\n",
    "print(is_eq(grp(2)@grp(5)@grp_i(2), grp(4)))\n",
    "print(is_eq(grp(2)@grp(1)@grp_i(2), grp(3)))\n",
    "print(is_eq(grp(2)@grp(3)@grp_i(2), grp(1)))\n",
    "print(is_eq(grp(4)@grp(2)@grp_i(4), grp(3)))\n",
    "print(is_eq(grp_i(4)@grp(2)@grp(4), grp(1)))\n",
    "print(is_eq(grp(4)@grp(5), grp(0)))\n",
    "print(is_eq(grp(4)@grp(4), grp(5)))"
   ]
  },
  {
   "cell_type": "code",
   "execution_count": 7,
   "metadata": {},
   "outputs": [],
   "source": [
    "# Def the Reps as Mats\n",
    "def Triv(x):\n",
    "    return np.array([[1]])\n",
    "def Sgn(x):\n",
    "    if (x in C_s):\n",
    "        return np.array([[-1]])\n",
    "    elif (x in C_e):\n",
    "        return np.array([[1]])\n",
    "    else:\n",
    "        return np.array([[1]])\n",
    "def E(x):\n",
    "    sigma = np.array([[0, 1],[1, 0]])\n",
    "    mu = np.array([[om, 0],[0, 1/om]])\n",
    "    if x == 0:\n",
    "        return np.eye(2)\n",
    "    elif x == 1:\n",
    "        return mu@mu@sigma@mu\n",
    "    elif x == 2:\n",
    "        return sigma\n",
    "    elif x == 3:\n",
    "        return mu@sigma@mu@mu\n",
    "    elif x == 4:\n",
    "        return mu\n",
    "    else:\n",
    "        return mu@mu\n",
    "def Sgn_2(x):\n",
    "    if (x in C_s):\n",
    "        return np.array([[-1]])\n",
    "    elif (x in C_e):\n",
    "        return np.array([[1]])\n",
    "    else:\n",
    "        return np.array([[0]])\n",
    "def Om_1(x):\n",
    "    if x in [0]:\n",
    "        return np.array([[1]])\n",
    "    elif x in [4]:\n",
    "        return np.array([[om]])\n",
    "    elif x in [5]:\n",
    "        return np.array([[1/om]])\n",
    "    else:\n",
    "        return np.array([[0]])\n",
    "def Om_2(x):\n",
    "    if x in [0]:\n",
    "        return np.array([[1]])\n",
    "    elif x in [4]:\n",
    "        return np.array([[1/om]])\n",
    "    elif x in [5]:\n",
    "        return np.array([[om]])\n",
    "    else:\n",
    "        return np.array([[0]])"
   ]
  },
  {
   "cell_type": "code",
   "execution_count": 8,
   "metadata": {},
   "outputs": [],
   "source": [
    "# Def chars of Reps\n",
    "def triv(x):\n",
    "    return 1\n",
    "def sgn(x):\n",
    "    if (x in C_s):\n",
    "        return -1\n",
    "    elif (x in C_e):\n",
    "        return 1\n",
    "    else:\n",
    "        return 1\n",
    "def e(x):\n",
    "    if (x in C_s):\n",
    "        return 0\n",
    "    elif (x in C_e):\n",
    "        return 2\n",
    "    else:\n",
    "        return -1\n",
    "def sgn_2(x):\n",
    "    if (x in C_s):\n",
    "        return -1\n",
    "    elif (x in C_e):\n",
    "        return 1\n",
    "    else:\n",
    "        return 0\n",
    "def om_1(x):\n",
    "    if x in [0]:\n",
    "        return 1\n",
    "    elif x in [4]:\n",
    "        return om\n",
    "    elif x in [5]:\n",
    "        return 1/om\n",
    "    else:\n",
    "        return 0\n",
    "def om_2(x):\n",
    "    if x in [0]:\n",
    "        return 1\n",
    "    elif x in [4]:\n",
    "        return 1/om\n",
    "    elif x in [5]:\n",
    "        return om\n",
    "    else:\n",
    "        return 0\n"
   ]
  },
  {
   "cell_type": "code",
   "execution_count": 9,
   "metadata": {},
   "outputs": [],
   "source": [
    "# Def some AUX Info about the reps of D(S3)\n",
    "Z_s_Q = [Z_e, Z_e, Z_e, Z_s, Z_s, Z_c, Z_c, Z_c] # Don't mind the _Q for Q8\n",
    "Dim_s_Q = [1,1,2,3,3,2,2,2]\n",
    "C_mods_Q = [1,1,1,3,3,2,2,2]\n",
    "chi_mods_Q = [1,1,2,1,1,1,1,1]\n",
    "Z_reps_Q = [Triv, Sgn, E, Triv, Sgn_2, Triv, Om_1, Om_2]\n",
    "C_s_Q = [C_e, C_e, C_e, C_s, C_s, C_c, C_c, C_c]\n",
    "Z_charges = [triv, sgn, e, triv, sgn_2, triv, om_1, om_2]\n",
    "Particles_lab_Q = ['A', 'B', 'C', 'D', 'E', 'F', 'G', 'H']\n",
    "p_num = 8\n",
    "N_anyons = p_num\n",
    "Particles_Q = [(i, Dim_s_Q[i], C_s_Q[i],  C_mods_Q[i], Z_s_Q[i], Z_charges[i], Z_reps_Q[i], chi_mods_Q[i], Particles_lab_Q[i]) for i in range(N_anyons)]"
   ]
  },
  {
   "cell_type": "code",
   "execution_count": 10,
   "metadata": {},
   "outputs": [],
   "source": [
    "# Def Particles and some Fns\n",
    "\n",
    "S = np.zeros([p_num,p_num], complex)\n",
    "for i, _, C_i, _, _, char_i, _, _,_ in Particles_Q:\n",
    "    for j, _, C_j, _, _, char_j, _, _,_ in Particles_Q:\n",
    "        s = 0 \n",
    "        for i_class, elem_i_class in enumerate(C_i):\n",
    "            for j_class, elem_j_class in enumerate(C_j):\n",
    "                if is_eq(grp(elem_i_class)@grp(elem_j_class), grp(elem_j_class)@grp(elem_i_class)):\n",
    "                    s+=char_i(index(grp_i(q(elem_i_class))@grp(elem_j_class)@grp(q(elem_i_class))))*char_j(index(grp_i(q(elem_j_class))@grp(elem_i_class)@grp(q(elem_j_class))))\n",
    "        S[i,j] = s # maybe conj\n",
    "\n",
    "S_Q = S/order\n",
    "# print('\\n'.join([''.join(['{:4}'.format(item) for item in row]) \n",
    "#      for row in S]))\n",
    "N_Q = np.zeros([p_num,p_num,p_num])\n",
    "for I in range(p_num):\n",
    "    for J in range(p_num):\n",
    "        for K in range(p_num):\n",
    "            for L in range(p_num):\n",
    "                N_Q[I,J,K] += np.real(S_Q[I,L]*S_Q[J,L]*np.conj(S_Q[K,L])/S_Q[0,L])\n",
    "N_Q = np.round(N_Q,1)"
   ]
  },
  {
   "attachments": {},
   "cell_type": "markdown",
   "metadata": {},
   "source": [
    "Query the S matrix:"
   ]
  },
  {
   "cell_type": "code",
   "execution_count": 11,
   "metadata": {},
   "outputs": [
    {
     "name": "stdout",
     "output_type": "stream",
     "text": [
      "E , F\n",
      "S_{aa}=(0.5+0j)\n",
      "S_{bb}=(0.6666666666666666+0j)\n",
      "S_{ab}=0j\n",
      "S_{ba}=0j\n",
      "S_{0a}=(0.3333333333333333+0j)\n",
      "S_{a0}=(0.3333333333333333+0j)\n",
      "S_{0a}=(0.5+0j)\n",
      "S_{a0}=(0.5+0j)\n"
     ]
    }
   ],
   "source": [
    "an_1 = 4\n",
    "an_2 = 5\n",
    "print(Particles_lab_Q[an_1],',', Particles_lab_Q[an_2])\n",
    "print('S_{aa}='+str(S_Q[an_1, an_1]))\n",
    "print('S_{bb}='+str(S_Q[an_2, an_2]))\n",
    "print('S_{ab}='+str(S_Q[an_1, an_2]))\n",
    "print('S_{ba}='+str(S_Q[an_2, an_1]))\n",
    "print('S_{0a}='+str(S_Q[0, an_2]))\n",
    "print('S_{a0}='+str(S_Q[an_2, 0]))\n",
    "print('S_{0a}='+str(S_Q[0, an_1]))\n",
    "print('S_{a0}='+str(S_Q[an_1, 0]))"
   ]
  },
  {
   "attachments": {},
   "cell_type": "markdown",
   "metadata": {},
   "source": [
    "Query the fusion rules:"
   ]
  },
  {
   "cell_type": "code",
   "execution_count": 12,
   "metadata": {},
   "outputs": [
    {
     "name": "stdout",
     "output_type": "stream",
     "text": [
      "G x G =\n",
      "1.0 x A\n",
      "1.0 x B\n",
      "1.0 x G\n"
     ]
    }
   ],
   "source": [
    "i_1 = 6 # Prints fusion rules\n",
    "i_2 = 6\n",
    "print(Particles_lab_Q[i_1],'x', Particles_lab_Q[i_2], '=')\n",
    "for i, indicator in enumerate(N_Q[i_1,i_2,:]):\n",
    "    if np.round(indicator,1) != 0:\n",
    "        print(np.round(indicator,1),'x', Particles_lab_Q[i])\n",
    "S_r = 8*np.real(S)"
   ]
  },
  {
   "attachments": {},
   "cell_type": "markdown",
   "metadata": {},
   "source": [
    "### Defining $D(Q_8)$ representation matrices\n"
   ]
  },
  {
   "attachments": {},
   "cell_type": "markdown",
   "metadata": {},
   "source": [
    "\n",
    "#### $A_g:$"
   ]
  },
  {
   "cell_type": "code",
   "execution_count": 13,
   "metadata": {},
   "outputs": [],
   "source": [
    "def a_mat(an_type, g):\n",
    "    # Basis is |c \\mu> \n",
    "    (id, d, C, C_mod, Z_set, char, Z_rep, chi_mod, lab) = Particles_Q[an_type]\n",
    "    # use q(c) instead of X set\n",
    "    A = np.zeros([d, d], dtype=complex)\n",
    "    for i_c, c in enumerate(C):\n",
    "        for mu in range(chi_mod):\n",
    "            for i_cp, c_prim in enumerate(C):\n",
    "                for nu in range(chi_mod):\n",
    "                    if is_eq(grp(c_prim), grp(g)@grp(c)@grp_i(g)):\n",
    "                        rep_map = Z_rep(index( grp_i(q(c_prim))@grp(g)@grp(q(c)) ))\n",
    "                        mat_elem = rep_map[mu,nu]\n",
    "                        A[i_cp*chi_mod+nu, i_c*chi_mod+mu]=mat_elem\n",
    "    return A\n"
   ]
  },
  {
   "attachments": {},
   "cell_type": "markdown",
   "metadata": {},
   "source": [
    "#### $B_h:$"
   ]
  },
  {
   "cell_type": "code",
   "execution_count": 14,
   "metadata": {},
   "outputs": [],
   "source": [
    "def b_mat(an_type, g):\n",
    "    # Basis is |c \\mu> \n",
    "    (id, d, C, C_mod, Z_set, char, Z_rep, chi_mod, lab) = Particles_Q[an_type]\n",
    "    # use q(c) instead of X set\n",
    "    B = np.zeros([d, d], dtype=complex)\n",
    "    for i_c, c in enumerate(C):\n",
    "        for mu in range(chi_mod):        \n",
    "            if g == c:\n",
    "                B[i_c*chi_mod+mu, i_c*chi_mod+mu]=1\n",
    "    return B"
   ]
  },
  {
   "attachments": {},
   "cell_type": "markdown",
   "metadata": {},
   "source": [
    "#### Query the Matrices:"
   ]
  },
  {
   "cell_type": "code",
   "execution_count": 15,
   "metadata": {},
   "outputs": [],
   "source": [
    "def mat_2d_lab(x):\n",
    "    if np.size(x) == 4:\n",
    "        if is_eq(x, np.array([[1+0j,0j],[0j,1+0j]])):\n",
    "            return \"E_2\"\n",
    "        if is_eq(x, np.array([[-1+0j,0j],[0j,-1+0j]])):\n",
    "            return \"-E_2\"\n",
    "        if is_eq(x, np.array([[1+0j,0j],[0j,-1+0j]])):\n",
    "            return \"Z\"\n",
    "        if is_eq(x, np.array([[-1+0j,0j],[0j,1+0j]])):\n",
    "            return \"-Z\"\n",
    "        if is_eq(x, np.array([[0j,1+0j],[1+0j,0j]])):\n",
    "            return \"X\"\n",
    "        if is_eq(x, np.array([[0j,-1+0j],[-1+0j,0j]])):\n",
    "            return \"-X\"\n",
    "        if is_eq(x, np.array([[0j,1+0j],[-1+0j,0j]])):\n",
    "            return \"jY\"\n",
    "        if is_eq(x, np.array([[0j,-1+0j],[1+0j,0j]])):\n",
    "            return \"-jY\"\n",
    "        if is_eq(x, np.array([[0j,0j],[0j,1+0j]])):\n",
    "            return \"Pd\"\n",
    "        if is_eq(x, np.array([[1+0j,0j],[0j,0j]])):\n",
    "            return \"Pu\"\n",
    "        if is_eq(x, np.array([[0j,0j],[0j,0j]])):\n",
    "            return \"0_2\" \n",
    "        if is_eq(x, np.array([[-0.-1.j,  0.+0.j],[ 0.+0.j,  0.+1.j]])):\n",
    "            return \"-jZ\"\n",
    "        if is_eq(x, np.array([[-0.+1.j,  0.+0.j],[ 0.+0.j,  0.-1.j]])):\n",
    "            return \"jZ\"\n",
    "        if is_eq(x, np.array([[ 0.+0.j,  0.+1.j],[-0.-1.j,  0.+0.j]])):\n",
    "            return \"-Y\"\n",
    "        if is_eq(x, np.array([[ 0.+0.j,  0.-1.j],[-0.+1.j,  0.+0.j]])):\n",
    "            return \"Y\"\n",
    "        if is_eq(x, a_mat(2,1)):\n",
    "            return \"X e^(i 2\\pi/3 Z)\"\n",
    "        if is_eq(x, a_mat(2,3)):\n",
    "            return \"X e^(-i 2\\pi/3 Z)\"\n",
    "        if is_eq(x, a_mat(2,4)):\n",
    "            return \"e^(i 2\\pi/3 Z)\"\n",
    "        if is_eq(x, a_mat(2,5)):\n",
    "            return \"e^(-i 2\\pi/3 Z)\"\n",
    "    if np.size(x) == 1:\n",
    "        if is_eq(x, np.array([[1]])):\n",
    "            return \"1\"\n",
    "        if is_eq(x, np.array([[0]])):\n",
    "            return \"0\" # maybe dif 2d and 1d 0?\n",
    "        if is_eq(x, np.array([[-1]])):\n",
    "            return \"-1\"\n",
    "    if np.size(x) == 9:\n",
    "        return np.array2string(x)\n",
    "\n",
    "    return \"Error\"\n",
    "\n",
    "import pandas as pd"
   ]
  },
  {
   "cell_type": "code",
   "execution_count": 16,
   "metadata": {},
   "outputs": [
    {
     "data": {
      "text/plain": [
       "array([[ 0.+0.j,  0.+0.j,  1.+0.j],\n",
       "       [-1.+0.j,  0.+0.j,  0.+0.j],\n",
       "       [ 0.+0.j, -1.+0.j,  0.+0.j]])"
      ]
     },
     "execution_count": 16,
     "metadata": {},
     "output_type": "execute_result"
    }
   ],
   "source": [
    "a_mat(4,4)"
   ]
  },
  {
   "cell_type": "code",
   "execution_count": 17,
   "metadata": {},
   "outputs": [],
   "source": [
    "from IPython.display import display_html\n",
    "from itertools import chain,cycle\n",
    "def display_side_by_side(*args,titles=cycle([''])):\n",
    "    html_str=''\n",
    "    for df,title in zip(args, chain(titles,cycle(['</br>'])) ):\n",
    "        html_str+='<th style=\"text-align:center\"><td style=\"vertical-align:top\">'\n",
    "        html_str+=f'<h2 style=\"text-align: center;\">{title}</h2>'\n",
    "        html_str+=df.to_html().replace('table','table style=\"display:inline\"')\n",
    "        html_str+='</td></th>'\n",
    "    display_html(html_str,raw=True)"
   ]
  },
  {
   "cell_type": "code",
   "execution_count": 18,
   "metadata": {},
   "outputs": [
    {
     "data": {
      "text/plain": [
       "4"
      ]
     },
     "execution_count": 18,
     "metadata": {},
     "output_type": "execute_result"
    }
   ],
   "source": [
    "np.size(np.array([[2,2 ],[3,2]]))"
   ]
  },
  {
   "cell_type": "code",
   "execution_count": 19,
   "metadata": {},
   "outputs": [
    {
     "data": {
      "text/html": [
       "<th style=\"text-align:center\"><td style=\"vertical-align:top\"><h2 style=\"text-align: center;\"></h2><table style=\"display:inline\" border=\"1\" class=\"dataframe\">\n",
       "  <thead>\n",
       "    <tr style=\"text-align: right;\">\n",
       "      <th></th>\n",
       "      <th>A_g</th>\n",
       "      <th>e</th>\n",
       "      <th>12</th>\n",
       "      <th>23</th>\n",
       "      <th>13</th>\n",
       "      <th>123</th>\n",
       "      <th>132</th>\n",
       "    </tr>\n",
       "  </thead>\n",
       "  <tbody>\n",
       "    <tr>\n",
       "      <th>0</th>\n",
       "      <td>A</td>\n",
       "      <td>1</td>\n",
       "      <td>1</td>\n",
       "      <td>1</td>\n",
       "      <td>1</td>\n",
       "      <td>1</td>\n",
       "      <td>1</td>\n",
       "    </tr>\n",
       "    <tr>\n",
       "      <th>1</th>\n",
       "      <td>B</td>\n",
       "      <td>1</td>\n",
       "      <td>-1</td>\n",
       "      <td>-1</td>\n",
       "      <td>-1</td>\n",
       "      <td>1</td>\n",
       "      <td>1</td>\n",
       "    </tr>\n",
       "    <tr>\n",
       "      <th>2</th>\n",
       "      <td>C</td>\n",
       "      <td>E_2</td>\n",
       "      <td>X e^(i 2\\pi/3 Z)</td>\n",
       "      <td>X</td>\n",
       "      <td>X e^(-i 2\\pi/3 Z)</td>\n",
       "      <td>e^(i 2\\pi/3 Z)</td>\n",
       "      <td>e^(-i 2\\pi/3 Z)</td>\n",
       "    </tr>\n",
       "    <tr>\n",
       "      <th>3</th>\n",
       "      <td>D</td>\n",
       "      <td>[[1.+0.j 0.+0.j 0.+0.j]\\n [0.+0.j 1.+0.j 0.+0.j]\\n [0.+0.j 0.+0.j 1.+0.j]]</td>\n",
       "      <td>[[1.+0.j 0.+0.j 0.+0.j]\\n [0.+0.j 0.+0.j 1.+0.j]\\n [0.+0.j 1.+0.j 0.+0.j]]</td>\n",
       "      <td>[[0.+0.j 0.+0.j 1.+0.j]\\n [0.+0.j 1.+0.j 0.+0.j]\\n [1.+0.j 0.+0.j 0.+0.j]]</td>\n",
       "      <td>[[0.+0.j 1.+0.j 0.+0.j]\\n [1.+0.j 0.+0.j 0.+0.j]\\n [0.+0.j 0.+0.j 1.+0.j]]</td>\n",
       "      <td>[[0.+0.j 0.+0.j 1.+0.j]\\n [1.+0.j 0.+0.j 0.+0.j]\\n [0.+0.j 1.+0.j 0.+0.j]]</td>\n",
       "      <td>[[0.+0.j 1.+0.j 0.+0.j]\\n [0.+0.j 0.+0.j 1.+0.j]\\n [1.+0.j 0.+0.j 0.+0.j]]</td>\n",
       "    </tr>\n",
       "    <tr>\n",
       "      <th>4</th>\n",
       "      <td>E</td>\n",
       "      <td>[[1.+0.j 0.+0.j 0.+0.j]\\n [0.+0.j 1.+0.j 0.+0.j]\\n [0.+0.j 0.+0.j 1.+0.j]]</td>\n",
       "      <td>[[-1.+0.j  0.+0.j  0.+0.j]\\n [ 0.+0.j  0.+0.j  1.+0.j]\\n [ 0.+0.j  1.+0.j  0.+0.j]]</td>\n",
       "      <td>[[ 0.+0.j  0.+0.j -1.+0.j]\\n [ 0.+0.j -1.+0.j  0.+0.j]\\n [-1.+0.j  0.+0.j  0.+0.j]]</td>\n",
       "      <td>[[ 0.+0.j  1.+0.j  0.+0.j]\\n [ 1.+0.j  0.+0.j  0.+0.j]\\n [ 0.+0.j  0.+0.j -1.+0.j]]</td>\n",
       "      <td>[[ 0.+0.j  0.+0.j  1.+0.j]\\n [-1.+0.j  0.+0.j  0.+0.j]\\n [ 0.+0.j -1.+0.j  0.+0.j]]</td>\n",
       "      <td>[[ 0.+0.j -1.+0.j  0.+0.j]\\n [ 0.+0.j  0.+0.j -1.+0.j]\\n [ 1.+0.j  0.+0.j  0.+0.j]]</td>\n",
       "    </tr>\n",
       "    <tr>\n",
       "      <th>5</th>\n",
       "      <td>F</td>\n",
       "      <td>E_2</td>\n",
       "      <td>X</td>\n",
       "      <td>X</td>\n",
       "      <td>X</td>\n",
       "      <td>E_2</td>\n",
       "      <td>E_2</td>\n",
       "    </tr>\n",
       "    <tr>\n",
       "      <th>6</th>\n",
       "      <td>G</td>\n",
       "      <td>E_2</td>\n",
       "      <td>X e^(-i 2\\pi/3 Z)</td>\n",
       "      <td>X</td>\n",
       "      <td>X e^(i 2\\pi/3 Z)</td>\n",
       "      <td>e^(i 2\\pi/3 Z)</td>\n",
       "      <td>e^(-i 2\\pi/3 Z)</td>\n",
       "    </tr>\n",
       "    <tr>\n",
       "      <th>7</th>\n",
       "      <td>H</td>\n",
       "      <td>E_2</td>\n",
       "      <td>X e^(i 2\\pi/3 Z)</td>\n",
       "      <td>X</td>\n",
       "      <td>X e^(-i 2\\pi/3 Z)</td>\n",
       "      <td>e^(-i 2\\pi/3 Z)</td>\n",
       "      <td>e^(i 2\\pi/3 Z)</td>\n",
       "    </tr>\n",
       "  </tbody>\n",
       "</table style=\"display:inline\"></td></th>"
      ]
     },
     "metadata": {},
     "output_type": "display_data"
    }
   ],
   "source": [
    "data = {g_lab[m]:list(itertools.chain(*zip([mat_2d_lab(a_mat(i,m)) for i in range(N_anyons)],[mat_2d_lab(b_mat(i,m)) for i in range(N_anyons)]))) for m in range(6)}\n",
    "data_a = {**{\"A_g\":[Particles_lab_Q[j] for j in range(N_anyons)]},**{g_lab[m]:[mat_2d_lab(a_mat(i,m)) for i in range(N_anyons)] for m in range(6)}}\n",
    "data_b = {**{\"B_h\":[Particles_lab_Q[j] for j in range(N_anyons)]},**{g_lab[m]:[mat_2d_lab(b_mat(i,m)) for i in range(N_anyons)] for m in range(6)}}\n",
    "\n",
    "mindex = pd.MultiIndex.from_product([[Particles_lab_Q[j] for j in range(N_anyons)],[\"A_g\", \"B_h\"]], names=[\"first\", \"second\"])\n",
    "df = pd.DataFrame(data, index=mindex)\n",
    "df_a = pd.DataFrame(data_a)\n",
    "df_b = pd.DataFrame(data_b)\n",
    "\n",
    "#print(df_a.to_latex(index=False))\n",
    "display_side_by_side(df_a)"
   ]
  },
  {
   "cell_type": "code",
   "execution_count": 20,
   "metadata": {},
   "outputs": [
    {
     "data": {
      "text/plain": [
       "array([[1.+0.j, 0.+0.j, 0.+0.j],\n",
       "       [0.+0.j, 0.+0.j, 1.+0.j],\n",
       "       [0.+0.j, 1.+0.j, 0.+0.j]])"
      ]
     },
     "execution_count": 20,
     "metadata": {},
     "output_type": "execute_result"
    }
   ],
   "source": [
    "a_mat(3, 1)"
   ]
  },
  {
   "attachments": {},
   "cell_type": "markdown",
   "metadata": {},
   "source": [
    "### The fusion projectors and plitting tree maps"
   ]
  },
  {
   "cell_type": "code",
   "execution_count": 21,
   "metadata": {},
   "outputs": [],
   "source": [
    "def fusion_products(an_1, an_2):\n",
    "    res = []\n",
    "    for i, indicator in enumerate(N_Q[an_1,an_2,:]):\n",
    "        if indicator != 0:\n",
    "            res += [i]\n",
    "    return res\n",
    "\n",
    "def do_they_fuse(an_1, an_2, an_3):\n",
    "    return an_3 in fusion_products(an_1, an_2)\n",
    "\n",
    "def proj_norm(P):\n",
    "    a = np.trace(P)\n",
    "    b = np.trace(P@P)\n",
    "    return P*a/b\n",
    "\n",
    "def splitting_tree(an_1, an_2, an_3, id): #Only good if id = 0\n",
    "    Pro = rep_proj_spec(an_1, an_2, an_3, id)\n",
    "    w, v = np.linalg.eig(Pro)\n",
    "    for i_lam, lam in enumerate(w):\n",
    "        if np.round(lam, 2) == 1:\n",
    "            Vec = v[:,i_lam]\n",
    "    return Vec\n",
    "\n",
    "def splitting_tree_proper(an_1, an_2, an_3): #Returns a properlt gauge fixed basis\n",
    "    (_, d_3, _, _, _, _, _, _, _) = Particles_Q[an_3]\n",
    "    (_, d_2, _, _, _, _, _, _, _) = Particles_Q[an_2]\n",
    "    (_, d_1, _, _, _, _, _, _, _) = Particles_Q[an_1]\n",
    "    Basis_unfixed = []\n",
    "    order = np.size(G[0,0,:])\n",
    "    for i_3 in range(d_3):\n",
    "        Basis_unfixed += [splitting_tree(an_1, an_2, an_3, i_3)]\n",
    "    Basis_fixed = Basis_unfixed\n",
    "    if d_3 == 1:\n",
    "        return Basis_fixed\n",
    "    else:\n",
    "        for i_3 in range(1,d_3):\n",
    "            not_done = 1\n",
    "            for g in range(order):\n",
    "                if not_done:\n",
    "                    Vec_3 = np.zeros([d_1*d_2], dtype=complex)\n",
    "                    for mat_mul in range(d_3):\n",
    "                        Vec_3 += a_mat(an_3, g)[0,mat_mul]*Basis_unfixed[mat_mul]\n",
    "                    Vec_12 = np.kron(a_mat(an_1, g), a_mat(an_2, g))@Basis_unfixed[0]\n",
    "                    overlap_12 = np.vdot(Basis_unfixed[i_3], Vec_3)\n",
    "                    overlap_3 = np.vdot(Basis_unfixed[i_3], Vec_12)\n",
    "                    if overlap_12 != 0 and overlap_3 != 0:\n",
    "                        Basis_fixed[i_3] = Basis_unfixed[i_3]*overlap_12/overlap_3\n",
    "                        not_done = 0\n",
    "    return Basis_fixed\n",
    "\n",
    "\n",
    "\n",
    "\n",
    "def rep_proj(an_1, an_2, an_3):\n",
    "    (id_3, _, C_3, _, Z_3, char_3, Z_rep_3, chi_mod_3, _) = Particles_Q[an_3]\n",
    "    (_, d_2, _, _, _, _, _, _, _) = Particles_Q[an_2]\n",
    "    (_, d_1, _, _, _, _, _, _, _) = Particles_Q[an_1]\n",
    "    Res = np.zeros([d_1*d_2,d_1*d_2], dtype=complex)\n",
    "    for c in C_3:\n",
    "        for z in Z_3:\n",
    "            for h in range(order):\n",
    "                Res += np.conjugate(char_3(z))*np.kron( b_mat(an_1, index( grp_i(h)@grp(c) ) ) @ a_mat(an_1,index( grp(q(c))@grp(z)@grp_i(q(c)) )),\n",
    "                b_mat(an_2,h) @ a_mat(an_2,index( grp(q(c))@grp(z)@grp_i(q(c)) )) )\n",
    "    return proj_norm(Res) # Normalisation issues :(\n",
    "\n",
    "def rep_proj_spec(an_1, an_2, an_3, id):# Basis is |c \\mu> # NOT SURE if the FORM is correct \n",
    "    (id_3, _, C_3, _, Z_3, char_3, Z_rep_3, chi_mod_3, _) = Particles_Q[an_3]\n",
    "    (_, d_2, _, _, _, _, _, _, _) = Particles_Q[an_2]\n",
    "    (_, d_1, _, _, _, _, _, _, _) = Particles_Q[an_1]\n",
    "    Res = np.zeros([d_1*d_2,d_1*d_2], dtype=complex)\n",
    "    i_c = int(np.floor(id/chi_mod_3))\n",
    "    c = C_3[i_c]\n",
    "    mu = np.mod(id,chi_mod_3)\n",
    "    for z in Z_3:\n",
    "        for h in range(order):\n",
    "            Res += Z_rep_3(z)[mu,mu].conj()*np.kron( b_mat(an_1, # Investigate does this one work???\n",
    "            index( grp_i(h)@grp(c) ) ) @ a_mat(an_1,\n",
    "            index( grp(q(c))@grp(z)@grp_i(q(c)) )),\n",
    "            b_mat(an_2,h) @ a_mat(an_2,index( grp(q(c))@grp(z)@grp_i(q(c)) )) )\n",
    "    return proj_norm(Res) # Normalisation issues :(\n",
    "\n"
   ]
  },
  {
   "cell_type": "code",
   "execution_count": 22,
   "metadata": {},
   "outputs": [
    {
     "data": {
      "text/plain": [
       "6"
      ]
     },
     "execution_count": 22,
     "metadata": {},
     "output_type": "execute_result"
    }
   ],
   "source": [
    "np.size(G[0,0,:])"
   ]
  },
  {
   "attachments": {},
   "cell_type": "markdown",
   "metadata": {},
   "source": [
    "### The R-sym Calculation:"
   ]
  },
  {
   "cell_type": "code",
   "execution_count": 23,
   "metadata": {},
   "outputs": [],
   "source": [
    "def r_symbol(an_1, an_2, an_3):\n",
    "    (_, d_2, _, _, _, _, _, _, _) = Particles_Q[an_2]\n",
    "    (_, d_1, _, _, _, _, _, _, _) = Particles_Q[an_1]\n",
    "    T = np.zeros([d_1*d_2, d_1*d_2], dtype=complex)\n",
    "    # T_k = np.zeros([d_1*d_2, d_1*d_2], dtype=complex)\n",
    "    for g in range(order):\n",
    "        T += np.kron(a_mat(an_1,g), b_mat(an_2,g))\n",
    "        # T_k += np.kron(b_mat(an_2,g), a_mat(an_1,g))\n",
    "    # print('apply', T)\n",
    "    F = np.zeros([d_1*d_2, d_1*d_2])\n",
    "    for i in range(d_1):\n",
    "        for j in range(d_2):\n",
    "            for m in range(d_2):\n",
    "                for n in range(d_1):\n",
    "                    if i == n and j == m:\n",
    "                        F[m*d_1+n, i*d_2 + j] = 1\n",
    "\n",
    "    # Contrcut the Splitting Tree Basis!\n",
    "    Vec_1 = splitting_tree(an_2, an_1, an_3,0)\n",
    "    Vec_2 = splitting_tree(an_1, an_2, an_3,0) \n",
    "    Vec_2 = F@T@Vec_2 # The other way gives 0\n",
    "    # print(Vec_1)\n",
    "    # print(Vec_2)\n",
    "    overlap = np.round(np.vdot(Vec_1, Vec_2),2) # issue !!!!\n",
    "    # print(Vec_1, Vec_2)\n",
    "    return overlap\n",
    "    \n",
    "def fusion_and_braid(an_1, an_2): # Depends on a lot of outside variables!!!\n",
    "    # print(Particles_lab_Q[an_1],'x', Particles_lab_Q[an_2], '=')\n",
    "    # Reduce text\n",
    "    pr = []\n",
    "    for i, indicator in enumerate(N_Q[an_1,an_2,:]):\n",
    "        if np.round(indicator,1) != 0:\n",
    "            # Calculate the R-Symbol\n",
    "            #print(int(indicator),'x', Particles_lab_Q[i], 'with R_symb', str(r_symbol(an_1,an_2, i)))\n",
    "            pr += [(i, r_symbol(an_1,an_2, i))]\n",
    "    print(an_1, 'x', an_2, '=', pr)\n",
    "    return 0"
   ]
  },
  {
   "attachments": {},
   "cell_type": "markdown",
   "metadata": {},
   "source": [
    "The Results, quesries of fusion and R-symbols:"
   ]
  },
  {
   "cell_type": "code",
   "execution_count": 24,
   "metadata": {},
   "outputs": [
    {
     "name": "stdout",
     "output_type": "stream",
     "text": [
      "6 x 6 = [(0, (-0.5-0.87j)), (1, (0.5+0.87j)), (6, (-0.5+0.87j))]\n"
     ]
    },
    {
     "data": {
      "text/plain": [
       "0"
      ]
     },
     "execution_count": 24,
     "metadata": {},
     "output_type": "execute_result"
    }
   ],
   "source": [
    "fusion_and_braid(6,6)"
   ]
  },
  {
   "cell_type": "code",
   "execution_count": 25,
   "metadata": {},
   "outputs": [
    {
     "name": "stdout",
     "output_type": "stream",
     "text": [
      "0 x 0 = [(0, (1+0j))]\n",
      "0 x 1 = [(1, (1+0j))]\n",
      "0 x 2 = [(2, (1+0j))]\n",
      "0 x 3 = [(3, (1+0j))]\n",
      "0 x 4 = [(4, (1+0j))]\n",
      "0 x 5 = [(5, (1+0j))]\n",
      "0 x 6 = [(6, (1+0j))]\n",
      "0 x 7 = [(7, (1+0j))]\n",
      "1 x 0 = [(1, (1+0j))]\n",
      "1 x 1 = [(0, (1+0j))]\n",
      "1 x 2 = [(2, (1+0j))]\n",
      "1 x 3 = [(4, (-1+0j))]\n",
      "1 x 4 = [(3, (-1+0j))]\n",
      "1 x 5 = [(5, (1+0j))]\n",
      "1 x 6 = [(6, (1+0j))]\n",
      "1 x 7 = [(7, (1+0j))]\n",
      "2 x 0 = [(2, (1+0j))]\n",
      "2 x 1 = [(2, (1+0j))]\n",
      "2 x 2 = [(0, (1+0j)), (1, (-1+0j)), (2, (1+0j))]\n",
      "2 x 3 = [(3, (1-0j)), (4, (-1+0j))]\n",
      "2 x 4 = [(3, (-1+0j)), (4, (1-0j))]\n",
      "2 x 5 = [(6, (-0.5+0.87j)), (7, (-0.5-0.87j))]\n",
      "2 x 6 = [(5, (-0.5-0.87j)), (7, (-0.5+0.87j))]\n",
      "2 x 7 = [(5, (-0.5+0.87j)), (6, (-0.5-0.87j))]\n",
      "3 x 0 = [(3, (1+0j))]\n",
      "3 x 1 = [(4, (1+0j))]\n",
      "3 x 2 = [(3, (1-0j)), (4, (1-0j))]\n",
      "3 x 3 = [(0, (1+0j)), (2, (1+0j)), (5, (1+0j)), (6, (-0.5-0.87j)), (7, (-0.5+0.87j))]\n",
      "3 x 4 = [(1, (1+0j)), (2, (1+0j)), (5, (-1+0j)), (6, (0.5+0.87j)), (7, (0.5-0.87j))]\n",
      "3 x 5 = [(3, (1+0j)), (4, (1+0j))]\n",
      "3 x 6 = [(3, (1-0j)), (4, (1-0j))]\n",
      "3 x 7 = [(3, (1+0j)), (4, (1+0j))]\n",
      "4 x 0 = [(4, (1+0j))]\n",
      "4 x 1 = [(3, (1+0j))]\n",
      "4 x 2 = [(3, (1-0j)), (4, (1-0j))]\n",
      "4 x 3 = [(1, (-1+0j)), (2, (-1-0j)), (5, (1+0j)), (6, (-0.5-0.87j)), (7, (-0.5+0.87j))]\n",
      "4 x 4 = [(0, (-1+0j)), (2, (-1-0j)), (5, (-1+0j)), (6, (0.5+0.87j)), (7, (0.5-0.87j))]\n",
      "4 x 5 = [(3, (-1+0j)), (4, (-1+0j))]\n",
      "4 x 6 = [(3, (-1+0j)), (4, (-1+0j))]\n",
      "4 x 7 = [(3, (-1-0j)), (4, (-1-0j))]\n",
      "5 x 0 = [(5, (1+0j))]\n",
      "5 x 1 = [(5, (1+0j))]\n",
      "5 x 2 = [(6, (1+0j)), (7, (1+0j))]\n",
      "5 x 3 = [(3, (1+0j)), (4, (-1+0j))]\n",
      "5 x 4 = [(3, (1+0j)), (4, (-1+0j))]\n",
      "5 x 5 = [(0, (1+0j)), (1, (-1+0j)), (5, (1+0j))]\n",
      "5 x 6 = [(2, (1+0j)), (7, (1+0j))]\n",
      "5 x 7 = [(2, (1+0j)), (6, (1+0j))]\n",
      "6 x 0 = [(6, (1+0j))]\n",
      "6 x 1 = [(6, (1+0j))]\n",
      "6 x 2 = [(5, (1+0j)), (7, (1+0j))]\n",
      "6 x 3 = [(3, (-0.5-0.87j)), (4, (0.5+0.87j))]\n",
      "6 x 4 = [(3, (-0.5-0.87j)), (4, (0.5+0.87j))]\n",
      "6 x 5 = [(2, (-0.5-0.87j)), (7, (-0.5+0.87j))]\n",
      "6 x 6 = [(0, (-0.5-0.87j)), (1, (0.5+0.87j)), (6, (-0.5+0.87j))]\n",
      "6 x 7 = [(2, (-0.5-0.87j)), (5, (-0.5+0.87j))]\n",
      "7 x 0 = [(7, (1+0j))]\n",
      "7 x 1 = [(7, (1+0j))]\n",
      "7 x 2 = [(5, (1+0j)), (6, (1+0j))]\n",
      "7 x 3 = [(3, (-0.5+0.87j)), (4, (0.5-0.87j))]\n",
      "7 x 4 = [(3, (-0.5+0.87j)), (4, (0.5-0.87j))]\n",
      "7 x 5 = [(2, (-0.5+0.87j)), (6, (-0.5-0.87j))]\n",
      "7 x 6 = [(2, (-0.5+0.87j)), (5, (-0.5-0.87j))]\n",
      "7 x 7 = [(0, (-0.5+0.87j)), (1, (0.5-0.87j)), (7, (-0.5-0.87j))]\n"
     ]
    }
   ],
   "source": [
    "for an_1 in range(p_num):\n",
    "    for an_2 in range(p_num):\n",
    "        fusion_and_braid(an_1, an_2)"
   ]
  },
  {
   "attachments": {},
   "cell_type": "markdown",
   "metadata": {},
   "source": [
    "### F- Symbols \n"
   ]
  },
  {
   "cell_type": "code",
   "execution_count": 26,
   "metadata": {},
   "outputs": [
    {
     "name": "stdout",
     "output_type": "stream",
     "text": [
      "[0, 1, 5]\n",
      "True\n"
     ]
    },
    {
     "data": {
      "text/plain": [
       "array([0., 0.])"
      ]
     },
     "execution_count": 26,
     "metadata": {},
     "output_type": "execute_result"
    }
   ],
   "source": [
    "print(fusion_products(5,5))\n",
    "print(do_they_fuse(5,5,5))\n",
    "np.zeros([2])"
   ]
  },
  {
   "cell_type": "code",
   "execution_count": 27,
   "metadata": {},
   "outputs": [],
   "source": [
    "def f_mat(an_a, an_b, an_c, an_d):\n",
    "    (_, d_a, _, _, _, _, _, _, _) = Particles_Q[an_a]\n",
    "    (_, d_b, _, _, _, _, _, _, _) = Particles_Q[an_b]\n",
    "    (_, d_c, _, _, _, _, _, _, _) = Particles_Q[an_c]\n",
    "    (_, d_d, _, _, _, _, _, _, _) = Particles_Q[an_d]\n",
    "    x_ids = []\n",
    "    y_ids = []\n",
    "    # print('x=')\n",
    "    for x in fusion_products(an_b, an_c):\n",
    "        if do_they_fuse(x,an_d,an_a):\n",
    "            x_ids+=[x]\n",
    "            # print(Particles_lab_Q[x])\n",
    "    # print('y=')\n",
    "    for y in fusion_products(an_c, an_d):\n",
    "        if do_they_fuse(an_b,y,an_a):\n",
    "            y_ids+=[y]\n",
    "            # print(Particles_lab_Q[y])\n",
    "    F = np.zeros([len(x_ids), len(y_ids)], dtype=complex)\n",
    "\n",
    "    for i_x, x in enumerate(x_ids):\n",
    "        for i_y, y in enumerate(y_ids):\n",
    "            (_, d_x, _, _, _, _, _, _, _) = Particles_Q[x]\n",
    "            (_, d_y, _, _, _, _, _, _, _) = Particles_Q[y]\n",
    "            i_vec_a = 0\n",
    "            vec_xd = splitting_tree(x, an_d, an_a, i_vec_a)\n",
    "            vec_by = splitting_tree(an_b, y, an_a, i_vec_a)\n",
    "            vec_bcd_via_x = np.zeros([d_d*d_b*d_c], dtype=complex)\n",
    "            vec_bcd_via_y = np.zeros([d_d*d_b*d_c], dtype=complex)\n",
    "            x_basis = splitting_tree_proper(an_b, an_c, x)\n",
    "            y_basis = splitting_tree_proper(an_c, an_d, y)\n",
    "            for id_x in range(d_x):\n",
    "                for id_d in range(d_d):\n",
    "                    e_d = np.zeros([d_d])\n",
    "                    e_d[id_d] = 1\n",
    "                    vec_bcd_via_x += vec_xd[id_x*d_d + id_d]*np.kron(x_basis[id_x] ,e_d)\n",
    "            for id_y in range(d_y):\n",
    "                for id_b in range(d_b):\n",
    "                    e_b = np.zeros([d_b])\n",
    "                    e_b[id_b] = 1\n",
    "                    vec_bcd_via_y += vec_by[id_b*d_y + id_y]*np.kron(e_b,y_basis[id_y])\n",
    "            F[i_x, i_y] += np.vdot(vec_bcd_via_y, vec_bcd_via_x)\n",
    "    F = np.round(F, 2)\n",
    "    # print('F=',F)\n",
    "    return F\n",
    "\n",
    "def f_mat_debug(an_a, an_b, an_c, an_d):\n",
    "    (_, d_a, _, _, _, _, _, _, _) = Particles_Q[an_a]\n",
    "    (_, d_b, _, _, _, _, _, _, _) = Particles_Q[an_b]\n",
    "    (_, d_c, _, _, _, _, _, _, _) = Particles_Q[an_c]\n",
    "    (_, d_d, _, _, _, _, _, _, _) = Particles_Q[an_d]\n",
    "    x_ids = []\n",
    "    y_ids = []\n",
    "    print('x=')\n",
    "    for x in fusion_products(an_b, an_c):\n",
    "        if do_they_fuse(x,an_d,an_a):\n",
    "            x_ids+=[x]\n",
    "            print(Particles_lab_Q[x])\n",
    "    print('y=')\n",
    "    for y in fusion_products(an_c, an_d):\n",
    "        if do_they_fuse(an_b,y,an_a):\n",
    "            y_ids+=[y]\n",
    "            print(Particles_lab_Q[y])\n",
    "    F = np.zeros([len(x_ids), len(y_ids)], dtype=complex)\n",
    "\n",
    "    for i_x, x in enumerate(x_ids):\n",
    "        for i_y, y in enumerate(y_ids):\n",
    "            (_, d_x, _, _, _, _, _, _, _) = Particles_Q[x]\n",
    "            (_, d_y, _, _, _, _, _, _, _) = Particles_Q[y]\n",
    "            i_vec_a = 0\n",
    "            vec_xd = splitting_tree(x, an_d, an_a, i_vec_a)\n",
    "            vec_by = splitting_tree(an_b, y, an_a, i_vec_a)\n",
    "            vec_bcd_via_x = np.zeros([d_d*d_b*d_c], dtype=complex)\n",
    "            vec_bcd_via_y = np.zeros([d_d*d_b*d_c], dtype=complex)\n",
    "            x_basis = splitting_tree_proper(an_b, an_c, x)\n",
    "            y_basis = splitting_tree_proper(an_c, an_d, y)\n",
    "            for id_x in range(d_x):\n",
    "                for id_d in range(d_d):\n",
    "                    e_d = np.zeros([d_d])\n",
    "                    e_d[id_d] = 1\n",
    "                    vec_bcd_via_x += vec_xd[id_x*d_d + id_d]*np.kron(x_basis[id_x] ,e_d)\n",
    "            for id_y in range(d_y):\n",
    "                for id_b in range(d_b):\n",
    "                    e_b = np.zeros([d_b])\n",
    "                    e_b[id_b] = 1\n",
    "                    vec_bcd_via_y += vec_by[id_b*d_y + id_y]*np.kron(e_b,y_basis[id_y])\n",
    "            F[i_x, i_y] += np.vdot(vec_bcd_via_y, vec_bcd_via_x)\n",
    "    F = np.round(F, 2)\n",
    "    # print('F=',F)\n",
    "    return F\n",
    "    "
   ]
  },
  {
   "cell_type": "code",
   "execution_count": 28,
   "metadata": {},
   "outputs": [],
   "source": [
    "def f_mat_elem(an_a, an_b, an_c, an_d, x, y, i_vec_a): # use to debug\n",
    "    (_, d_a, _, _, _, _, _, _, _) = Particles_Q[an_a]\n",
    "    (_, d_b, _, _, _, _, _, _, _) = Particles_Q[an_b]\n",
    "    (_, d_c, _, _, _, _, _, _, _) = Particles_Q[an_c]\n",
    "    (_, d_d, _, _, _, _, _, _, _) = Particles_Q[an_d]\n",
    "    F = 0.j\n",
    "    (_, d_x, _, _, _, _, _, _, _) = Particles_Q[x]\n",
    "    (_, d_y, _, _, _, _, _, _, _) = Particles_Q[y]\n",
    "    vec_xd = splitting_tree(x, an_d, an_a, i_vec_a)\n",
    "    vec_by = splitting_tree(an_b, y, an_a, i_vec_a)\n",
    "    vec_bcd_via_x = np.zeros([d_b*d_c*d_d], dtype=complex)\n",
    "    vec_bcd_via_y = np.zeros([d_b*d_c*d_d], dtype=complex)\n",
    "    x_basis = splitting_tree_proper(an_b, an_c, x)\n",
    "    y_basis = splitting_tree_proper(an_c, an_d, y)\n",
    "    for id_x in range(d_x):\n",
    "        for id_d in range(d_d):\n",
    "            e_d = np.zeros([d_d])\n",
    "            e_d[id_d] = 1\n",
    "            print(len(vec_bcd_via_x), len(vec_xd), len(x_basis[id_x]), len(e_d), d_a, d_b, d_c, d_d)\n",
    "            vec_bcd_via_x += vec_xd[id_x*d_d + id_d]*np.kron(x_basis[id_x] ,e_d)\n",
    "    for id_y in range(d_y):\n",
    "        for id_b in range(d_b):\n",
    "            e_b = np.zeros([d_b])\n",
    "            e_b[id_b] = 1\n",
    "            print(len(vec_bcd_via_y), len(vec_by), len(y_basis[id_y]), len(e_b), d_a, d_b, d_c, d_d)\n",
    "            vec_bcd_via_y += vec_by[id_b*d_y + id_y]*np.kron(e_b, y_basis[id_y])\n",
    "    print('x up', np.round(np.real(vec_bcd_via_x),2))\n",
    "    print('y down',np.round(np.real(vec_bcd_via_y), 2))\n",
    "    F += np.vdot(vec_bcd_via_x, vec_bcd_via_y)\n",
    "    F = np.round(F, 2)\n",
    "    return F\n",
    "\n",
    "    "
   ]
  },
  {
   "attachments": {},
   "cell_type": "markdown",
   "metadata": {},
   "source": [
    "Query the F-matrices"
   ]
  },
  {
   "cell_type": "code",
   "execution_count": 29,
   "metadata": {},
   "outputs": [],
   "source": [
    "F = f_mat(6, 6, 6, 6)"
   ]
  },
  {
   "cell_type": "code",
   "execution_count": 30,
   "metadata": {},
   "outputs": [
    {
     "data": {
      "text/plain": [
       "array([[ 0.99-0.j, -0.01-0.j,  0.  +0.j],\n",
       "       [-0.01-0.j,  0.99-0.j,  0.  +0.j],\n",
       "       [ 0.  +0.j,  0.  +0.j,  0.99+0.j]])"
      ]
     },
     "execution_count": 30,
     "metadata": {},
     "output_type": "execute_result"
    }
   ],
   "source": [
    "np.round(F@dag(F), 2)"
   ]
  },
  {
   "attachments": {},
   "cell_type": "markdown",
   "metadata": {},
   "source": [
    "### F- and R- Symbol Consistency check?"
   ]
  },
  {
   "cell_type": "code",
   "execution_count": 31,
   "metadata": {},
   "outputs": [],
   "source": [
    "def get_all_F_symbols():\n",
    "    Res = np.zeros([p_num, p_num, p_num, p_num, p_num, p_num], dtype=complex) # F^{bcd}_{axy}\n",
    "    for an_a in range(p_num):\n",
    "        for an_b in range(p_num):\n",
    "            for an_c in range(p_num):\n",
    "                for an_d in range(p_num):\n",
    "                    x_ids = []\n",
    "                    y_ids = []\n",
    "                    for x in fusion_products(an_b, an_c):\n",
    "                        if do_they_fuse(x,an_d,an_a):\n",
    "                            x_ids+=[x]\n",
    "                    for y in fusion_products(an_c, an_d):\n",
    "                        if do_they_fuse(an_b,y,an_a):\n",
    "                            y_ids+=[y]\n",
    "                    if len(x_ids) != 0 and len(y_ids) != 0:\n",
    "                        # print(an_a,an_b,an_c,an_d,x,y)\n",
    "                        to_fill = f_mat(an_a, an_b, an_c, an_d)\n",
    "                        for i_y, y in enumerate(y_ids):\n",
    "                            for i_x, x in enumerate(x_ids):\n",
    "                                Res[an_b, an_c, an_d, an_a, x, y] = to_fill[i_x, i_y]\n",
    "    return Res\n",
    "\n",
    "def get_all_R_symbols():\n",
    "    Res = np.zeros([p_num, p_num, p_num], dtype=complex) # R^{bc}_{a}\n",
    "    for an_a in range(p_num):\n",
    "        for an_b in range(p_num):\n",
    "            for an_c in range(p_num):\n",
    "                if do_they_fuse(an_b, an_c, an_a):\n",
    "                    Res[an_b, an_c, an_a] = r_symbol(an_b,an_c, an_a)\n",
    "    return Res"
   ]
  },
  {
   "cell_type": "code",
   "execution_count": 32,
   "metadata": {},
   "outputs": [
    {
     "ename": "KeyboardInterrupt",
     "evalue": "",
     "output_type": "error",
     "traceback": [
      "\u001b[0;31m---------------------------------------------------------------------------\u001b[0m",
      "\u001b[0;31mKeyboardInterrupt\u001b[0m                         Traceback (most recent call last)",
      "\u001b[1;32m/Users/jovanjovanovic/Code/kitaevsim/Quantum double/q_double_S3.ipynb Cell 49\u001b[0m line \u001b[0;36m1\n\u001b[0;32m----> <a href='vscode-notebook-cell:/Users/jovanjovanovic/Code/kitaevsim/Quantum%20double/q_double_S3.ipynb#X66sZmlsZQ%3D%3D?line=0'>1</a>\u001b[0m F_s_Q \u001b[39m=\u001b[39m get_all_F_symbols()\n\u001b[1;32m      <a href='vscode-notebook-cell:/Users/jovanjovanovic/Code/kitaevsim/Quantum%20double/q_double_S3.ipynb#X66sZmlsZQ%3D%3D?line=1'>2</a>\u001b[0m R_s_Q \u001b[39m=\u001b[39m get_all_R_symbols()\n",
      "\u001b[1;32m/Users/jovanjovanovic/Code/kitaevsim/Quantum double/q_double_S3.ipynb Cell 49\u001b[0m line \u001b[0;36m1\n\u001b[1;32m     <a href='vscode-notebook-cell:/Users/jovanjovanovic/Code/kitaevsim/Quantum%20double/q_double_S3.ipynb#X66sZmlsZQ%3D%3D?line=13'>14</a>\u001b[0m         y_ids\u001b[39m+\u001b[39m\u001b[39m=\u001b[39m[y]\n\u001b[1;32m     <a href='vscode-notebook-cell:/Users/jovanjovanovic/Code/kitaevsim/Quantum%20double/q_double_S3.ipynb#X66sZmlsZQ%3D%3D?line=14'>15</a>\u001b[0m \u001b[39mif\u001b[39;00m \u001b[39mlen\u001b[39m(x_ids) \u001b[39m!=\u001b[39m \u001b[39m0\u001b[39m \u001b[39mand\u001b[39;00m \u001b[39mlen\u001b[39m(y_ids) \u001b[39m!=\u001b[39m \u001b[39m0\u001b[39m:\n\u001b[1;32m     <a href='vscode-notebook-cell:/Users/jovanjovanovic/Code/kitaevsim/Quantum%20double/q_double_S3.ipynb#X66sZmlsZQ%3D%3D?line=15'>16</a>\u001b[0m     \u001b[39m# print(an_a,an_b,an_c,an_d,x,y)\u001b[39;00m\n\u001b[0;32m---> <a href='vscode-notebook-cell:/Users/jovanjovanovic/Code/kitaevsim/Quantum%20double/q_double_S3.ipynb#X66sZmlsZQ%3D%3D?line=16'>17</a>\u001b[0m     to_fill \u001b[39m=\u001b[39m f_mat(an_a, an_b, an_c, an_d)\n\u001b[1;32m     <a href='vscode-notebook-cell:/Users/jovanjovanovic/Code/kitaevsim/Quantum%20double/q_double_S3.ipynb#X66sZmlsZQ%3D%3D?line=17'>18</a>\u001b[0m     \u001b[39mfor\u001b[39;00m i_y, y \u001b[39min\u001b[39;00m \u001b[39menumerate\u001b[39m(y_ids):\n\u001b[1;32m     <a href='vscode-notebook-cell:/Users/jovanjovanovic/Code/kitaevsim/Quantum%20double/q_double_S3.ipynb#X66sZmlsZQ%3D%3D?line=18'>19</a>\u001b[0m         \u001b[39mfor\u001b[39;00m i_x, x \u001b[39min\u001b[39;00m \u001b[39menumerate\u001b[39m(x_ids):\n",
      "\u001b[1;32m/Users/jovanjovanovic/Code/kitaevsim/Quantum double/q_double_S3.ipynb Cell 49\u001b[0m line \u001b[0;36m3\n\u001b[1;32m     <a href='vscode-notebook-cell:/Users/jovanjovanovic/Code/kitaevsim/Quantum%20double/q_double_S3.ipynb#X66sZmlsZQ%3D%3D?line=27'>28</a>\u001b[0m vec_bcd_via_y \u001b[39m=\u001b[39m np\u001b[39m.\u001b[39mzeros([d_d\u001b[39m*\u001b[39md_b\u001b[39m*\u001b[39md_c], dtype\u001b[39m=\u001b[39m\u001b[39mcomplex\u001b[39m)\n\u001b[1;32m     <a href='vscode-notebook-cell:/Users/jovanjovanovic/Code/kitaevsim/Quantum%20double/q_double_S3.ipynb#X66sZmlsZQ%3D%3D?line=28'>29</a>\u001b[0m x_basis \u001b[39m=\u001b[39m splitting_tree_proper(an_b, an_c, x)\n\u001b[0;32m---> <a href='vscode-notebook-cell:/Users/jovanjovanovic/Code/kitaevsim/Quantum%20double/q_double_S3.ipynb#X66sZmlsZQ%3D%3D?line=29'>30</a>\u001b[0m y_basis \u001b[39m=\u001b[39m splitting_tree_proper(an_c, an_d, y)\n\u001b[1;32m     <a href='vscode-notebook-cell:/Users/jovanjovanovic/Code/kitaevsim/Quantum%20double/q_double_S3.ipynb#X66sZmlsZQ%3D%3D?line=30'>31</a>\u001b[0m \u001b[39mfor\u001b[39;00m id_x \u001b[39min\u001b[39;00m \u001b[39mrange\u001b[39m(d_x):\n\u001b[1;32m     <a href='vscode-notebook-cell:/Users/jovanjovanovic/Code/kitaevsim/Quantum%20double/q_double_S3.ipynb#X66sZmlsZQ%3D%3D?line=31'>32</a>\u001b[0m     \u001b[39mfor\u001b[39;00m id_d \u001b[39min\u001b[39;00m \u001b[39mrange\u001b[39m(d_d):\n",
      "\u001b[1;32m/Users/jovanjovanovic/Code/kitaevsim/Quantum double/q_double_S3.ipynb Cell 49\u001b[0m line \u001b[0;36m3\n\u001b[1;32m     <a href='vscode-notebook-cell:/Users/jovanjovanovic/Code/kitaevsim/Quantum%20double/q_double_S3.ipynb#X66sZmlsZQ%3D%3D?line=28'>29</a>\u001b[0m order \u001b[39m=\u001b[39m np\u001b[39m.\u001b[39msize(G[\u001b[39m0\u001b[39m,\u001b[39m0\u001b[39m,:])\n\u001b[1;32m     <a href='vscode-notebook-cell:/Users/jovanjovanovic/Code/kitaevsim/Quantum%20double/q_double_S3.ipynb#X66sZmlsZQ%3D%3D?line=29'>30</a>\u001b[0m \u001b[39mfor\u001b[39;00m i_3 \u001b[39min\u001b[39;00m \u001b[39mrange\u001b[39m(d_3):\n\u001b[0;32m---> <a href='vscode-notebook-cell:/Users/jovanjovanovic/Code/kitaevsim/Quantum%20double/q_double_S3.ipynb#X66sZmlsZQ%3D%3D?line=30'>31</a>\u001b[0m     Basis_unfixed \u001b[39m+\u001b[39m\u001b[39m=\u001b[39m [splitting_tree(an_1, an_2, an_3, i_3)]\n\u001b[1;32m     <a href='vscode-notebook-cell:/Users/jovanjovanovic/Code/kitaevsim/Quantum%20double/q_double_S3.ipynb#X66sZmlsZQ%3D%3D?line=31'>32</a>\u001b[0m Basis_fixed \u001b[39m=\u001b[39m Basis_unfixed\n\u001b[1;32m     <a href='vscode-notebook-cell:/Users/jovanjovanovic/Code/kitaevsim/Quantum%20double/q_double_S3.ipynb#X66sZmlsZQ%3D%3D?line=32'>33</a>\u001b[0m \u001b[39mif\u001b[39;00m d_3 \u001b[39m==\u001b[39m \u001b[39m1\u001b[39m:\n",
      "\u001b[1;32m/Users/jovanjovanovic/Code/kitaevsim/Quantum double/q_double_S3.ipynb Cell 49\u001b[0m line \u001b[0;36m1\n\u001b[1;32m     <a href='vscode-notebook-cell:/Users/jovanjovanovic/Code/kitaevsim/Quantum%20double/q_double_S3.ipynb#X66sZmlsZQ%3D%3D?line=15'>16</a>\u001b[0m \u001b[39mdef\u001b[39;00m \u001b[39msplitting_tree\u001b[39m(an_1, an_2, an_3, \u001b[39mid\u001b[39m): \u001b[39m#Only good if id = 0\u001b[39;00m\n\u001b[0;32m---> <a href='vscode-notebook-cell:/Users/jovanjovanovic/Code/kitaevsim/Quantum%20double/q_double_S3.ipynb#X66sZmlsZQ%3D%3D?line=16'>17</a>\u001b[0m     Pro \u001b[39m=\u001b[39m rep_proj_spec(an_1, an_2, an_3, \u001b[39mid\u001b[39;49m)\n\u001b[1;32m     <a href='vscode-notebook-cell:/Users/jovanjovanovic/Code/kitaevsim/Quantum%20double/q_double_S3.ipynb#X66sZmlsZQ%3D%3D?line=17'>18</a>\u001b[0m     w, v \u001b[39m=\u001b[39m np\u001b[39m.\u001b[39mlinalg\u001b[39m.\u001b[39meig(Pro)\n\u001b[1;32m     <a href='vscode-notebook-cell:/Users/jovanjovanovic/Code/kitaevsim/Quantum%20double/q_double_S3.ipynb#X66sZmlsZQ%3D%3D?line=18'>19</a>\u001b[0m     \u001b[39mfor\u001b[39;00m i_lam, lam \u001b[39min\u001b[39;00m \u001b[39menumerate\u001b[39m(w):\n",
      "\u001b[1;32m/Users/jovanjovanovic/Code/kitaevsim/Quantum double/q_double_S3.ipynb Cell 49\u001b[0m line \u001b[0;36m7\n\u001b[1;32m     <a href='vscode-notebook-cell:/Users/jovanjovanovic/Code/kitaevsim/Quantum%20double/q_double_S3.ipynb#X66sZmlsZQ%3D%3D?line=73'>74</a>\u001b[0m \u001b[39mfor\u001b[39;00m z \u001b[39min\u001b[39;00m Z_3:\n\u001b[1;32m     <a href='vscode-notebook-cell:/Users/jovanjovanovic/Code/kitaevsim/Quantum%20double/q_double_S3.ipynb#X66sZmlsZQ%3D%3D?line=74'>75</a>\u001b[0m     \u001b[39mfor\u001b[39;00m h \u001b[39min\u001b[39;00m \u001b[39mrange\u001b[39m(order):\n\u001b[1;32m     <a href='vscode-notebook-cell:/Users/jovanjovanovic/Code/kitaevsim/Quantum%20double/q_double_S3.ipynb#X66sZmlsZQ%3D%3D?line=75'>76</a>\u001b[0m         Res \u001b[39m+\u001b[39m\u001b[39m=\u001b[39m Z_rep_3(z)[mu,mu]\u001b[39m.\u001b[39mconj()\u001b[39m*\u001b[39mnp\u001b[39m.\u001b[39mkron( b_mat(an_1, \u001b[39m# Investigate does this one work???\u001b[39;00m\n\u001b[0;32m---> <a href='vscode-notebook-cell:/Users/jovanjovanovic/Code/kitaevsim/Quantum%20double/q_double_S3.ipynb#X66sZmlsZQ%3D%3D?line=76'>77</a>\u001b[0m         index( grp_i(h)\u001b[39m@grp\u001b[39m(c) ) ) \u001b[39m@\u001b[39m a_mat(an_1,\n\u001b[1;32m     <a href='vscode-notebook-cell:/Users/jovanjovanovic/Code/kitaevsim/Quantum%20double/q_double_S3.ipynb#X66sZmlsZQ%3D%3D?line=77'>78</a>\u001b[0m         index( grp(q(c))\u001b[39m@grp\u001b[39;49m(z)\u001b[39m@grp_i\u001b[39;49m(q(c)) )),\n\u001b[1;32m     <a href='vscode-notebook-cell:/Users/jovanjovanovic/Code/kitaevsim/Quantum%20double/q_double_S3.ipynb#X66sZmlsZQ%3D%3D?line=78'>79</a>\u001b[0m         b_mat(an_2,h) \u001b[39m@\u001b[39m a_mat(an_2,index( grp(q(c))\u001b[39m@grp\u001b[39m(z)\u001b[39m@grp_i\u001b[39m(q(c)) )) )\n\u001b[1;32m     <a href='vscode-notebook-cell:/Users/jovanjovanovic/Code/kitaevsim/Quantum%20double/q_double_S3.ipynb#X66sZmlsZQ%3D%3D?line=79'>80</a>\u001b[0m \u001b[39mreturn\u001b[39;00m proj_norm(Res)\n",
      "\u001b[1;32m/Users/jovanjovanovic/Code/kitaevsim/Quantum double/q_double_S3.ipynb Cell 49\u001b[0m line \u001b[0;36m1\n\u001b[1;32m      <a href='vscode-notebook-cell:/Users/jovanjovanovic/Code/kitaevsim/Quantum%20double/q_double_S3.ipynb#X66sZmlsZQ%3D%3D?line=7'>8</a>\u001b[0m \u001b[39mfor\u001b[39;00m i_cp, c_prim \u001b[39min\u001b[39;00m \u001b[39menumerate\u001b[39m(C):\n\u001b[1;32m      <a href='vscode-notebook-cell:/Users/jovanjovanovic/Code/kitaevsim/Quantum%20double/q_double_S3.ipynb#X66sZmlsZQ%3D%3D?line=8'>9</a>\u001b[0m     \u001b[39mfor\u001b[39;00m nu \u001b[39min\u001b[39;00m \u001b[39mrange\u001b[39m(chi_mod):\n\u001b[0;32m---> <a href='vscode-notebook-cell:/Users/jovanjovanovic/Code/kitaevsim/Quantum%20double/q_double_S3.ipynb#X66sZmlsZQ%3D%3D?line=9'>10</a>\u001b[0m         \u001b[39mif\u001b[39;00m is_eq(grp(c_prim), grp(g)\u001b[39m@grp\u001b[39;49m(c)\u001b[39m@grp_i\u001b[39;49m(g)):\n\u001b[1;32m     <a href='vscode-notebook-cell:/Users/jovanjovanovic/Code/kitaevsim/Quantum%20double/q_double_S3.ipynb#X66sZmlsZQ%3D%3D?line=10'>11</a>\u001b[0m             rep_map \u001b[39m=\u001b[39m Z_rep(index( grp_i(q(c_prim))\u001b[39m@grp\u001b[39m(g)\u001b[39m@grp\u001b[39m(q(c)) ))\n\u001b[1;32m     <a href='vscode-notebook-cell:/Users/jovanjovanovic/Code/kitaevsim/Quantum%20double/q_double_S3.ipynb#X66sZmlsZQ%3D%3D?line=11'>12</a>\u001b[0m             mat_elem \u001b[39m=\u001b[39m rep_map[mu,nu]\n",
      "\u001b[1;32m/Users/jovanjovanovic/Code/kitaevsim/Quantum double/q_double_S3.ipynb Cell 49\u001b[0m line \u001b[0;36m5\n\u001b[1;32m      <a href='vscode-notebook-cell:/Users/jovanjovanovic/Code/kitaevsim/Quantum%20double/q_double_S3.ipynb#X66sZmlsZQ%3D%3D?line=2'>3</a>\u001b[0m \u001b[39mdef\u001b[39;00m \u001b[39mmatInv\u001b[39m(M):\n\u001b[1;32m      <a href='vscode-notebook-cell:/Users/jovanjovanovic/Code/kitaevsim/Quantum%20double/q_double_S3.ipynb#X66sZmlsZQ%3D%3D?line=3'>4</a>\u001b[0m     \u001b[39mreturn\u001b[39;00m np\u001b[39m.\u001b[39mlinalg\u001b[39m.\u001b[39minv(M)\n\u001b[0;32m----> <a href='vscode-notebook-cell:/Users/jovanjovanovic/Code/kitaevsim/Quantum%20double/q_double_S3.ipynb#X66sZmlsZQ%3D%3D?line=4'>5</a>\u001b[0m \u001b[39mdef\u001b[39;00m \u001b[39mis_eq\u001b[39m(A,B):\n\u001b[1;32m      <a href='vscode-notebook-cell:/Users/jovanjovanovic/Code/kitaevsim/Quantum%20double/q_double_S3.ipynb#X66sZmlsZQ%3D%3D?line=5'>6</a>\u001b[0m     \u001b[39mreturn\u001b[39;00m np\u001b[39m.\u001b[39mallclose(A,B, rtol\u001b[39m=\u001b[39m\u001b[39m1e-05\u001b[39m, atol\u001b[39m=\u001b[39m\u001b[39m1e-08\u001b[39m)\n",
      "\u001b[0;31mKeyboardInterrupt\u001b[0m: "
     ]
    }
   ],
   "source": [
    "F_s_Q = get_all_F_symbols()\n",
    "R_s_Q = get_all_R_symbols()"
   ]
  },
  {
   "cell_type": "code",
   "execution_count": null,
   "metadata": {},
   "outputs": [],
   "source": [
    "def pentagon_check():\n",
    "    # abcdefgkl\n",
    "    LHS = np.zeros([p_num,p_num,p_num,p_num,p_num,p_num,p_num,p_num,p_num], dtype= complex)\n",
    "    RHS = np.zeros([p_num,p_num,p_num,p_num,p_num,p_num,p_num,p_num,p_num], dtype= complex)\n",
    "    for a in range(p_num):\n",
    "        for b in range(p_num):\n",
    "            for c in range(p_num):\n",
    "                for d in range(p_num):\n",
    "                    for e in range(p_num):\n",
    "                        for f in range(p_num):\n",
    "                            for g in range(p_num):\n",
    "                                for k in range(p_num):\n",
    "                                    for l in range(p_num):\n",
    "                                        LHS[a,b,c,d,e,f,g,k,l] = F_s_Q[f,c,d,e,g,l]*F_s_Q[a,b,l,e,f,k]\n",
    "    for a in range(p_num):\n",
    "        for b in range(p_num):\n",
    "            for c in range(p_num):\n",
    "                for d in range(p_num):\n",
    "                    for e in range(p_num):\n",
    "                        for f in range(p_num):\n",
    "                            for g in range(p_num):\n",
    "                                for k in range(p_num):\n",
    "                                    for l in range(p_num):\n",
    "                                        for h in range(p_num):\n",
    "                                            RHS[a,b,c,d,e,f,g,k,l] += F_s_Q[a,b,c,g,f,h]*F_s_Q[a, h, d, e, g, k]*F_s_Q[b,c,d,k,h,l]\n",
    "    return np.concatenate([np.abs(np.reshape(LHS-RHS, [p_num**9, 1])),np.abs(np.reshape((LHS+RHS)/2, [p_num**9, 1]))], axis=1)"
   ]
  },
  {
   "cell_type": "code",
   "execution_count": null,
   "metadata": {},
   "outputs": [],
   "source": [
    "result = pentagon_check()"
   ]
  },
  {
   "cell_type": "code",
   "execution_count": null,
   "metadata": {},
   "outputs": [
    {
     "name": "stdout",
     "output_type": "stream",
     "text": [
      "[1. 0. 0. ... 0. 0. 0.]\n"
     ]
    }
   ],
   "source": [
    "print(result[:,1])"
   ]
  },
  {
   "cell_type": "code",
   "execution_count": null,
   "metadata": {},
   "outputs": [],
   "source": [
    "fails = result[result[:,0]!=0, :]"
   ]
  },
  {
   "cell_type": "code",
   "execution_count": null,
   "metadata": {},
   "outputs": [
    {
     "data": {
      "text/plain": [
       "0.5020626713757954"
      ]
     },
     "execution_count": 55,
     "metadata": {},
     "output_type": "execute_result"
    }
   ],
   "source": [
    "result[47967933,1]"
   ]
  },
  {
   "cell_type": "code",
   "execution_count": null,
   "metadata": {},
   "outputs": [],
   "source": []
  }
 ],
 "metadata": {
  "kernelspec": {
   "display_name": "Python 3.8.13 ('tenpy')",
   "language": "python",
   "name": "python3"
  },
  "language_info": {
   "codemirror_mode": {
    "name": "ipython",
    "version": 3
   },
   "file_extension": ".py",
   "mimetype": "text/x-python",
   "name": "python",
   "nbconvert_exporter": "python",
   "pygments_lexer": "ipython3",
   "version": "3.10.9"
  },
  "orig_nbformat": 4,
  "vscode": {
   "interpreter": {
    "hash": "aff721162324b20ef4a196ba142be7336868ca9b8e2100737af6517b9c37af81"
   }
  }
 },
 "nbformat": 4,
 "nbformat_minor": 2
}
