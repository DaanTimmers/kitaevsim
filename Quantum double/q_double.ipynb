{
 "cells": [
  {
   "cell_type": "code",
   "execution_count": 1,
   "metadata": {},
   "outputs": [],
   "source": [
    "import numpy as np\n",
    "import itertools"
   ]
  },
  {
   "cell_type": "markdown",
   "metadata": {},
   "source": [
    "Some Matrix functions:"
   ]
  },
  {
   "cell_type": "code",
   "execution_count": 2,
   "metadata": {},
   "outputs": [],
   "source": [
    "def dag(M):\n",
    "    return np.conjugate(M.T)\n",
    "def matInv(M):\n",
    "    return np.linalg.inv(M)\n",
    "def is_eq(A,B):\n",
    "    return np.array_equal(A,B)"
   ]
  },
  {
   "cell_type": "code",
   "execution_count": 3,
   "metadata": {},
   "outputs": [
    {
     "name": "stdout",
     "output_type": "stream",
     "text": [
      "[[ 0.+0.j  0.+1.j]\n",
      " [-0.-1.j  0.+0.j]]\n",
      "True\n"
     ]
    }
   ],
   "source": [
    "A = np.array([[0, 1.j],[-1.j, 0]])\n",
    "print(A)\n",
    "print(is_eq(dag(A), matInv(A)))"
   ]
  },
  {
   "cell_type": "markdown",
   "metadata": {},
   "source": [
    "## Fusion Rules Calculations for $D_4$\n",
    "\n",
    "Using the Verlinde formula to get S-matrix and then using that to extract the fusion rules $N_{\\mathcal{A}\\mathcal{B}}^{\\mathcal{C}}$:"
   ]
  },
  {
   "cell_type": "markdown",
   "metadata": {},
   "source": [
    "$\\mathcal{S}_{\\mathcal{A}\\mathcal{B}} = \\frac{1}{|G|}\\sum_{h_i^A \\in C_A, h_j^B \\in C_B, h^A_i h^B_j = h^B_j h^A_i} \\chi^A((x_i^A)^{-1}h_j^B x_i^A)\\chi^B((x_j^B)^{-1}h_i^A x_j^B)$,\n",
    "\n",
    "where $h_i^A = x_i^A h_1^A(x_i^A)^{-1} = h_1^A$ which is a $C_A$ representative.\n",
    "\n",
    "$N_{\\mathcal{A}\\mathcal{B}}^{\\mathcal{C}} = \\sum_\\mathcal{L} \\frac{\\mathcal{S}_{\\mathcal{A}\\mathcal{L}}\\mathcal{S}_{\\mathcal{B}\\mathcal{L}}\\mathcal{S}_{\\mathcal{C}\\mathcal{L}}^*}{\\mathcal{S}_{\\mathcal{0}\\mathcal{L}}}$."
   ]
  },
  {
   "cell_type": "code",
   "execution_count": 4,
   "metadata": {},
   "outputs": [],
   "source": [
    "R = np.array([[0, -1],[1, 0]])\n",
    "M = np.array([[1, 0],[0, -1]])\n",
    "G = np.zeros([2,2,8])\n",
    "G[:,:,0] = np.eye(2) # The D_4 group\n",
    "G[:,:,1] = R\n",
    "G[:,:,2] = R@R\n",
    "G[:,:,3] = R@R@R\n",
    "G[:,:,4] = M\n",
    "G[:,:,5] = M@R\n",
    "G[:,:,6] = M@R@R\n",
    "G[:,:,7] = M@R@R@R\n",
    "\n",
    "C_e = np.array([0])  # Conj Classes\n",
    "C_r = np.array([1,3])\n",
    "C_rr = np.array([2])\n",
    "C_m = np.array([4,6])\n",
    "C_mr = np.array([5,7])\n",
    "\n",
    "X_e = np.array([0]) # Coset Representatives\n",
    "X_r = np.array([0,4])\n",
    "X_rr = np.array([0])\n",
    "X_m = np.array([0,3])\n",
    "X_mr = np.array([0,3])\n",
    "\n",
    "def triv(x):\n",
    "    return 1\n",
    "def a_r(x):\n",
    "    if (x in C_mr) or (x in C_m):\n",
    "        return -1\n",
    "    else:\n",
    "        return 1\n",
    "def a_mr(x):\n",
    "    if (x in C_r) or (x in C_m):\n",
    "        return -1\n",
    "    else:\n",
    "        return 1\n",
    "def a_m(x):\n",
    "    if (x in C_mr) or (x in C_r):\n",
    "        return -1\n",
    "    else:\n",
    "        return 1\n",
    "def e(x):\n",
    "    if (x in C_e):\n",
    "        return 2\n",
    "    elif (x in C_rr):\n",
    "        return -2\n",
    "    else:\n",
    "        return 0\n",
    "def E(x):\n",
    "    return G[:,:,x] # Faithful 2d Rep\n",
    "def b_i(x):\n",
    "    if (x in [4,5,6,7]):\n",
    "        return -1\n",
    "    elif (x in [0,2]):\n",
    "        return 1\n",
    "    else:\n",
    "        return 0\n",
    "def b_j(x):\n",
    "    if (x in [2,6,7]):\n",
    "        return -1\n",
    "    elif (x in [0,4,5]):\n",
    "        return 1\n",
    "    else:\n",
    "        return 0\n",
    "def b_k(x):\n",
    "    if (x in [2,4,5]):\n",
    "        return -1\n",
    "    elif (x in [0,6,7]):\n",
    "        return 1\n",
    "    else:\n",
    "        return 0\n",
    "def om_1(x):\n",
    "    if (x in [0,1,2,3]):\n",
    "        return (1.j**x)\n",
    "    else:\n",
    "        return 0\n",
    "def om_2(x):\n",
    "    if (x in [0,1,2,3]):\n",
    "        return (1.j**(2*x))\n",
    "    else:\n",
    "        return 0\n",
    "def om_3(x):\n",
    "    if (x in [0,1,2,3]):\n",
    "        return (1.j**(3*x))\n",
    "    else:\n",
    "        return 0\n",
    "\n",
    "def index(h, G):\n",
    "    for i in range(8): # to be generalised\n",
    "        if np.array_equal(h, G[:,:,i]):\n",
    "            return i\n",
    "\n",
    "def matInv(M):\n",
    "    return np.linalg.inv(M)\n",
    "\n",
    "def inv(x, G):\n",
    "    for i in range(8): # to be generalised\n",
    "        if np.array_equal(matInv(G[:,:,x]), G[:,:,i]):\n",
    "            return i\n",
    "\n",
    "Particles = [(0, C_e, X_e, triv),(1, C_rr, X_rr, triv),(2, C_e, X_e, a_r),(3, C_e, X_e, a_mr),(4, C_e, X_e, a_m),(5, C_rr, X_rr, a_r),(6, C_rr, X_rr, a_mr),(7, C_rr, X_rr, a_m),(8, C_e, X_e, e),(9, C_rr, X_rr, e),\\\n",
    "    (10, C_r, X_r, triv), (11, C_r, X_r, om_1), (12, C_r, X_r, om_2), (13, C_r, X_r, om_3),\\\n",
    "        (14, C_m, X_m, triv), (15, C_m, X_m, b_i), (16, C_m, X_m, b_j), (17, C_m, X_m, b_k),\\\n",
    "            (18, C_mr, X_mr, triv), (19, C_mr, X_mr, b_i), (20, C_mr, X_mr, b_j), (21, C_mr, X_mr, b_k)]\n",
    "\n",
    "Particles_lab_D = [('0', 'C_e', 'X_e', 'triv'),('1', 'C_rr', 'X_rr', 'triv'),('2', 'C_e', 'X_e', 'a_r'),('3', 'C_e', 'X_e', 'a_mr'),('4', 'C_e', 'X_e', 'a_m'),('5', 'C_rr', 'X_rr', 'a_r'),('6', 'C_rr', 'X_rr', 'a_mr'),('7', 'C_rr', 'X_rr', 'a_m'),('8', 'C_e', 'X_e', 'e'),('9', 'C_rr', 'X_rr', 'e'),\\\n",
    "    ('10', 'C_r', 'X_r', 'triv'), ('11', 'C_r', 'X_r', 'om_1'), ('12', 'C_r', 'X_r', 'om_2'), ('13', 'C_r', 'X_r', 'om_3'),\\\n",
    "        ('14', 'C_m', 'X_m', 'triv'), ('15', 'C_m', 'X_m', 'b_i'), ('16', 'C_m', 'X_m', 'b_j'), ('17', 'C_m', 'X_m', 'b_k'),\\\n",
    "            ('18', 'C_mr', 'X_mr', 'triv'), ('19', 'C_mr', 'X_mr', 'b_i'), ('20', 'C_mr', 'X_mr', 'b_j'), ('21', 'C_mr', 'X_mr', 'b_k')]\n",
    "\n",
    "S = np.zeros([22,22], complex)\n",
    "for i, C_i, X_i, char_i in Particles:\n",
    "    for j, C_j, X_j, char_j in Particles:\n",
    "        sum = 0 \n",
    "        for i_class, elem_i_class in enumerate(C_i):\n",
    "            for j_class, elem_j_class in enumerate(C_j):\n",
    "                if np.array_equal(G[:,:,elem_i_class]@G[:,:,elem_j_class], G[:,:,elem_j_class]@G[:,:,elem_i_class]):\n",
    "                    sum+=char_i(index(matInv(G[:,:,X_i[i_class]])@G[:,:,elem_j_class]@G[:,:,X_i[i_class]], G))*char_j(index(matInv(G[:,:,X_j[j_class]])@G[:,:,elem_i_class]@G[:,:,X_j[j_class]], G))\n",
    "        S[i,j] = sum\n",
    "\n",
    "S_D = S/8\n",
    "# print('\\n'.join([''.join(['{:4}'.format(item) for item in row]) \n",
    "#      for row in S]))\n",
    "N_D = np.zeros([22,22,22])\n",
    "for I in range(22):\n",
    "    for J in range(22):\n",
    "        for K in range(22):\n",
    "            for L in range(22):\n",
    "                N_D[I,J,K] += np.real(S_D[I,L]*S_D[J,L]*np.conj(S_D[K,L])/S_D[0,L])"
   ]
  },
  {
   "cell_type": "code",
   "execution_count": 131,
   "metadata": {},
   "outputs": [
    {
     "name": "stdout",
     "output_type": "stream",
     "text": [
      "('10', 'C_r', 'X_r', 'triv') , ('18', 'C_mr', 'X_mr', 'triv')\n",
      "S_{aa}=(0.5+0j)\n",
      "S_{bb}=(0.5+0j)\n",
      "S_{ab}=0j\n",
      "S_{ba}=0j\n",
      "S_{0a}=(0.25+0j)\n",
      "S_{a0}=(0.25+0j)\n",
      "S_{0a}=(0.25+0j)\n",
      "S_{a0}=(0.25+0j)\n"
     ]
    }
   ],
   "source": [
    "an_1 = 10\n",
    "an_2 = 18\n",
    "print(Particles_lab_D[an_1],',', Particles_lab_D[an_2])\n",
    "print('S_{aa}='+str(S_D[an_1, an_1]))\n",
    "print('S_{bb}='+str(S_D[an_2, an_2]))\n",
    "print('S_{ab}='+str(S_D[an_1, an_2]))\n",
    "print('S_{ba}='+str(S_D[an_2, an_1]))\n",
    "print('S_{0a}='+str(S_D[0, an_2]))\n",
    "print('S_{a0}='+str(S_D[an_2, 0]))\n",
    "print('S_{0a}='+str(S_D[0, an_1]))\n",
    "print('S_{a0}='+str(S_D[an_1, 0]))"
   ]
  },
  {
   "cell_type": "code",
   "execution_count": 6,
   "metadata": {},
   "outputs": [
    {
     "name": "stdout",
     "output_type": "stream",
     "text": [
      "('10', 'C_r', 'X_r', 'triv') x ('10', 'C_r', 'X_r', 'triv') =\n",
      "1 x ('0', 'C_e', 'X_e', 'triv')\n",
      "1 x ('1', 'C_rr', 'X_rr', 'triv')\n",
      "1 x ('2', 'C_e', 'X_e', 'a_r')\n",
      "1 x ('5', 'C_rr', 'X_rr', 'a_r')\n"
     ]
    }
   ],
   "source": [
    "i_1 = 10 # Prints fusion rules\n",
    "i_2 = 10\n",
    "print(Particles_lab_D[i_1],'x', Particles_lab_D[i_2], '=')\n",
    "for i, indicator in enumerate(N_D[i_1,i_2,:]):\n",
    "    if indicator != 0:\n",
    "        print(int(indicator),'x', Particles_lab_D[i])\n",
    "S_r = 8*np.real(S)"
   ]
  },
  {
   "cell_type": "markdown",
   "metadata": {},
   "source": [
    "## Fusion Rule Calculations for $Q_8$"
   ]
  },
  {
   "cell_type": "code",
   "execution_count": 7,
   "metadata": {},
   "outputs": [],
   "source": [
    "I = np.array([[1.j, 0],[0, -1.j]])\n",
    "J = np.array([[0, -1],[1, 0]])\n",
    "K = np.array([[0, -1.j],[-1.j, 0]])\n",
    "G = np.zeros([2,2,8], complex)\n",
    "G[:,:,0] = np.eye(2) # The Q_8 group\n",
    "G[:,:,1] = -np.eye(2)\n",
    "G[:,:,2] = I\n",
    "G[:,:,3] = -I\n",
    "G[:,:,4] = J\n",
    "G[:,:,5] = -J\n",
    "G[:,:,6] = K\n",
    "G[:,:,7] = -K\n",
    "\n",
    "C_e = np.array([0])  # Conj Classes\n",
    "C_m = np.array([1])\n",
    "C_1 = np.array([2,3])\n",
    "C_2 = np.array([4,5])\n",
    "C_3 = np.array([6,7])\n",
    "# i - 1 ; j - 2 ; k - 3 !!!\n",
    "\n",
    "Z_e = np.array([0, 1, 2, 3, 4, 5, 6, 7])  # Centers Classes\n",
    "Z_m = np.array([0, 1, 2, 3, 4, 5, 6, 7])\n",
    "Z_1 = np.array([0, 2, 1, 3])\n",
    "Z_2 = np.array([0, 4, 1, 5])\n",
    "Z_3 = np.array([0, 6, 1, 7])\n",
    "\n",
    "X_e = np.array([0]) # Coset Representatives q_c\n",
    "X_m = np.array([0])\n",
    "X_1 = np.array([0,4])\n",
    "X_2 = np.array([0,6])\n",
    "X_3 = np.array([0,2])"
   ]
  },
  {
   "cell_type": "code",
   "execution_count": 8,
   "metadata": {},
   "outputs": [],
   "source": [
    "# Def the Reps as Mats\n",
    "def Triv(x):\n",
    "    return np.array([[1]])\n",
    "def A_1(x):\n",
    "    if (x in C_2) or (x in C_3):\n",
    "        return np.array([[-1]])\n",
    "    else:\n",
    "        return np.array([[1]])\n",
    "def A_2(x):\n",
    "    if (x in C_1) or (x in C_3):\n",
    "        return np.array([[-1]])\n",
    "    else:\n",
    "        return np.array([[1]])\n",
    "def A_3(x):\n",
    "    if (x in C_1) or (x in C_2):\n",
    "        return np.array([[-1]])\n",
    "    else:\n",
    "        return np.array([[1]])\n",
    "def E(x):\n",
    "    return G[:,:,x] # the 2d faithful rep\n",
    "def Om_1(x):\n",
    "    if x in [0]:\n",
    "        return np.array([[1]])\n",
    "    elif x in [1]:\n",
    "        return np.array([[-1]])\n",
    "    elif x in [2,4,6]:\n",
    "        return np.array([[1.j]])\n",
    "    elif x in [3,5,7]:\n",
    "        return np.array([[-1.j]])\n",
    "def Om_2(x):\n",
    "    if x in [0]:\n",
    "        return np.array([[1]])\n",
    "    elif x in [1]:\n",
    "        return np.array([[1]])\n",
    "    elif x in [2,4,6]:\n",
    "        return np.array([[-1]])\n",
    "    elif x in [3,5,7]:\n",
    "        return np.array([[-1]])\n",
    "def Om_3(x):\n",
    "    if x in [0]:\n",
    "        return np.array([[1]])\n",
    "    elif x in [1]:\n",
    "        return np.array([[-1]])\n",
    "    elif x in [2,4,6]:\n",
    "        return np.array([[-1.j]])\n",
    "    elif x in [3,5,7]:\n",
    "        return np.array([[1.j]])"
   ]
  },
  {
   "cell_type": "code",
   "execution_count": 9,
   "metadata": {},
   "outputs": [],
   "source": [
    "# Def chars of Reps\n",
    "def triv(x):\n",
    "    return 1\n",
    "def a_1(x):\n",
    "    if (x in C_2) or (x in C_3):\n",
    "        return -1\n",
    "    else:\n",
    "        return 1\n",
    "def a_2(x):\n",
    "    if (x in C_1) or (x in C_3):\n",
    "        return -1\n",
    "    else:\n",
    "        return 1\n",
    "def a_3(x):\n",
    "    if (x in C_1) or (x in C_2):\n",
    "        return -1\n",
    "    else:\n",
    "        return 1\n",
    "def e(x):\n",
    "    if (x in C_e):\n",
    "        return 2\n",
    "    elif (x in C_m):\n",
    "        return -2\n",
    "    else:\n",
    "        return 0\n",
    "def om_1(x):\n",
    "    if x in [0]:\n",
    "        return 1\n",
    "    elif x in [1]:\n",
    "        return -1\n",
    "    elif x in [2,4,6]:\n",
    "        return 1.j\n",
    "    elif x in [3,5,7]:\n",
    "        return -1.j\n",
    "def om_2(x):\n",
    "    if x in [0]:\n",
    "        return 1\n",
    "    elif x in [1]:\n",
    "        return 1\n",
    "    elif x in [2,4,6]:\n",
    "        return -1\n",
    "    elif x in [3,5,7]:\n",
    "        return -1\n",
    "def om_3(x):\n",
    "    if x in [0]:\n",
    "        return 1\n",
    "    elif x in [1]:\n",
    "        return -1\n",
    "    elif x in [2,4,6]:\n",
    "        return -1.j\n",
    "    elif x in [3,5,7]:\n",
    "        return 1.j\n"
   ]
  },
  {
   "cell_type": "code",
   "execution_count": 10,
   "metadata": {},
   "outputs": [],
   "source": [
    "# Def Particles and some Fns\n",
    "def q(c):\n",
    "    Q_C = [0, 0, 0, 4, 0, 6, 0, 2] # This for q_c instead\n",
    "    return Q_C[c]\n",
    "def grp_i(i):\n",
    "    return matInv(G[:,:,i])\n",
    "\n",
    "def index(h):\n",
    "    for i in range(8): # to be generalised\n",
    "        if np.array_equal(h, G[:,:,i]):\n",
    "            return i\n",
    "\n",
    "def inv(x):\n",
    "    for i in range(8): # to be generalised\n",
    "        if np.array_equal(matInv(G[:,:,x]), G[:,:,i]):\n",
    "            return i\n",
    "\n",
    "def grp(x):\n",
    "    return G[:,:, x] # USE G AS A GLOBAL VAR!!! ---- CAREFUL !\n",
    "\n",
    "Particles = [(0, C_e, X_e, triv),(1, C_m, X_m, triv),(2, C_e, X_e, a_1),(3, C_e, X_e, a_2),(4, C_e, X_e, a_3),(5, C_m, X_m, a_1),(6, C_m, X_m, a_2),(7, C_m, X_m, a_3),(8, C_e, X_e, e),(9, C_m, X_m, e),\\\n",
    "    (10, C_1, X_1, triv), (11, C_1, X_1, om_1), (12, C_1, X_1, om_2), (13, C_1, X_1, om_3),\\\n",
    "        (14, C_2, X_2, triv), (15, C_2, X_2, om_1), (16, C_2, X_2, om_2), (17, C_2, X_2, om_3),\\\n",
    "            (18, C_3, X_3, triv), (19, C_3, X_3, om_1), (20, C_3, X_3, om_2), (21, C_3, X_3, om_3),]\n",
    "Particles_Q = Particles\n",
    "Particles_lab_Q = [('0', 'C_e', 'X_e', 'triv'),('1', 'C_m', 'X_m', 'triv'),('2', 'C_e', 'X_e', 'a_1'),('3', 'C_e', 'X_e', 'a_2'),('4', 'C_e', 'X_e', 'a_3'),('5', 'C_m', 'X_m', 'a_1'),('6', 'C_m', 'X_m', 'a_2'),('7', 'C_m', 'X_m', 'a_3'),('8', 'C_e', 'X_e', 'e'),('9', 'C_m', 'X_m', 'e'),\\\n",
    "    ('10', 'C_1', 'X_1', 'triv'), ('11', 'C_1', 'X_1', 'om_1'), ('12', 'C_1', 'X_1', 'om_2'), ('13', 'C_1', 'X_1', 'om_3'),\\\n",
    "        ('14', 'C_2', 'X_2', 'triv'), ('15', 'C_2', 'X_2', 'om_1'), ('16', 'C_2', 'X_2', 'om_2'), ('17', 'C_2', 'X_2', 'om_3'),\\\n",
    "            ('18', 'C_3', 'X_3', 'triv'), ('19', 'C_3', 'X_3', 'om_1'), ('20', 'C_3', 'X_3', 'om_2'), ('21', 'C_3', 'X_3', 'om_3'),]\n",
    "\n",
    "S = np.zeros([22,22], complex)\n",
    "for i, C_i, X_i, char_i in Particles:\n",
    "    for j, C_j, X_j, char_j in Particles:\n",
    "        sum = 0 \n",
    "        for i_class, elem_i_class in enumerate(C_i):\n",
    "            for j_class, elem_j_class in enumerate(C_j):\n",
    "                if np.array_equal(G[:,:,elem_i_class]@G[:,:,elem_j_class], G[:,:,elem_j_class]@G[:,:,elem_i_class]):\n",
    "                    sum+=char_i(index(matInv(G[:,:,X_i[i_class]])@G[:,:,elem_j_class]@G[:,:,X_i[i_class]]))*char_j(index(matInv(G[:,:,X_j[j_class]])@G[:,:,elem_i_class]@G[:,:,X_j[j_class]]))\n",
    "        S[i,j] = sum\n",
    "\n",
    "S_Q = S/8\n",
    "# print('\\n'.join([''.join(['{:4}'.format(item) for item in row]) \n",
    "#      for row in S]))\n",
    "N_Q = np.zeros([22,22,22])\n",
    "for I in range(22):\n",
    "    for J in range(22):\n",
    "        for K in range(22):\n",
    "            for L in range(22):\n",
    "                N_Q[I,J,K] += np.real(S_Q[I,L]*S_Q[J,L]*np.conj(S_Q[K,L])/S_Q[0,L])"
   ]
  },
  {
   "cell_type": "code",
   "execution_count": 130,
   "metadata": {},
   "outputs": [
    {
     "name": "stdout",
     "output_type": "stream",
     "text": [
      "('10', 'C_1', 'X_1', 'triv') , ('15', 'C_2', 'X_2', 'om_1')\n",
      "S_{aa}=(0.5+0j)\n",
      "S_{bb}=(-0.5+0j)\n",
      "S_{ab}=0j\n",
      "S_{ba}=0j\n",
      "S_{0a}=(0.25+0j)\n",
      "S_{a0}=(0.25+0j)\n",
      "S_{0a}=(0.25+0j)\n",
      "S_{a0}=(0.25+0j)\n"
     ]
    }
   ],
   "source": [
    "an_1 = 10\n",
    "an_2 = 15\n",
    "print(Particles_lab_Q[an_1],',', Particles_lab_Q[an_2])\n",
    "print('S_{aa}='+str(S_Q[an_1, an_1]))\n",
    "print('S_{bb}='+str(S_Q[an_2, an_2]))\n",
    "print('S_{ab}='+str(S_Q[an_1, an_2]))\n",
    "print('S_{ba}='+str(S_Q[an_2, an_1]))\n",
    "print('S_{0a}='+str(S_Q[0, an_2]))\n",
    "print('S_{a0}='+str(S_Q[an_2, 0]))\n",
    "print('S_{0a}='+str(S_Q[0, an_1]))\n",
    "print('S_{a0}='+str(S_Q[an_1, 0]))"
   ]
  },
  {
   "cell_type": "code",
   "execution_count": 12,
   "metadata": {},
   "outputs": [
    {
     "name": "stdout",
     "output_type": "stream",
     "text": [
      "('14', 'C_2', 'X_2', 'triv') x ('14', 'C_2', 'X_2', 'triv') =\n",
      "1 x ('0', 'C_e', 'X_e', 'triv')\n",
      "1 x ('1', 'C_m', 'X_m', 'triv')\n",
      "1 x ('3', 'C_e', 'X_e', 'a_2')\n",
      "1 x ('6', 'C_m', 'X_m', 'a_2')\n"
     ]
    }
   ],
   "source": [
    "i_1 = 14 # Prints fusion rules\n",
    "i_2 = 14\n",
    "print(Particles_lab_Q[i_1],'x', Particles_lab_Q[i_2], '=')\n",
    "for i, indicator in enumerate(N_Q[i_1,i_2,:]):\n",
    "    if indicator != 0:\n",
    "        print(int(indicator),'x', Particles_lab_Q[i])\n",
    "S_r = 8*np.real(S)"
   ]
  },
  {
   "cell_type": "markdown",
   "metadata": {},
   "source": [
    "## R- Symbol Calculation\n",
    "\n",
    "Imagine we hace a space $\\mathcal{H} = \\mathcal{H}_b \\otimes \\mathcal{H}_a$ we can project down to the space of irreducible representations by $\\mathcal{P}_{c}^{ba} \\propto \\sum_{c \\in C_c}\\sum_{h \\in G}\\sum_{z \\in Z(r)}\\chi(z)^* B_h^b A_{q_c z \\bar{q}_c}^b \\otimes B_{h^{-1}c}^a A_{q_c z \\bar{q}_c}^a$.\n",
    "\n",
    "The braiding action $\\mathcal{B}_{ab}: \\mathcal{H}_a\\otimes\\mathcal{H}_b\\rightarrow\\mathcal{H}_b\\otimes\\mathcal{H}_a$ is given by: $Flip \\circ (\\sum_g A_g^a \\otimes B_g^b)$.\n",
    "\n",
    "Combining the two facts we can evaluate the R-symbol as: $\\mathcal{R}_c^{ab} \\propto \\text{Tr} \\{\\sum_{c \\in C_c}\\sum_{z \\in Z(r_c)}\\sum_{h \\in G}\\sum_{g \\in G}\\chi(z)^* B_h^b A_{q_c z \\bar{q}_c}^b B_g^b \\otimes B_{h^{-1}c}^a A_{q_c z \\bar{q}_c}^a A_g^a\\} $\n",
    "\n",
    "Finaly: $\\mathcal{R}_c^{ab} \\propto \\text{Tr} \\{\\sum_{c \\in C_c}\\sum_{z \\in Z(r_c)}\\sum_{h \\in G}\\chi(z)^* A_{q_c z \\bar{q}_c}^b B_h^b \\otimes A_{q_c z \\bar{q}_c h}^a B_{h^{-1}c}^a \\} $, with condition $|\\mathcal{R}_c^{ab}| = 1$."
   ]
  },
  {
   "cell_type": "markdown",
   "metadata": {},
   "source": [
    "### $Q_8$"
   ]
  },
  {
   "cell_type": "code",
   "execution_count": 13,
   "metadata": {},
   "outputs": [],
   "source": [
    "Z_s = [Z_e, Z_m, Z_e, Z_e, Z_e, Z_m, Z_m, Z_m, Z_e, Z_m, Z_1, Z_1, Z_1, Z_1, Z_2, Z_2, Z_2, Z_2, Z_3, Z_3, Z_3, Z_3]\n",
    "Dim_s = [1,1,1,1,1,1,1,1,2,2,2,2,2,2,2,2,2,2,2,2,2,2]\n",
    "C_mods = [1,1,1,1,1,1,1,1,1,1,2,2,2,2,2,2,2,2,2,2,2,2]\n",
    "chi_mods = [1,1,1,1,1,1,1,1,2,2,1,1,1,1,1,1,1,1,1,1,1,1]\n",
    "Z_reps = [Triv, Triv, A_1, A_2, A_3, A_1, A_2, A_3, E, E, Triv, Om_1, Om_2, Om_3, Triv, Om_1, Om_2, Om_3, Triv, Om_1, Om_2, Om_3]"
   ]
  },
  {
   "cell_type": "code",
   "execution_count": 14,
   "metadata": {},
   "outputs": [
    {
     "data": {
      "text/plain": [
       "1"
      ]
     },
     "execution_count": 14,
     "metadata": {},
     "output_type": "execute_result"
    }
   ],
   "source": [
    "np.array([[1]])[0,0]"
   ]
  },
  {
   "cell_type": "markdown",
   "metadata": {},
   "source": [
    "Defining $D(Q_8)$ representation matrices\n",
    "\n",
    "$A_g:$"
   ]
  },
  {
   "cell_type": "code",
   "execution_count": 15,
   "metadata": {},
   "outputs": [],
   "source": [
    "def a_mat(an_type, g):\n",
    "    # Basis is |c \\mu> \n",
    "    d = Dim_s[an_type]\n",
    "    chi_mod = chi_mods[an_type]\n",
    "    C_mod = C_mods[an_type]\n",
    "    Z_set = Z_s[an_type]\n",
    "    Z_rep = Z_reps[an_type]\n",
    "    (id, C, X, char) = Particles_Q[an_type]\n",
    "    # use q(c) instead of X set\n",
    "    A = np.zeros([d, d], dtype=complex)\n",
    "    for i_c, c in enumerate(C):\n",
    "        for mu in range(chi_mod):\n",
    "            for i_cp, c_prim in enumerate(C):\n",
    "                for nu in range(chi_mod):\n",
    "                    if is_eq(grp(c_prim), grp(g)@grp(c)@grp_i(g)):\n",
    "                        rep_map = Z_rep(index( grp_i(q(c_prim))@grp(g)@grp(q(c)) ))\n",
    "                        mat_elem = rep_map[mu,nu]\n",
    "                        A[i_cp*chi_mod+nu, i_c*chi_mod+mu]=mat_elem\n",
    "    return A\n"
   ]
  },
  {
   "cell_type": "code",
   "execution_count": 16,
   "metadata": {},
   "outputs": [
    {
     "data": {
      "text/plain": [
       "array([[ 0.+1.j,  0.+0.j],\n",
       "       [ 0.+0.j, -0.-1.j]])"
      ]
     },
     "execution_count": 16,
     "metadata": {},
     "output_type": "execute_result"
    }
   ],
   "source": [
    "a_mat(13, 3)"
   ]
  },
  {
   "cell_type": "markdown",
   "metadata": {},
   "source": [
    "$B_h:$"
   ]
  },
  {
   "cell_type": "code",
   "execution_count": 17,
   "metadata": {},
   "outputs": [],
   "source": [
    "def b_mat(an_type, g):\n",
    "    # Basis is |c \\mu> \n",
    "    d = Dim_s[an_type]\n",
    "    chi_mod = chi_mods[an_type]\n",
    "    C_mod = C_mods[an_type]\n",
    "    Z_set = Z_s[an_type]\n",
    "    Z_rep = Z_reps[an_type]\n",
    "    (id, C, X, char) = Particles_Q[an_type]\n",
    "    # use q(c) instead of X set\n",
    "    B = np.zeros([d, d], dtype=complex)\n",
    "    for i_c, c in enumerate(C):\n",
    "        for mu in range(chi_mod):        \n",
    "            if g == c:\n",
    "                B[i_c*chi_mod+mu, i_c*chi_mod+mu]=1\n",
    "    return B"
   ]
  },
  {
   "cell_type": "code",
   "execution_count": 18,
   "metadata": {},
   "outputs": [
    {
     "data": {
      "text/plain": [
       "array([[0.+0.j, 0.+0.j],\n",
       "       [0.+0.j, 0.+0.j]])"
      ]
     },
     "execution_count": 18,
     "metadata": {},
     "output_type": "execute_result"
    }
   ],
   "source": [
    "b_mat(13,4)"
   ]
  },
  {
   "cell_type": "code",
   "execution_count": 123,
   "metadata": {},
   "outputs": [],
   "source": [
    "def r_symbol(an_1, an_2, an_3):\n",
    "    d_1 = Dim_s[an_1]\n",
    "    d_2 = Dim_s[an_2]\n",
    "    T = np.zeros([d_1*d_2, d_1*d_2], dtype=complex)\n",
    "    # T_k = np.zeros([d_1*d_2, d_1*d_2], dtype=complex)\n",
    "    for g in range(8):\n",
    "        T += np.kron(a_mat(an_1,g), b_mat(an_2,g))\n",
    "        # T_k += np.kron(b_mat(an_2,g), a_mat(an_1,g))\n",
    "    # print('apply', T)\n",
    "    F = np.zeros([d_1*d_2, d_1*d_2])\n",
    "    for i in range(d_1):\n",
    "        for j in range(d_2):\n",
    "            for m in range(d_2):\n",
    "                for n in range(d_1):\n",
    "                    if i == n and j == m:\n",
    "                        F[m*d_1+n, i*d_2 + j] = 1\n",
    "\n",
    "    # Contrcut the Splitting Tree Basis!\n",
    "    Pro = rep_proj_spec(an_1, an_2, an_3,0)\n",
    "    w, v = np.linalg.eig(Pro)\n",
    "    for i_lam, lam in enumerate(w):\n",
    "        if lam == 1:\n",
    "            Vec_1 = v[:,i_lam]\n",
    "    \n",
    "    Pro = rep_proj_spec(an_2, an_1, an_3,0)\n",
    "    w, v = np.linalg.eig(Pro)\n",
    "    for i_lam, lam in enumerate(w):\n",
    "        if lam == 1:\n",
    "            Vec_2 = v[:,i_lam]\n",
    "\n",
    "    Vec_2 = F@T@Vec_2\n",
    "    np.dot(Vec_1, Vec_2)\n",
    "    # print(Vec_1, Vec_2)\n",
    "    return np.dot(Vec_1, Vec_2)\n",
    "\n",
    "def proj_norm(P):\n",
    "    a = np.trace(P)\n",
    "    b = np.trace(P@P)\n",
    "    return P*a/b\n",
    "\n",
    "def rep_proj(an_1, an_2, an_3):\n",
    "    d_1 = Dim_s[an_1]\n",
    "    d_2 = Dim_s[an_2]\n",
    "    Z_3 = Z_s[an_3]\n",
    "    (id_3, C_3, X_3, char_3) = Particles_Q[an_3]\n",
    "    Res = np.zeros([d_1*d_2,d_1*d_2], dtype=complex)\n",
    "    for c in C_3:\n",
    "        for z in Z_3:\n",
    "            for h in range(8):\n",
    "                Res += np.conjugate(char_3(z))*np.kron( b_mat(an_1, index( grp_i(h)@grp(c) ) ) @ a_mat(an_1,index( grp(q(c))@grp(z)@grp_i(q(c)) )),\n",
    "                b_mat(an_2,h) @ a_mat(an_2,index( grp(q(c))@grp(z)@grp_i(q(c)) )) )\n",
    "    return proj_norm(Res) # Normalisation issues :(\n",
    "\n",
    "def rep_proj_spec(an_1, an_2, an_3, id):# Basis is |c \\mu> # NOT SURE if the FORM is correct \n",
    "    d_1 = Dim_s[an_1]\n",
    "    d_2 = Dim_s[an_2]\n",
    "    Z_3 = Z_s[an_3]\n",
    "    chi_mod = chi_mods[an_3]\n",
    "    Z_rep = Z_reps[an_3]\n",
    "    (id_3, C_3, X_3, char_3) = Particles_Q[an_3]\n",
    "    Res = np.zeros([d_1*d_2,d_1*d_2], dtype=complex)\n",
    "    i_c = int(np.floor(id/chi_mod))\n",
    "    c = C_3[i_c]\n",
    "    mu = np.mod(id,chi_mod)\n",
    "    for z in Z_3:\n",
    "        for h in range(8):\n",
    "            Res += (dag(Z_rep(z))[mu,mu])*np.kron( b_mat(an_1, # Investigate does this one work???\n",
    "            index( grp_i(h)@grp(c) ) ) @ a_mat(an_1,\n",
    "            index( grp(q(c))@grp(z)@grp_i(q(c)) )),\n",
    "            b_mat(an_2,h) @ a_mat(an_2,index( grp(q(c))@grp(z)@grp_i(q(c)) )) )\n",
    "    return proj_norm(Res) # Normalisation issues :(\n",
    "\n",
    "def flip(B, an_1, an_2): # assume kron(M_a, M_b) has incides (a,b) = a*dim_b +b\n",
    "    d_1 = Dim_s[an_1]\n",
    "    d_2 = Dim_s[an_2]\n",
    "    T = np.zeros([d_1*d_2, d_1*d_2])\n",
    "    for i in range(d_1):\n",
    "        for j in range(d_2):\n",
    "            for m in range(d_2):\n",
    "                for n in range(d_1):\n",
    "                    if i == n and j == m:\n",
    "                        T[m*d_1+n, i*d_2 + j] = 1\n",
    "    # print('flip', T)\n",
    "    return T @ B @ matInv(T) #?\n",
    "\n",
    "def braid(B, an_1, an_2, an_3):\n",
    "    d_1 = Dim_s[an_1]\n",
    "    d_2 = Dim_s[an_2]\n",
    "    T = np.zeros([d_1*d_2, d_1*d_2], dtype=complex)\n",
    "    # T_k = np.zeros([d_1*d_2, d_1*d_2], dtype=complex)\n",
    "    for g in range(8):\n",
    "        T += np.kron(a_mat(an_1,g), b_mat(an_2,g))\n",
    "        # T_k += np.kron(b_mat(an_2,g), a_mat(an_1,g))\n",
    "    # print('apply', T)\n",
    "    F = np.zeros([d_1*d_2, d_1*d_2])\n",
    "    for i in range(d_1):\n",
    "        for j in range(d_2):\n",
    "            for m in range(d_2):\n",
    "                for n in range(d_1):\n",
    "                    if i == n and j == m:\n",
    "                        F[m*d_1+n, i*d_2 + j] = 1\n",
    "    return  F@T@B@matInv(T)@matInv(F)\n",
    "      \n",
    "\n",
    "def fusion_and_braid(an_1, an_2): # Depends on a lot of outside variables!!!\n",
    "    print(Particles_lab_Q[an_1],'x', Particles_lab_Q[an_2], '=')\n",
    "    for i, indicator in enumerate(N_Q[an_1,an_2,:]):\n",
    "        if indicator != 0:\n",
    "            # Calculate the R-Symbol\n",
    "            print(int(indicator),'x', Particles_lab_Q[i], 'with R_symb', str(r_symbol(an_1,an_2, i)))"
   ]
  },
  {
   "cell_type": "code",
   "execution_count": 122,
   "metadata": {},
   "outputs": [
    {
     "name": "stdout",
     "output_type": "stream",
     "text": [
      "('11', 'C_1', 'X_1', 'om_1') x ('12', 'C_1', 'X_1', 'om_2') =\n",
      "1 x ('8', 'C_e', 'X_e', 'e') with R_symb -1j\n",
      "1 x ('9', 'C_m', 'X_m', 'e') with R_symb 1j\n"
     ]
    }
   ],
   "source": [
    "fusion_and_braid(11,12)"
   ]
  },
  {
   "cell_type": "code",
   "execution_count": 109,
   "metadata": {},
   "outputs": [
    {
     "name": "stdout",
     "output_type": "stream",
     "text": [
      "[ 0.        +0.j -0.70710678+0.j  0.70710678+0.j  0.        +0.j] [ 0.        +0.j  0.70710678+0.j -0.70710678+0.j  0.        +0.j]\n",
      "R sim (-0.9999999999999998+0j)\n"
     ]
    }
   ],
   "source": [
    "an_1 = 10\n",
    "an_2 = 10\n",
    "an_3 = 0\n",
    "print('R sim',)\n"
   ]
  },
  {
   "cell_type": "code",
   "execution_count": 70,
   "metadata": {},
   "outputs": [],
   "source": [
    "Z_rep = Z_reps[2]"
   ]
  },
  {
   "cell_type": "code",
   "execution_count": 77,
   "metadata": {},
   "outputs": [
    {
     "data": {
      "text/plain": [
       "1"
      ]
     },
     "execution_count": 77,
     "metadata": {},
     "output_type": "execute_result"
    }
   ],
   "source": [
    "dag(Z_rep(0))[0,0]"
   ]
  },
  {
   "cell_type": "code",
   "execution_count": null,
   "metadata": {},
   "outputs": [],
   "source": []
  }
 ],
 "metadata": {
  "kernelspec": {
   "display_name": "Python 3.9.4 ('tenpy')",
   "language": "python",
   "name": "python3"
  },
  "language_info": {
   "codemirror_mode": {
    "name": "ipython",
    "version": 3
   },
   "file_extension": ".py",
   "mimetype": "text/x-python",
   "name": "python",
   "nbconvert_exporter": "python",
   "pygments_lexer": "ipython3",
   "version": "3.8.13"
  },
  "orig_nbformat": 4,
  "vscode": {
   "interpreter": {
    "hash": "aff721162324b20ef4a196ba142be7336868ca9b8e2100737af6517b9c37af81"
   }
  }
 },
 "nbformat": 4,
 "nbformat_minor": 2
}
