{
  "cells": [
    {
      "cell_type": "markdown",
      "metadata": {
        "id": "DkA0Fobtb9dM"
      },
      "source": [
        "##### Copyright 2022 The Cirq Developers"
      ]
    },
    {
      "cell_type": "code",
      "execution_count": 3,
      "metadata": {
        "cellView": "form",
        "id": "tUshu7YfcAAW"
      },
      "outputs": [],
      "source": [
        "# @title Licensed under the Apache License, Version 2.0 (the \"License\");\n",
        "# you may not use this file except in compliance with the License.\n",
        "# You may obtain a copy of the License at\n",
        "#\n",
        "# https://www.apache.org/licenses/LICENSE-2.0\n",
        "#\n",
        "# Unless required by applicable law or agreed to in writing, software\n",
        "# distributed under the License is distributed on an \"AS IS\" BASIS,\n",
        "# WITHOUT WARRANTIES OR CONDITIONS OF ANY KIND, either express or implied.\n",
        "# See the License for the specific language governing permissions and\n",
        "# limitations under the License."
      ]
    },
    {
      "cell_type": "markdown",
      "metadata": {
        "id": "4ySIERZGZN0d"
      },
      "source": [
        "# QVM Basic Example"
      ]
    },
    {
      "cell_type": "markdown",
      "metadata": {
        "id": "vGUeqO9jn1vc"
      },
      "source": [
        "<table class=\"tfo-notebook-buttons\" align=\"left\">\n",
        "  <td>\n",
        "    <a target=\"_blank\" href=\"https://quantumai.google/cirq/simulate/qvm_basic_example\"><img src=\"https://quantumai.google/site-assets/images/buttons/quantumai_logo_1x.png\" />View on QuantumAI</a>\n",
        "  </td>\n",
        "  <td>\n",
        "    <a target=\"_blank\" href=\"https://colab.research.google.com/github/quantumlib/Cirq/blob/master/docs/simulate/qvm_basic_example.ipynb\"><img src=\"https://quantumai.google/site-assets/images/buttons/colab_logo_1x.png\" />Run in Google Colab</a>\n",
        "  </td>\n",
        "  <td>\n",
        "    <a target=\"_blank\" href=\"https://github.com/quantumlib/Cirq/blob/master/docs/simulate/qvm_basic_example.ipynb\"><img src=\"https://quantumai.google/site-assets/images/buttons/github_logo_1x.png\" />View source on GitHub</a>\n",
        "  </td>\n",
        "  <td>\n",
        "    <a href=\"https://storage.googleapis.com/tensorflow_docs/Cirq/docs/simulate/qvm_basic_example.ipynb\"><img src=\"https://quantumai.google/site-assets/images/buttons/download_icon_1x.png\" />Download notebook</a>\n",
        "  </td>\n",
        "</table>"
      ]
    },
    {
      "cell_type": "markdown",
      "metadata": {
        "id": "cd6e59ef3edd"
      },
      "source": [
        "This notebook walks through running a simple circuit on the [Quantum Virtual Machine](/cirq/simulate/quantum_virtual_machine), including the necessary constraints on a device-runnable circuit and how to satisfy them. "
      ]
    },
    {
      "cell_type": "markdown",
      "metadata": {
        "id": "Lfira0gPf0Gd"
      },
      "source": [
        "## **Install** Cirq and qsim"
      ]
    },
    {
      "cell_type": "code",
      "execution_count": 4,
      "metadata": {
        "id": "zs5J6wAXqvtW"
      },
      "outputs": [
        {
          "ename": "AttributeError",
          "evalue": "module 'cirq.circuits.circuit' has no attribute '_DEVICE_DEP_MESSAGE'",
          "output_type": "error",
          "traceback": [
            "\u001b[1;31m---------------------------------------------------------------------------\u001b[0m",
            "\u001b[1;31mAttributeError\u001b[0m                            Traceback (most recent call last)",
            "\u001b[1;32mc:\\Users\\Jovan Jovanovic\\CodingProjects\\kitaevsim\\Google Colab and Google QAI MISC\\QVM_simple_multiplication.ipynb Cell 7\u001b[0m in \u001b[0;36m<cell line: 3>\u001b[1;34m()\u001b[0m\n\u001b[0;32m      <a href='vscode-notebook-cell:/c%3A/Users/Jovan%20Jovanovic/CodingProjects/kitaevsim/Google%20Colab%20and%20Google%20QAI%20MISC/QVM_simple_multiplication.ipynb#ch0000006?line=2'>3</a>\u001b[0m \u001b[39mtry\u001b[39;00m:\n\u001b[0;32m      <a href='vscode-notebook-cell:/c%3A/Users/Jovan%20Jovanovic/CodingProjects/kitaevsim/Google%20Colab%20and%20Google%20QAI%20MISC/QVM_simple_multiplication.ipynb#ch0000006?line=3'>4</a>\u001b[0m     \u001b[39mimport\u001b[39;00m \u001b[39mcirq\u001b[39;00m\n\u001b[1;32m----> <a href='vscode-notebook-cell:/c%3A/Users/Jovan%20Jovanovic/CodingProjects/kitaevsim/Google%20Colab%20and%20Google%20QAI%20MISC/QVM_simple_multiplication.ipynb#ch0000006?line=4'>5</a>\u001b[0m     \u001b[39mimport\u001b[39;00m \u001b[39mcirq_google\u001b[39;00m\n\u001b[0;32m      <a href='vscode-notebook-cell:/c%3A/Users/Jovan%20Jovanovic/CodingProjects/kitaevsim/Google%20Colab%20and%20Google%20QAI%20MISC/QVM_simple_multiplication.ipynb#ch0000006?line=5'>6</a>\u001b[0m \u001b[39mexcept\u001b[39;00m \u001b[39mImportError\u001b[39;00m:\n\u001b[0;32m      <a href='vscode-notebook-cell:/c%3A/Users/Jovan%20Jovanovic/CodingProjects/kitaevsim/Google%20Colab%20and%20Google%20QAI%20MISC/QVM_simple_multiplication.ipynb#ch0000006?line=6'>7</a>\u001b[0m     \u001b[39mprint\u001b[39m(\u001b[39m\"\u001b[39m\u001b[39minstalling cirq...\u001b[39m\u001b[39m\"\u001b[39m)\n",
            "File \u001b[1;32mc:\\Pyhton\\Anaconda3\\envs\\tenpy\\lib\\site-packages\\cirq_google\\__init__.py:25\u001b[0m, in \u001b[0;36m<module>\u001b[1;34m\u001b[0m\n\u001b[0;32m     19\u001b[0m \u001b[39mfrom\u001b[39;00m \u001b[39mcirq_google\u001b[39;00m \u001b[39mimport\u001b[39;00m api\n\u001b[0;32m     21\u001b[0m \u001b[39mfrom\u001b[39;00m \u001b[39mcirq_google\u001b[39;00m\u001b[39m.\u001b[39;00m\u001b[39m_version\u001b[39;00m \u001b[39mimport\u001b[39;00m (\n\u001b[0;32m     22\u001b[0m     __version__,\n\u001b[0;32m     23\u001b[0m )\n\u001b[1;32m---> 25\u001b[0m \u001b[39mfrom\u001b[39;00m \u001b[39mcirq_google\u001b[39;00m\u001b[39m.\u001b[39;00m\u001b[39mcalibration\u001b[39;00m \u001b[39mimport\u001b[39;00m (\n\u001b[0;32m     26\u001b[0m     ALL_ANGLES_FLOQUET_PHASED_FSIM_CHARACTERIZATION,\n\u001b[0;32m     27\u001b[0m     CircuitWithCalibration,\n\u001b[0;32m     28\u001b[0m     FloquetPhasedFSimCalibrationOptions,\n\u001b[0;32m     29\u001b[0m     FloquetPhasedFSimCalibrationRequest,\n\u001b[0;32m     30\u001b[0m     FSimPhaseCorrections,\n\u001b[0;32m     31\u001b[0m     PhasedFSimCalibrationError,\n\u001b[0;32m     32\u001b[0m     PhasedFSimCalibrationOptions,\n\u001b[0;32m     33\u001b[0m     PhasedFSimCalibrationRequest,\n\u001b[0;32m     34\u001b[0m     PhasedFSimCalibrationResult,\n\u001b[0;32m     35\u001b[0m     PhasedFSimCharacterization,\n\u001b[0;32m     36\u001b[0m     PhasedFSimEngineSimulator,\n\u001b[0;32m     37\u001b[0m     XEBPhasedFSimCalibrationOptions,\n\u001b[0;32m     38\u001b[0m     XEBPhasedFSimCalibrationRequest,\n\u001b[0;32m     39\u001b[0m     LocalXEBPhasedFSimCalibrationOptions,\n\u001b[0;32m     40\u001b[0m     LocalXEBPhasedFSimCalibrationRequest,\n\u001b[0;32m     41\u001b[0m     SQRT_ISWAP_INV_PARAMETERS,\n\u001b[0;32m     42\u001b[0m     THETA_ZETA_GAMMA_FLOQUET_PHASED_FSIM_CHARACTERIZATION,\n\u001b[0;32m     43\u001b[0m     make_zeta_chi_gamma_compensation_for_moments,\n\u001b[0;32m     44\u001b[0m     make_zeta_chi_gamma_compensation_for_operations,\n\u001b[0;32m     45\u001b[0m     merge_matching_results,\n\u001b[0;32m     46\u001b[0m     prepare_floquet_characterization_for_moments,\n\u001b[0;32m     47\u001b[0m     prepare_characterization_for_moments,\n\u001b[0;32m     48\u001b[0m     prepare_floquet_characterization_for_moment,\n\u001b[0;32m     49\u001b[0m     prepare_characterization_for_moment,\n\u001b[0;32m     50\u001b[0m     prepare_floquet_characterization_for_operations,\n\u001b[0;32m     51\u001b[0m     prepare_characterization_for_operations,\n\u001b[0;32m     52\u001b[0m     run_calibrations,\n\u001b[0;32m     53\u001b[0m     run_floquet_characterization_for_moments,\n\u001b[0;32m     54\u001b[0m     run_zeta_chi_gamma_compensation_for_moments,\n\u001b[0;32m     55\u001b[0m     try_convert_sqrt_iswap_to_fsim,\n\u001b[0;32m     56\u001b[0m     WITHOUT_CHI_FLOQUET_PHASED_FSIM_CHARACTERIZATION,\n\u001b[0;32m     57\u001b[0m )\n\u001b[0;32m     59\u001b[0m \u001b[39mfrom\u001b[39;00m \u001b[39mcirq_google\u001b[39;00m\u001b[39m.\u001b[39;00m\u001b[39mdevices\u001b[39;00m \u001b[39mimport\u001b[39;00m (\n\u001b[0;32m     60\u001b[0m     Bristlecone,\n\u001b[0;32m     61\u001b[0m     Foxtail,\n\u001b[1;32m   (...)\u001b[0m\n\u001b[0;32m     65\u001b[0m     XmonDevice,\n\u001b[0;32m     66\u001b[0m )\n\u001b[0;32m     68\u001b[0m \u001b[39mfrom\u001b[39;00m \u001b[39mcirq_google\u001b[39;00m\u001b[39m.\u001b[39;00m\u001b[39mengine\u001b[39;00m \u001b[39mimport\u001b[39;00m (\n\u001b[0;32m     69\u001b[0m     Calibration,\n\u001b[0;32m     70\u001b[0m     CalibrationLayer,\n\u001b[1;32m   (...)\u001b[0m\n\u001b[0;32m     82\u001b[0m     get_engine_sampler,\n\u001b[0;32m     83\u001b[0m )\n",
            "File \u001b[1;32mc:\\Pyhton\\Anaconda3\\envs\\tenpy\\lib\\site-packages\\cirq_google\\calibration\\__init__.py:15\u001b[0m, in \u001b[0;36m<module>\u001b[1;34m\u001b[0m\n\u001b[0;32m      1\u001b[0m \u001b[39m# Copyright 2021 The Cirq Developers\u001b[39;00m\n\u001b[0;32m      2\u001b[0m \u001b[39m#\u001b[39;00m\n\u001b[0;32m      3\u001b[0m \u001b[39m# Licensed under the Apache License, Version 2.0 (the \"License\");\u001b[39;00m\n\u001b[1;32m   (...)\u001b[0m\n\u001b[0;32m     12\u001b[0m \u001b[39m# See the License for the specific language governing permissions and\u001b[39;00m\n\u001b[0;32m     13\u001b[0m \u001b[39m# limitations under the License.\u001b[39;00m\n\u001b[1;32m---> 15\u001b[0m \u001b[39mfrom\u001b[39;00m \u001b[39mcirq_google\u001b[39;00m\u001b[39m.\u001b[39;00m\u001b[39mcalibration\u001b[39;00m\u001b[39m.\u001b[39;00m\u001b[39mengine_simulator\u001b[39;00m \u001b[39mimport\u001b[39;00m (\n\u001b[0;32m     16\u001b[0m     PhasedFSimEngineSimulator,\n\u001b[0;32m     17\u001b[0m )\n\u001b[0;32m     19\u001b[0m \u001b[39mfrom\u001b[39;00m \u001b[39mcirq_google\u001b[39;00m\u001b[39m.\u001b[39;00m\u001b[39mcalibration\u001b[39;00m\u001b[39m.\u001b[39;00m\u001b[39mphased_fsim\u001b[39;00m \u001b[39mimport\u001b[39;00m (\n\u001b[0;32m     20\u001b[0m     ALL_ANGLES_FLOQUET_PHASED_FSIM_CHARACTERIZATION,\n\u001b[0;32m     21\u001b[0m     FloquetPhasedFSimCalibrationOptions,\n\u001b[1;32m   (...)\u001b[0m\n\u001b[0;32m     38\u001b[0m     try_convert_syc_or_sqrt_iswap_to_fsim,\n\u001b[0;32m     39\u001b[0m )\n\u001b[0;32m     41\u001b[0m \u001b[39mfrom\u001b[39;00m \u001b[39mcirq_google\u001b[39;00m\u001b[39m.\u001b[39;00m\u001b[39mcalibration\u001b[39;00m\u001b[39m.\u001b[39;00m\u001b[39mworkflow\u001b[39;00m \u001b[39mimport\u001b[39;00m (\n\u001b[0;32m     42\u001b[0m     CircuitWithCalibration,\n\u001b[0;32m     43\u001b[0m     FSimPhaseCorrections,\n\u001b[1;32m   (...)\u001b[0m\n\u001b[0;32m     54\u001b[0m     run_zeta_chi_gamma_compensation_for_moments,\n\u001b[0;32m     55\u001b[0m )\n",
            "File \u001b[1;32mc:\\Pyhton\\Anaconda3\\envs\\tenpy\\lib\\site-packages\\cirq_google\\calibration\\engine_simulator.py:19\u001b[0m, in \u001b[0;36m<module>\u001b[1;34m\u001b[0m\n\u001b[0;32m     17\u001b[0m \u001b[39mimport\u001b[39;00m \u001b[39mcirq\u001b[39;00m\n\u001b[0;32m     18\u001b[0m \u001b[39mfrom\u001b[39;00m \u001b[39mcirq\u001b[39;00m \u001b[39mimport\u001b[39;00m value\n\u001b[1;32m---> 19\u001b[0m \u001b[39mfrom\u001b[39;00m \u001b[39mcirq_google\u001b[39;00m\u001b[39m.\u001b[39;00m\u001b[39mcalibration\u001b[39;00m\u001b[39m.\u001b[39;00m\u001b[39mphased_fsim\u001b[39;00m \u001b[39mimport\u001b[39;00m (\n\u001b[0;32m     20\u001b[0m     FloquetPhasedFSimCalibrationRequest,\n\u001b[0;32m     21\u001b[0m     PhaseCalibratedFSimGate,\n\u001b[0;32m     22\u001b[0m     IncompatibleMomentError,\n\u001b[0;32m     23\u001b[0m     PhasedFSimCalibrationRequest,\n\u001b[0;32m     24\u001b[0m     PhasedFSimCalibrationResult,\n\u001b[0;32m     25\u001b[0m     PhasedFSimCharacterization,\n\u001b[0;32m     26\u001b[0m     SQRT_ISWAP_INV_PARAMETERS,\n\u001b[0;32m     27\u001b[0m     try_convert_gate_to_fsim,\n\u001b[0;32m     28\u001b[0m     try_convert_sqrt_iswap_to_fsim,\n\u001b[0;32m     29\u001b[0m )\n\u001b[0;32m     31\u001b[0m ParametersDriftGenerator \u001b[39m=\u001b[39m Callable[[cirq\u001b[39m.\u001b[39mQid, cirq\u001b[39m.\u001b[39mQid, cirq\u001b[39m.\u001b[39mFSimGate], PhasedFSimCharacterization]\n\u001b[0;32m     32\u001b[0m PhasedFsimDictParameters \u001b[39m=\u001b[39m Dict[\n\u001b[0;32m     33\u001b[0m     Tuple[cirq\u001b[39m.\u001b[39mQid, cirq\u001b[39m.\u001b[39mQid], Union[Dict[\u001b[39mstr\u001b[39m, \u001b[39mfloat\u001b[39m], PhasedFSimCharacterization]\n\u001b[0;32m     34\u001b[0m ]\n",
            "File \u001b[1;32mc:\\Pyhton\\Anaconda3\\envs\\tenpy\\lib\\site-packages\\cirq_google\\calibration\\phased_fsim.py:44\u001b[0m, in \u001b[0;36m<module>\u001b[1;34m\u001b[0m\n\u001b[0;32m     40\u001b[0m \u001b[39mfrom\u001b[39;00m \u001b[39mcirq\u001b[39;00m\u001b[39m.\u001b[39;00m\u001b[39mexperiments\u001b[39;00m\u001b[39m.\u001b[39;00m\u001b[39mxeb_fitting\u001b[39;00m \u001b[39mimport\u001b[39;00m (\n\u001b[0;32m     41\u001b[0m     XEBPhasedFSimCharacterizationOptions,\n\u001b[0;32m     42\u001b[0m )\n\u001b[0;32m     43\u001b[0m \u001b[39mfrom\u001b[39;00m \u001b[39mcirq_google\u001b[39;00m\u001b[39m.\u001b[39;00m\u001b[39mapi\u001b[39;00m \u001b[39mimport\u001b[39;00m v2\n\u001b[1;32m---> 44\u001b[0m \u001b[39mfrom\u001b[39;00m \u001b[39mcirq_google\u001b[39;00m\u001b[39m.\u001b[39;00m\u001b[39mengine\u001b[39;00m \u001b[39mimport\u001b[39;00m Calibration, CalibrationLayer, CalibrationResult, Engine, EngineJob\n\u001b[0;32m     45\u001b[0m \u001b[39mfrom\u001b[39;00m \u001b[39mcirq_google\u001b[39;00m\u001b[39m.\u001b[39;00m\u001b[39mops\u001b[39;00m \u001b[39mimport\u001b[39;00m FSimGateFamily\n\u001b[0;32m     47\u001b[0m \u001b[39mif\u001b[39;00m TYPE_CHECKING:\n",
            "File \u001b[1;32mc:\\Pyhton\\Anaconda3\\envs\\tenpy\\lib\\site-packages\\cirq_google\\engine\\__init__.py:18\u001b[0m, in \u001b[0;36m<module>\u001b[1;34m\u001b[0m\n\u001b[0;32m      1\u001b[0m \u001b[39m# Copyright 2018 The Cirq Developers\u001b[39;00m\n\u001b[0;32m      2\u001b[0m \u001b[39m#\u001b[39;00m\n\u001b[0;32m      3\u001b[0m \u001b[39m# Licensed under the Apache License, Version 2.0 (the \"License\");\u001b[39;00m\n\u001b[1;32m   (...)\u001b[0m\n\u001b[0;32m     12\u001b[0m \u001b[39m# See the License for the specific language governing permissions and\u001b[39;00m\n\u001b[0;32m     13\u001b[0m \u001b[39m# limitations under the License.\u001b[39;00m\n\u001b[0;32m     15\u001b[0m \u001b[39m\"\"\"Client for running on Google's Quantum Engine.\u001b[39;00m\n\u001b[0;32m     16\u001b[0m \u001b[39m\"\"\"\u001b[39;00m\n\u001b[1;32m---> 18\u001b[0m \u001b[39mfrom\u001b[39;00m \u001b[39mcirq_google\u001b[39;00m\u001b[39m.\u001b[39;00m\u001b[39mengine\u001b[39;00m\u001b[39m.\u001b[39;00m\u001b[39mabstract_engine\u001b[39;00m \u001b[39mimport\u001b[39;00m (\n\u001b[0;32m     19\u001b[0m     AbstractEngine,\n\u001b[0;32m     20\u001b[0m )\n\u001b[0;32m     22\u001b[0m \u001b[39mfrom\u001b[39;00m \u001b[39mcirq_google\u001b[39;00m\u001b[39m.\u001b[39;00m\u001b[39mengine\u001b[39;00m\u001b[39m.\u001b[39;00m\u001b[39mabstract_job\u001b[39;00m \u001b[39mimport\u001b[39;00m (\n\u001b[0;32m     23\u001b[0m     AbstractJob,\n\u001b[0;32m     24\u001b[0m )\n\u001b[0;32m     26\u001b[0m \u001b[39mfrom\u001b[39;00m \u001b[39mcirq_google\u001b[39;00m\u001b[39m.\u001b[39;00m\u001b[39mengine\u001b[39;00m\u001b[39m.\u001b[39;00m\u001b[39mabstract_processor\u001b[39;00m \u001b[39mimport\u001b[39;00m (\n\u001b[0;32m     27\u001b[0m     AbstractProcessor,\n\u001b[0;32m     28\u001b[0m )\n",
            "File \u001b[1;32mc:\\Pyhton\\Anaconda3\\envs\\tenpy\\lib\\site-packages\\cirq_google\\engine\\abstract_engine.py:27\u001b[0m, in \u001b[0;36m<module>\u001b[1;34m\u001b[0m\n\u001b[0;32m     25\u001b[0m \u001b[39mfrom\u001b[39;00m \u001b[39mcirq_google\u001b[39;00m\u001b[39m.\u001b[39;00m\u001b[39mengine\u001b[39;00m \u001b[39mimport\u001b[39;00m abstract_job, abstract_program, abstract_processor\n\u001b[0;32m     26\u001b[0m \u001b[39mfrom\u001b[39;00m \u001b[39mcirq_google\u001b[39;00m\u001b[39m.\u001b[39;00m\u001b[39mengine\u001b[39;00m\u001b[39m.\u001b[39;00m\u001b[39mclient\u001b[39;00m \u001b[39mimport\u001b[39;00m quantum\n\u001b[1;32m---> 27\u001b[0m \u001b[39mfrom\u001b[39;00m \u001b[39mcirq_google\u001b[39;00m\u001b[39m.\u001b[39;00m\u001b[39mserialization\u001b[39;00m \u001b[39mimport\u001b[39;00m Serializer\n\u001b[0;32m     29\u001b[0m VALID_DATE_TYPE \u001b[39m=\u001b[39m Union[datetime\u001b[39m.\u001b[39mdatetime, datetime\u001b[39m.\u001b[39mdate]\n\u001b[0;32m     32\u001b[0m \u001b[39mclass\u001b[39;00m \u001b[39mAbstractEngine\u001b[39;00m(abc\u001b[39m.\u001b[39mABC):\n",
            "File \u001b[1;32mc:\\Pyhton\\Anaconda3\\envs\\tenpy\\lib\\site-packages\\cirq_google\\serialization\\__init__.py:27\u001b[0m, in \u001b[0;36m<module>\u001b[1;34m\u001b[0m\n\u001b[0;32m     17\u001b[0m \u001b[39mfrom\u001b[39;00m \u001b[39mcirq_google\u001b[39;00m\u001b[39m.\u001b[39;00m\u001b[39mserialization\u001b[39;00m\u001b[39m.\u001b[39;00m\u001b[39marg_func_langs\u001b[39;00m \u001b[39mimport\u001b[39;00m (\n\u001b[0;32m     18\u001b[0m     arg_from_proto,\n\u001b[0;32m     19\u001b[0m )\n\u001b[0;32m     22\u001b[0m \u001b[39mfrom\u001b[39;00m \u001b[39mcirq_google\u001b[39;00m\u001b[39m.\u001b[39;00m\u001b[39mserialization\u001b[39;00m\u001b[39m.\u001b[39;00m\u001b[39mcircuit_serializer\u001b[39;00m \u001b[39mimport\u001b[39;00m (\n\u001b[0;32m     23\u001b[0m     CircuitSerializer,\n\u001b[0;32m     24\u001b[0m     CIRCUIT_SERIALIZER,\n\u001b[0;32m     25\u001b[0m )\n\u001b[1;32m---> 27\u001b[0m \u001b[39mfrom\u001b[39;00m \u001b[39mcirq_google\u001b[39;00m\u001b[39m.\u001b[39;00m\u001b[39mserialization\u001b[39;00m\u001b[39m.\u001b[39;00m\u001b[39mgate_sets\u001b[39;00m \u001b[39mimport\u001b[39;00m (\n\u001b[0;32m     28\u001b[0m     XMON,\n\u001b[0;32m     29\u001b[0m     FSIM_GATESET,\n\u001b[0;32m     30\u001b[0m     SQRT_ISWAP_GATESET,\n\u001b[0;32m     31\u001b[0m     SYC_GATESET,\n\u001b[0;32m     32\u001b[0m     NAMED_GATESETS,\n\u001b[0;32m     33\u001b[0m )\n\u001b[0;32m     35\u001b[0m \u001b[39mfrom\u001b[39;00m \u001b[39mcirq_google\u001b[39;00m\u001b[39m.\u001b[39;00m\u001b[39mserialization\u001b[39;00m\u001b[39m.\u001b[39;00m\u001b[39mop_deserializer\u001b[39;00m \u001b[39mimport\u001b[39;00m (\n\u001b[0;32m     36\u001b[0m     CircuitOpDeserializer,\n\u001b[0;32m     37\u001b[0m     DeserializingArg,\n\u001b[0;32m     38\u001b[0m     GateOpDeserializer,\n\u001b[0;32m     39\u001b[0m )\n\u001b[0;32m     41\u001b[0m \u001b[39mfrom\u001b[39;00m \u001b[39mcirq_google\u001b[39;00m\u001b[39m.\u001b[39;00m\u001b[39mserialization\u001b[39;00m\u001b[39m.\u001b[39;00m\u001b[39mop_serializer\u001b[39;00m \u001b[39mimport\u001b[39;00m (\n\u001b[0;32m     42\u001b[0m     CircuitOpSerializer,\n\u001b[0;32m     43\u001b[0m     GateOpSerializer,\n\u001b[0;32m     44\u001b[0m     SerializingArg,\n\u001b[0;32m     45\u001b[0m )\n",
            "File \u001b[1;32mc:\\Pyhton\\Anaconda3\\envs\\tenpy\\lib\\site-packages\\cirq_google\\serialization\\gate_sets.py:16\u001b[0m, in \u001b[0;36m<module>\u001b[1;34m\u001b[0m\n\u001b[0;32m     14\u001b[0m \u001b[39m\"\"\"Gate sets supported by Google's apis.\"\"\"\u001b[39;00m\n\u001b[0;32m     15\u001b[0m \u001b[39mfrom\u001b[39;00m \u001b[39mcirq\u001b[39;00m\u001b[39m.\u001b[39;00m\u001b[39m_doc\u001b[39;00m \u001b[39mimport\u001b[39;00m document\n\u001b[1;32m---> 16\u001b[0m \u001b[39mfrom\u001b[39;00m \u001b[39mcirq_google\u001b[39;00m\u001b[39m.\u001b[39;00m\u001b[39mserialization\u001b[39;00m \u001b[39mimport\u001b[39;00m serializable_gate_set\n\u001b[0;32m     17\u001b[0m \u001b[39mfrom\u001b[39;00m \u001b[39mcirq_google\u001b[39;00m\u001b[39m.\u001b[39;00m\u001b[39mserialization\u001b[39;00m\u001b[39m.\u001b[39;00m\u001b[39mcommon_serializers\u001b[39;00m \u001b[39mimport\u001b[39;00m (\n\u001b[0;32m     18\u001b[0m     SINGLE_QUBIT_SERIALIZERS,\n\u001b[0;32m     19\u001b[0m     SINGLE_QUBIT_DESERIALIZERS,\n\u001b[1;32m   (...)\u001b[0m\n\u001b[0;32m     37\u001b[0m     CIRCUIT_OP_DESERIALIZER,\n\u001b[0;32m     38\u001b[0m )\n\u001b[0;32m     40\u001b[0m SYC_GATESET \u001b[39m=\u001b[39m serializable_gate_set\u001b[39m.\u001b[39mSerializableGateSet(\n\u001b[0;32m     41\u001b[0m     gate_set_name\u001b[39m=\u001b[39m\u001b[39m'\u001b[39m\u001b[39msycamore\u001b[39m\u001b[39m'\u001b[39m,\n\u001b[0;32m     42\u001b[0m     serializers\u001b[39m=\u001b[39m[\n\u001b[1;32m   (...)\u001b[0m\n\u001b[0;32m     57\u001b[0m     ],\n\u001b[0;32m     58\u001b[0m )\n",
            "File \u001b[1;32mc:\\Pyhton\\Anaconda3\\envs\\tenpy\\lib\\site-packages\\cirq_google\\serialization\\serializable_gate_set.py:33\u001b[0m, in \u001b[0;36m<module>\u001b[1;34m\u001b[0m\n\u001b[0;32m     29\u001b[0m \u001b[39mfrom\u001b[39;00m \u001b[39mcirq_google\u001b[39;00m\u001b[39m.\u001b[39;00m\u001b[39mapi\u001b[39;00m \u001b[39mimport\u001b[39;00m v2\n\u001b[0;32m     30\u001b[0m \u001b[39mfrom\u001b[39;00m \u001b[39mcirq_google\u001b[39;00m\u001b[39m.\u001b[39;00m\u001b[39mserialization\u001b[39;00m \u001b[39mimport\u001b[39;00m serializer, op_deserializer, op_serializer, arg_func_langs\n\u001b[1;32m---> 33\u001b[0m \u001b[39mclass\u001b[39;00m \u001b[39mSerializableGateSet\u001b[39;00m(serializer\u001b[39m.\u001b[39mSerializer):\n\u001b[0;32m     34\u001b[0m     \u001b[39m\"\"\"A class for serializing and deserializing programs and operations.\u001b[39;00m\n\u001b[0;32m     35\u001b[0m \n\u001b[0;32m     36\u001b[0m \u001b[39m    This class is for cirq_google.api.v2 protos.\u001b[39;00m\n\u001b[0;32m     37\u001b[0m \u001b[39m    \"\"\"\u001b[39;00m\n\u001b[0;32m     39\u001b[0m     \u001b[39mdef\u001b[39;00m \u001b[39m__init__\u001b[39m(\n\u001b[0;32m     40\u001b[0m         \u001b[39mself\u001b[39m,\n\u001b[0;32m     41\u001b[0m         gate_set_name: \u001b[39mstr\u001b[39m,\n\u001b[0;32m     42\u001b[0m         serializers: Iterable[op_serializer\u001b[39m.\u001b[39mOpSerializer],\n\u001b[0;32m     43\u001b[0m         deserializers: Iterable[op_deserializer\u001b[39m.\u001b[39mOpDeserializer],\n\u001b[0;32m     44\u001b[0m     ):\n",
            "File \u001b[1;32mc:\\Pyhton\\Anaconda3\\envs\\tenpy\\lib\\site-packages\\cirq_google\\serialization\\serializable_gate_set.py:278\u001b[0m, in \u001b[0;36mSerializableGateSet\u001b[1;34m()\u001b[0m\n\u001b[0;32m    273\u001b[0m             \u001b[39mreturn\u001b[39;00m proto_msg\n\u001b[0;32m    274\u001b[0m     \u001b[39mraise\u001b[39;00m \u001b[39mValueError\u001b[39;00m(\u001b[39mf\u001b[39m\u001b[39m'\u001b[39m\u001b[39mCannot serialize CircuitOperation \u001b[39m\u001b[39m{\u001b[39;00mop\u001b[39m!r}\u001b[39;00m\u001b[39m'\u001b[39m)\n\u001b[0;32m    276\u001b[0m \u001b[39m@cirq\u001b[39m\u001b[39m.\u001b[39m_compat\u001b[39m.\u001b[39mdeprecated_parameter(\n\u001b[0;32m    277\u001b[0m     deadline\u001b[39m=\u001b[39m\u001b[39m'\u001b[39m\u001b[39mv0.15\u001b[39m\u001b[39m'\u001b[39m,\n\u001b[1;32m--> 278\u001b[0m     fix\u001b[39m=\u001b[39mcirq\u001b[39m.\u001b[39;49mcircuits\u001b[39m.\u001b[39;49mcircuit\u001b[39m.\u001b[39;49m_DEVICE_DEP_MESSAGE,\n\u001b[0;32m    279\u001b[0m     parameter_desc\u001b[39m=\u001b[39m\u001b[39m'\u001b[39m\u001b[39mdevice\u001b[39m\u001b[39m'\u001b[39m,\n\u001b[0;32m    280\u001b[0m     match\u001b[39m=\u001b[39m\u001b[39mlambda\u001b[39;00m args, kwargs: \u001b[39m'\u001b[39m\u001b[39mdevice\u001b[39m\u001b[39m'\u001b[39m \u001b[39min\u001b[39;00m kwargs \u001b[39mor\u001b[39;00m \u001b[39mlen\u001b[39m(args) \u001b[39m>\u001b[39m \u001b[39m2\u001b[39m,\n\u001b[0;32m    281\u001b[0m )\n\u001b[0;32m    282\u001b[0m \u001b[39mdef\u001b[39;00m \u001b[39mdeserialize\u001b[39m(\n\u001b[0;32m    283\u001b[0m     \u001b[39mself\u001b[39m, proto: v2\u001b[39m.\u001b[39mprogram_pb2\u001b[39m.\u001b[39mProgram, device: Optional[cirq\u001b[39m.\u001b[39mDevice] \u001b[39m=\u001b[39m \u001b[39mNone\u001b[39;00m\n\u001b[0;32m    284\u001b[0m ) \u001b[39m-\u001b[39m\u001b[39m>\u001b[39m cirq\u001b[39m.\u001b[39mCircuit:\n\u001b[0;32m    285\u001b[0m     \u001b[39m\"\"\"Deserialize a Circuit from a cirq_google.api.v2.Program.\u001b[39;00m\n\u001b[0;32m    286\u001b[0m \n\u001b[0;32m    287\u001b[0m \u001b[39m    Args:\u001b[39;00m\n\u001b[1;32m   (...)\u001b[0m\n\u001b[0;32m    300\u001b[0m \u001b[39m        NotImplementedError: If the program does not contain a circuit or schedule.\u001b[39;00m\n\u001b[0;32m    301\u001b[0m \u001b[39m    \"\"\"\u001b[39;00m\n\u001b[0;32m    302\u001b[0m     \u001b[39mif\u001b[39;00m \u001b[39mnot\u001b[39;00m proto\u001b[39m.\u001b[39mHasField(\u001b[39m'\u001b[39m\u001b[39mlanguage\u001b[39m\u001b[39m'\u001b[39m) \u001b[39mor\u001b[39;00m \u001b[39mnot\u001b[39;00m proto\u001b[39m.\u001b[39mlanguage\u001b[39m.\u001b[39mgate_set:\n",
            "\u001b[1;31mAttributeError\u001b[0m: module 'cirq.circuits.circuit' has no attribute '_DEVICE_DEP_MESSAGE'"
          ]
        }
      ],
      "source": [
        "# @title Install `cirq_google` and `qsimcirq`\n",
        "\n",
        "try:\n",
        "    import cirq\n",
        "    import cirq_google\n",
        "except ImportError:\n",
        "    print(\"installing cirq...\")\n",
        "    !pip install --quiet cirq-google\n",
        "    print(\"installed cirq.\")\n",
        "    import cirq\n",
        "    import cirq_google\n",
        "\n",
        "try:\n",
        "    import qsimcirq\n",
        "except ImportError:\n",
        "    print(\"installing qsimcirq...\")\n",
        "    !pip install --quiet qsimcirq\n",
        "    print(f\"installed qsimcirq.\")\n",
        "    import qsimcirq\n",
        "\n",
        "# Other modules used in this colab\n",
        "import matplotlib.pyplot as plt\n",
        "import time"
      ]
    },
    {
      "cell_type": "markdown",
      "metadata": {
        "id": "p2JAfQa8gVSe"
      },
      "source": [
        "## Create a **Quantum Virtual Machine**\n",
        "\n",
        "The following cell builds a Quantum Virtual Machine that mimics a particular Google quantum hardware device (currently Rainbow or Weber) using the following customizable steps: \n",
        "- Constructing a `cirq.NoiseModel` object from device calibration data saved in Cirq. See [Representing Noise](/cirq/noise/representing_noise) for more on noise models. \n",
        "- Building a `qsimcirq.QsimSimulator` that uses this noise model. See [Noisy Simulation](/cirq/simulate/noisy_simulation) and [Noise simulation with qsim](/qsim/tutorials/noisy_qsimcirq) for more. \n",
        "- Creating a `cirq.Device` that imposes the same constraints on circuits that the original device would. See [Devices](/cirq/hardware/devices) for more on these constraint objects. \n",
        "- Packaging the simulator and device into an object that implements the `cirq.Engine` interface that the hardware device would use. \n",
        "\n",
        "If you don't need this level of control, you can also instantiate a QVM with `cirq_google.engine.create_default_noisy_quantum_virtual_machine`, as in [QVM Creation Template](/cirq/simulate/qvm_builder_code). "
      ]
    },
    {
      "cell_type": "code",
      "execution_count": null,
      "metadata": {
        "colab": {
          "base_uri": "https://localhost:8080/"
        },
        "id": "pbHCUPLpq5WE",
        "outputId": "f024ffed-5bd6-487f-b8a5-434ff0733fa1"
      },
      "outputs": [
        {
          "ename": "",
          "evalue": "",
          "output_type": "error",
          "traceback": [
            "\u001b[1;31mFailed to start the Kernel. \n",
            "OSError: [WinError 123] The filename, directory name, or volume label syntax is incorrect: '\"c:'. \n",
            "View Jupyter <a href='command:jupyter.viewOutput'>log</a> for further details."
          ]
        }
      ],
      "source": [
        "# @title Choose a processor (\"rainbow\" or \"weber\")\n",
        "processor_id = \"weber\"  # @param {type:\"string\"}\n",
        "\n",
        "# Construct a simulator with a noise model based on the specified processor.\n",
        "cal = cirq_google.engine.load_median_device_calibration(processor_id)\n",
        "noise_props = cirq_google.noise_properties_from_calibration(cal)\n",
        "noise_model = cirq_google.NoiseModelFromGoogleNoiseProperties(noise_props)\n",
        "sim = qsimcirq.QSimSimulator(noise=noise_model)\n",
        "\n",
        "# Create a device from the public device description\n",
        "device = cirq_google.engine.create_device_from_processor_id(processor_id)\n",
        "# Build the simulated local processor from the simulator and device.\n",
        "sim_processor = cirq_google.engine.SimulatedLocalProcessor(\n",
        "    processor_id=processor_id, sampler=sim, device=device, calibrations={cal.timestamp // 1000: cal}\n",
        ")\n",
        "# Package the processor to use an Engine interface\n",
        "sim_engine = cirq_google.engine.SimulatedLocalEngine([sim_processor])\n",
        "print(\n",
        "    \"Your quantum virtual machine\",\n",
        "    processor_id,\n",
        "    \"is ready, here is the qubit grid:\",\n",
        "    \"\\n========================\\n\",\n",
        ")\n",
        "print(sim_engine.get_processor(processor_id).get_device())"
      ]
    },
    {
      "cell_type": "markdown",
      "metadata": {
        "id": "TJfN17frwo-0"
      },
      "source": [
        "## **Create** a circuit, **transform** it (to make it executable on Google quantum hardware) and **choose qubits** on the processor. \n",
        "\n",
        "The circuit you use needs to be _device ready_, which means it: \n",
        "- Is comprised of operations from the device's gate set. \n",
        "- Is applied to qubits that exist on the device. \n",
        "- Respects the connectivity of qubits on the device.\n",
        "\n",
        "Below is an example of a circuit that has the correct topology to be placed on the Weber device, and how it is prepared to be run on the QVM."
      ]
    },
    {
      "cell_type": "markdown",
      "metadata": {
        "id": "a_arTtfcwqrz"
      },
      "source": [
        "### Create a GHZ state builder circuit\n",
        "\n",
        "The generalized [Greenberger–Horne–Zeilinger (GHZ) state](https://en.wikipedia.org/wiki/Greenberger%E2%80%93Horne%E2%80%93Zeilinger_state){:.external} has the form $\\frac{|00..0⟩ + |11..1⟩}{\\sqrt{2}}$ and, in this case, will be constructed using 17 qubits, with a Hadamard and a sequence of CNOT gates:"
      ]
    },
    {
      "cell_type": "code",
      "execution_count": null,
      "metadata": {
        "colab": {
          "base_uri": "https://localhost:8080/"
        },
        "id": "mZFn6OmwwqaR",
        "outputId": "71982f99-134f-4e02-e9f0-efbfa7997f82"
      },
      "outputs": [
        {
          "ename": "",
          "evalue": "",
          "output_type": "error",
          "traceback": [
            "\u001b[1;31mFailed to start the Kernel. \n",
            "OSError: [WinError 123] The filename, directory name, or volume label syntax is incorrect: '\"c:'. \n",
            "View Jupyter <a href='command:jupyter.viewOutput'>log</a> for further details."
          ]
        }
      ],
      "source": [
        "from cirq.circuits.moment import Moment\n",
        "from cirq.ops.swap_gates import SWAP\n",
        "# Define an abstract line of 17 qubits\n",
        "number_of_qubits = 17\n",
        "qubits = cirq.LineQubit.range(number_of_qubits)\n",
        "\n",
        "# Create a GHZ circuit on this qubit line\n",
        "ghz_circuit = cirq.Circuit(\n",
        "    cirq.H(qubits[0]),\n",
        "    *[cirq.CNOT(qubits[i - 1], qubits[i]) for i in range(1, number_of_qubits)],\n",
        "    cirq.measure(*qubits, key='out'),\n",
        ")\n",
        "# print(ghz_circuit)\n",
        "\n",
        "# D4 multiplication\n",
        "\n",
        "h_m, h_R2, h_R = [cirq.GridQubit(i,0) for i in range(3)]\n",
        "g_m, g_R2, g_R = [cirq.GridQubit(i,1) for i in range(3)]\n",
        "\n",
        "D_premult = cirq.Circuit()\n",
        "D_premult.append([cirq.Moment(cirq.X(h_R)),\n",
        "                  cirq.SWAP(h_R2,h_R),\n",
        "                  cirq.TOFFOLI(h_R2,g_m,g_R2),\n",
        "                  cirq.TOFFOLI(h_R2,g_R,g_R2),\n",
        "                  cirq.SWAP(h_R2,h_R),\n",
        "                  cirq.Moment(cirq.CNOT(h_m,g_m),\n",
        "                              cirq.CNOT(h_R2,g_R2),\n",
        "                              cirq.CNOT(h_R,g_R)),\n",
        "                  cirq.measure(g_m,g_R,g_R2,key='out')\n",
        "\n",
        "])\n",
        "\n",
        "# print(D_premult)\n",
        "\n",
        "control = cirq.NamedQubit('control')\n",
        "target = cirq.NamedQubit('target')\n",
        "\n",
        "CNOT_circuit = cirq.Circuit()\n",
        "CNOT_circuit.append([cirq.X(control), cirq.CNOT(control,target),cirq.measure(target)])\n",
        "print(CNOT_circuit)\n",
        "\n"
      ]
    },
    {
      "cell_type": "markdown",
      "metadata": {
        "id": "tc5L80jjMknb"
      },
      "source": [
        "Notice that this circuit consists of a sequence of CNOT gates applied consecutively to a single chain of qubits. The connectivity required by the circuit is simple in the sense that it needs a line of qubits which are only connected to their adjacent neighbor in the sequence. As constructed, this consists of 17 `cirq.LineQubit`s indexed `0, 1, 2...16`. "
      ]
    },
    {
      "cell_type": "markdown",
      "metadata": {
        "id": "gmgGLI7eZLQt"
      },
      "source": [
        "### Transform the circuit \n",
        "\n",
        "Before executing a circuit on (virtual) quantum hardware, the operations in the circuit need to be translated to use the types of gates the device supports. The `cirq.optimize_for_target_gateset` function does this for you, transforming the operations to use the `cirq.SqrtIswapTargetGateset`, which is supported by the Weber processor that this QVM is based on. Learn more about the gate set constraints of Google hardware at the [Hardware](/hardware) page."
      ]
    },
    {
      "cell_type": "code",
      "execution_count": null,
      "metadata": {
        "colab": {
          "base_uri": "https://localhost:8080/"
        },
        "id": "MqdssGOhY9-S",
        "outputId": "a616816f-d388-42c2-eb12-6d52754f4cc3"
      },
      "outputs": [
        {
          "ename": "",
          "evalue": "",
          "output_type": "error",
          "traceback": [
            "\u001b[1;31mFailed to start the Kernel. \n",
            "OSError: [WinError 123] The filename, directory name, or volume label syntax is incorrect: '\"c:'. \n",
            "View Jupyter <a href='command:jupyter.viewOutput'>log</a> for further details."
          ]
        }
      ],
      "source": [
        "# Convert the gates in the GHZ circuit to the \"SqrtIswap\" gateset, which the device uses.\n",
        "translated_ghz_circuit = cirq.optimize_for_target_gateset(\n",
        "    ghz_circuit, context=cirq.TransformerContext(deep=True), gateset=cirq.SqrtIswapTargetGateset()\n",
        ")\n",
        "# print(translated_ghz_circuit)\n",
        "\n",
        "translated_D_premult = cirq.optimize_for_target_gateset(\n",
        "    D_premult, context=cirq.TransformerContext(deep=True), gateset=cirq_google.SycamoreTargetGateset()\n",
        ")\n",
        "\n",
        "translated_CNOT_circuit = cirq.optimize_for_target_gateset(\n",
        "    CNOT_circuit, context=cirq.TransformerContext(deep=True), gateset=cirq_google.SycamoreTargetGateset()\n",
        ")\n",
        "\n",
        "print(translated_D_premult)"
      ]
    },
    {
      "cell_type": "markdown",
      "metadata": {
        "id": "JfFfiNkbDDQy"
      },
      "source": [
        "### Choose qubits on the virtual device\n",
        "\n",
        "Choose qubits on the device to execute your device ready circuit on. Look at the device map (as above) and choose a set of qubits that fit your circuit (eg a line or a block). The Rainbow and Weber devices have different topologies, some qubit maps may be possible on only one of these devices. As noted, the GHZ example circuit as constructed will fit on a 17 qubit chain of adjacent qubits on the device, so you only need to find this consecutive line of qubits. See [Qubit Picking](/cirq/hardware/qubit_picking) for more advice and methods for selecting qubits. "
      ]
    },
    {
      "cell_type": "code",
      "execution_count": null,
      "metadata": {
        "id": "k4PsLLFnDGN-"
      },
      "outputs": [
        {
          "ename": "",
          "evalue": "",
          "output_type": "error",
          "traceback": [
            "\u001b[1;31mFailed to start the Kernel. \n",
            "OSError: [WinError 123] The filename, directory name, or volume label syntax is incorrect: '\"c:'. \n",
            "View Jupyter <a href='command:jupyter.viewOutput'>log</a> for further details."
          ]
        }
      ],
      "source": [
        "# Choose qubits on the virtual device\n",
        "device_qubit_chain = [\n",
        "    cirq.GridQubit(5, 2),\n",
        "    cirq.GridQubit(5, 3),\n",
        "    cirq.GridQubit(4, 3),\n",
        "    cirq.GridQubit(4, 2),\n",
        "    cirq.GridQubit(4, 1),\n",
        "    cirq.GridQubit(5, 1),\n",
        "    cirq.GridQubit(6, 1),\n",
        "    cirq.GridQubit(6, 2),\n",
        "    cirq.GridQubit(6, 3),\n",
        "    cirq.GridQubit(6, 4),\n",
        "    cirq.GridQubit(6, 5),\n",
        "    cirq.GridQubit(7, 5),\n",
        "    cirq.GridQubit(8, 5),\n",
        "    cirq.GridQubit(8, 4),\n",
        "    cirq.GridQubit(8, 3),\n",
        "    cirq.GridQubit(7, 3),\n",
        "    cirq.GridQubit(7, 4),\n",
        "]\n",
        "\n",
        "device_qubit_grid = [\n",
        "    cirq.GridQubit(4,3),\n",
        "    cirq.GridQubit(5,3),\n",
        "    cirq.GridQubit(6,3),\n",
        "    cirq.GridQubit(4,4),\n",
        "    cirq.GridQubit(5,4),\n",
        "    cirq.GridQubit(6,4),\n",
        "]\n",
        "\n",
        "device_qubit_pair = [\n",
        "    cirq.GridQubit(4,3),\n",
        "    cirq.GridQubit(4,4)\n",
        "]\n",
        "\n",
        "# Layout:\n",
        "#\n",
        "# q(4, 1)───q(4, 2)───q(4, 3)\n",
        "# │                   │\n",
        "# │                   │\n",
        "# q(5, 1)   q(5, 2)───q(5, 3)\n",
        "# │\n",
        "# │\n",
        "# q(6, 1)───q(6, 2)───q(6, 3)───q(6, 4)───q(6, 5)\n",
        "#                                         │\n",
        "#                                         │\n",
        "#                     q(7, 3)───q(7, 4)   q(7, 5)\n",
        "#                     │                   │\n",
        "#                     │                   │\n",
        "#                     q(8, 3)───q(8, 4)───q(8, 5)"
      ]
    },
    {
      "cell_type": "markdown",
      "metadata": {
        "id": "UD28ccnyrezn"
      },
      "source": [
        "### Map the transformed circuit to the qubits you chose on the device\n",
        "\n",
        "The transformed GHZ circuit still needs to be re-mapped to use the selected qubits. The `transform_qubits` function of `cirq.Circuit` does this automatically, returning a new transformed circuit when given a qubit mapping function. \n",
        "\n",
        "Because the connectivity qubit chain in the GHZ circuit example follows the sequence of `cirq.LineQubit`s in `qubits`, it suffices to zip the circuit's qubits together with the chosen device qubits, since both are connected chains of 17 qubits. The dictionary built from these paired qubits can then be turned into a simple lambda function for use with `transform_qubits`, as follows:"
      ]
    },
    {
      "cell_type": "code",
      "execution_count": null,
      "metadata": {
        "colab": {
          "base_uri": "https://localhost:8080/"
        },
        "id": "znPgxQ81rjb3",
        "outputId": "cdb646a3-8af1-4b51-c6d3-2aa7c21d8494"
      },
      "outputs": [
        {
          "ename": "",
          "evalue": "",
          "output_type": "error",
          "traceback": [
            "\u001b[1;31mFailed to start the Kernel. \n",
            "OSError: [WinError 123] The filename, directory name, or volume label syntax is incorrect: '\"c:'. \n",
            "View Jupyter <a href='command:jupyter.viewOutput'>log</a> for further details."
          ]
        }
      ],
      "source": [
        "# Map the line of circuit qubits to the chosen line of device qubits.\n",
        "qubit_map = dict(zip(qubits, device_qubit_chain))\n",
        "# Then replace qubits in the circuit according to that map.\n",
        "device_ready_ghz_circuit = translated_ghz_circuit.transform_qubits(lambda q: qubit_map[q])\n",
        "# print(device_ready_ghz_circuit)\n",
        "\n",
        "qubit_map2 = {h_m: device_qubit_grid[0],\n",
        "              h_R2: device_qubit_grid[1],\n",
        "              h_R: device_qubit_grid[2],\n",
        "              g_m: device_qubit_grid[3],\n",
        "              g_R2: device_qubit_grid[4],\n",
        "              g_R: device_qubit_grid[5],\n",
        "              }\n",
        "\n",
        "device_ready_D_premult = translated_D_premult.transform_qubits(lambda q:qubit_map2[q])\n",
        "\n",
        "print(device_ready_D_premult)\n",
        "\n",
        "qubit_pairmap = {control: device_qubit_pair[0],\n",
        "                 target: device_qubit_pair[1]}\n",
        "\n",
        "device_ready_CNOT_circuit = translated_CNOT_circuit.transform_qubits(lambda q: qubit_pairmap[q])\n",
        "print(device_ready_CNOT_circuit)\n"
      ]
    },
    {
      "cell_type": "markdown",
      "metadata": {
        "id": "dWYXJmyWqg3x"
      },
      "source": [
        "### **Running other circuits**\n",
        "\n",
        "In principle, you can run any custom [Circuit](/cirq/build/circuits) with a quantum virtual machine, but realistically there are some constraints. As mentioned, the circuits need to be mappable to the device. Additionally, the number of qubits that are simulatable depends highly on the hardware available to you and how long you are able to run your simulation. As the QVM is instantiated as above, with a `qsimcirq.QSimSimulator`, it only uses the default, local [qsim](https://quantumai.google/qsim) simulator. However, qsim has plenty of support for being run in a [Google Cloud instance](/qsim/tutorials/gcp_before_you_begin){:.external}, with a variable amount of compute power. In order to get the most capacity possible for qsim, use [Multinode Simulation](/qsim/tutorials/multinode).\n",
        "\n",
        "For an example of building and running a much larger circuit, see the [QVM Stabilizer Example](/cirq/simulate/qvm_stabilizer_example) tutorial. "
      ]
    },
    {
      "cell_type": "markdown",
      "metadata": {
        "id": "Zxv0RtJuhaof"
      },
      "source": [
        "## **Execute** Your Circuit on the Quantum Virtual Machine\n",
        "\n",
        "You can run the now device-ready circuit, as you would with any other `cirq.Engine` instance, by getting a sampler from it and using the `run` function on the circuits. Your choice of `repetitions` is intrinsically related to the accuracy of your simulated results. We recommend 3000 repetitions for trial runs, and 10,000 repetitions for accuracy-critical runs, but you can stick to one to ten repetitions when testing a code pipeline. You can read more about this in [this paper](https://arxiv.org/abs/2111.02396){:.external}."
      ]
    },
    {
      "cell_type": "code",
      "execution_count": null,
      "metadata": {
        "colab": {
          "base_uri": "https://localhost:8080/"
        },
        "id": "bFjnNSqRZsFu",
        "outputId": "70ee8463-54a1-452f-926b-97b5d48505e3"
      },
      "outputs": [
        {
          "ename": "",
          "evalue": "",
          "output_type": "error",
          "traceback": [
            "\u001b[1;31mFailed to start the Kernel. \n",
            "OSError: [WinError 123] The filename, directory name, or volume label syntax is incorrect: '\"c:'. \n",
            "View Jupyter <a href='command:jupyter.viewOutput'>log</a> for further details."
          ]
        }
      ],
      "source": [
        "# @title Execute your device ready circuit on the Quantum Virtual Machine\n",
        "circuit = device_ready_D_premult\n",
        "\n",
        "repetitions = 10000\n",
        "start = time.time()\n",
        "results = sim_engine.get_sampler(processor_id).run(circuit, repetitions=repetitions)\n",
        "elapsed = time.time() - start\n",
        "\n",
        "print('Circuit successfully executed on your quantum virtual machine', processor_id)\n",
        "print(f'QVM runtime: {elapsed:.04g}s ({repetitions} repetitions)')\n",
        "print('You can now print or plot \"results\"')"
      ]
    },
    {
      "cell_type": "markdown",
      "metadata": {
        "id": "na6nqbvviW7U"
      },
      "source": [
        "## **Visualize** Output\n",
        "\n",
        "Finally, you can use a [state histogram](/cirq/simulate/state_histograms) to plot the measured results."
      ]
    },
    {
      "cell_type": "code",
      "execution_count": null,
      "metadata": {
        "colab": {
          "base_uri": "https://localhost:8080/",
          "height": 278
        },
        "id": "O92KP1EwZwV9",
        "outputId": "886017dd-410b-4c04-fa23-6c6b9e56d016"
      },
      "outputs": [
        {
          "ename": "",
          "evalue": "",
          "output_type": "error",
          "traceback": [
            "\u001b[1;31mFailed to start the Kernel. \n",
            "OSError: [WinError 123] The filename, directory name, or volume label syntax is incorrect: '\"c:'. \n",
            "View Jupyter <a href='command:jupyter.viewOutput'>log</a> for further details."
          ]
        }
      ],
      "source": [
        "ax = cirq.plot_state_histogram(results.histogram(key='out'))\n",
        "ax.get_xaxis().set_ticks([])\n",
        "plt.gcf().set_size_inches(10, 4)\n",
        "plt.show(ax)"
      ]
    },
    {
      "cell_type": "markdown",
      "metadata": {
        "id": "XOTvkKq_Z1UY"
      },
      "source": [
        "The leftmost and rightmost bars correspond to $|00..0\\rangle$ and $|11..1\\rangle$, respectively, which matches expectation for a GHZ state. Natural $|1\\rangle → |0\\rangle$ decay causes $|11..1\\rangle$ to be much less common than $|00..0\\rangle$, and other states also appear due to the various error mechanisms in the hardware that are mimicked by the simulated noise model. Learn more about these errors [here](https://arxiv.org/abs/2111.02396){:.external}.\n"
      ]
    }
  ],
  "metadata": {
    "colab": {
      "collapsed_sections": [
        "Lfira0gPf0Gd"
      ],
      "name": "QVM simple multiplication.ipynb",
      "provenance": [],
      "toc_visible": true
    },
    "kernelspec": {
      "display_name": "Python 3.9.4 ('tenpy')",
      "language": "python",
      "name": "python3"
    },
    "language_info": {
      "codemirror_mode": {
        "name": "ipython",
        "version": 3
      },
      "file_extension": ".py",
      "mimetype": "text/x-python",
      "name": "python",
      "nbconvert_exporter": "python",
      "pygments_lexer": "ipython3",
      "version": "3.9.4"
    },
    "vscode": {
      "interpreter": {
        "hash": "aff721162324b20ef4a196ba142be7336868ca9b8e2100737af6517b9c37af81"
      }
    }
  },
  "nbformat": 4,
  "nbformat_minor": 0
}
