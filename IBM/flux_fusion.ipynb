{
 "cells": [
  {
   "cell_type": "markdown",
   "metadata": {},
   "source": [
    "Flux Fusion Glasses"
   ]
  },
  {
   "cell_type": "markdown",
   "metadata": {
    "tags": []
   },
   "source": [
    "# Initialization (install Packages, load group data, define helpful functions)"
   ]
  },
  {
   "cell_type": "markdown",
   "metadata": {
    "tags": []
   },
   "source": [
    "## Packages"
   ]
  },
  {
   "cell_type": "code",
   "execution_count": 1,
   "metadata": {},
   "outputs": [
    {
     "data": {
      "text/html": [
       "<h3>Version Information</h3><table><tr><th>Qiskit Software</th><th>Version</th></tr><tr><td><code>qiskit-terra</code></td><td>0.21.2</td></tr><tr><td><code>qiskit-aer</code></td><td>0.10.4</td></tr><tr><td><code>qiskit-ibmq-provider</code></td><td>0.19.2</td></tr><tr><td><code>qiskit</code></td><td>0.37.2</td></tr><tr><th>System information</th></tr><tr><td>Python version</td><td>3.10.4</td></tr><tr><td>Python compiler</td><td>Clang 12.0.0 </td></tr><tr><td>Python build</td><td>main, Mar 31 2022 03:38:35</td></tr><tr><td>OS</td><td>Darwin</td></tr><tr><td>CPUs</td><td>8</td></tr><tr><td>Memory (Gb)</td><td>16.0</td></tr><tr><td colspan='2'>Fri Sep 23 12:31:31 2022 BST</td></tr></table>"
      ],
      "text/plain": [
       "<IPython.core.display.HTML object>"
      ]
     },
     "metadata": {},
     "output_type": "display_data"
    },
    {
     "data": {
      "text/html": [
       "<div style='width: 100%; background-color:#d5d9e0;padding-left: 10px; padding-bottom: 10px; padding-right: 10px; padding-top: 5px'><h3>This code is a part of Qiskit</h3><p>&copy; Copyright IBM 2017, 2022.</p><p>This code is licensed under the Apache License, Version 2.0. You may<br>obtain a copy of this license in the LICENSE.txt file in the root directory<br> of this source tree or at http://www.apache.org/licenses/LICENSE-2.0.<p>Any modifications or derivative works of this code must retain this<br>copyright notice, and modified files need to carry a notice indicating<br>that they have been altered from the originals.</p></div>"
      ],
      "text/plain": [
       "<IPython.core.display.HTML object>"
      ]
     },
     "metadata": {},
     "output_type": "display_data"
    }
   ],
   "source": [
    "from qiskit import QuantumCircuit, IBMQ, transpile\n",
    "from qiskit.providers.aer import AerSimulator\n",
    "from qiskit.tools.visualization import plot_histogram\n",
    "import qiskit.tools.jupyter\n",
    "from qiskit.visualization import plot_histogram, plot_gate_map, plot_circuit_layout\n",
    "from qiskit.tools.monitor import job_monitor\n",
    "%qiskit_version_table\n",
    "%qiskit_copyright\n",
    "import numpy as np\n",
    "from time import gmtime, strftime, localtime\n",
    "import matplotlib.pyplot as plt\n",
    "%matplotlib inline"
   ]
  },
  {
   "cell_type": "markdown",
   "metadata": {
    "tags": []
   },
   "source": [
    "## D4 group data"
   ]
  },
  {
   "cell_type": "code",
   "execution_count": 2,
   "metadata": {},
   "outputs": [],
   "source": [
    "# These permutation matrices compute left multiplication and right multiplication on the group elements as column vectors\n",
    "\n",
    "import numpy as np\n",
    "\n",
    "e = np.identity(8)\n",
    "\n",
    "R_l = np.array([[0,0,0,1,0,0,0,0],\n",
    "                [1,0,0,0,0,0,0,0],\n",
    "                [0,1,0,0,0,0,0,0],\n",
    "                [0,0,1,0,0,0,0,0],\n",
    "                [0,0,0,0,0,1,0,0],\n",
    "                [0,0,0,0,0,0,1,0],\n",
    "                [0,0,0,0,0,0,0,1],\n",
    "                [0,0,0,0,1,0,0,0]])\n",
    "\n",
    "R2  = np.array([[0,0,1,0,0,0,0,0],\n",
    "                [0,0,0,1,0,0,0,0],\n",
    "                [1,0,0,0,0,0,0,0],\n",
    "                [0,1,0,0,0,0,0,0],\n",
    "                [0,0,0,0,0,0,1,0],\n",
    "                [0,0,0,0,0,0,0,1],\n",
    "                [0,0,0,0,1,0,0,0],\n",
    "                [0,0,0,0,0,1,0,0]])\n",
    "\n",
    "R3_l = np.array([[0,1,0,0,0,0,0,0],\n",
    "                [0,0,1,0,0,0,0,0],\n",
    "                [0,0,0,1,0,0,0,0],\n",
    "                [1,0,0,0,0,0,0,0],\n",
    "                [0,0,0,0,0,0,0,1],\n",
    "                [0,0,0,0,1,0,0,0],\n",
    "                [0,0,0,0,0,1,0,0],\n",
    "                [0,0,0,0,0,0,1,0]])\n",
    "\n",
    "m_l = np.array([[0,0,0,0,1,0,0,0],\n",
    "                [0,0,0,0,0,1,0,0],\n",
    "                [0,0,0,0,0,0,1,0],\n",
    "                [0,0,0,0,0,0,0,1],\n",
    "                [1,0,0,0,0,0,0,0],\n",
    "                [0,1,0,0,0,0,0,0],\n",
    "                [0,0,1,0,0,0,0,0],\n",
    "                [0,0,0,1,0,0,0,0]])\n",
    "\n",
    "mR_l = np.array([[0,0,0,0,0,1,0,0],\n",
    "                [0,0,0,0,0,0,1,0],\n",
    "                [0,0,0,0,0,0,0,1],\n",
    "                [0,0,0,0,1,0,0,0],\n",
    "                [0,0,0,1,0,0,0,0],\n",
    "                [1,0,0,0,0,0,0,0],\n",
    "                [0,1,0,0,0,0,0,0],\n",
    "                [0,0,1,0,0,0,0,0]])\n",
    "\n",
    "mR2_l = np.array([[0,0,0,0,0,0,1,0],\n",
    "                  [0,0,0,0,0,0,0,1],\n",
    "                  [0,0,0,0,1,0,0,0],\n",
    "                  [0,0,0,0,0,1,0,0],\n",
    "                  [0,0,1,0,0,0,0,0],\n",
    "                  [0,0,0,1,0,0,0,0],\n",
    "                  [1,0,0,0,0,0,0,0],\n",
    "                  [0,1,0,0,0,0,0,0]])\n",
    "\n",
    "mR3_l = np.array([[0,0,0,0,0,0,0,1],\n",
    "                  [0,0,0,0,1,0,0,0],\n",
    "                  [0,0,0,0,0,1,0,0],\n",
    "                  [0,0,0,0,0,0,1,0],\n",
    "                  [0,1,0,0,0,0,0,0],\n",
    "                  [0,0,1,0,0,0,0,0],\n",
    "                  [0,0,0,1,0,0,0,0],\n",
    "                  [1,0,0,0,0,0,0,0]])\n",
    "\n",
    "R_r = np.array([[0,0,0,1,0,0,0,0],\n",
    "                [1,0,0,0,0,0,0,0],\n",
    "                [0,1,0,0,0,0,0,0],\n",
    "                [0,0,1,0,0,0,0,0],\n",
    "                [0,0,0,0,0,0,0,1],\n",
    "                [0,0,0,0,1,0,0,0],\n",
    "                [0,0,0,0,0,1,0,0],\n",
    "                [0,0,0,0,0,0,1,0]])\n",
    "\n",
    "R3_r = np.array([[0,1,0,0,0,0,0,0],\n",
    "                [0,0,1,0,0,0,0,0],\n",
    "                [0,0,0,1,0,0,0,0],\n",
    "                [1,0,0,0,0,0,0,0],\n",
    "                [0,0,0,0,0,1,0,0],\n",
    "                [0,0,0,0,0,0,1,0],\n",
    "                [0,0,0,0,0,0,0,1],\n",
    "                [0,0,0,0,1,0,0,0]])\n",
    "\n",
    "m_r = np.array([[0,0,0,0,1,0,0,0],\n",
    "                [0,0,0,0,0,0,0,1],\n",
    "                [0,0,0,0,0,0,1,0],\n",
    "                [0,0,0,0,0,1,0,0],\n",
    "                [1,0,0,0,0,0,0,0],\n",
    "                [0,0,0,1,0,0,0,0],\n",
    "                [0,0,1,0,0,0,0,0],\n",
    "                [0,1,0,0,0,0,0,0]])\n",
    "\n",
    "mR_r = np.array([[0,0,0,0,0,1,0,0],\n",
    "                [0,0,0,0,1,0,0,0],\n",
    "                [0,0,0,0,0,0,0,1],\n",
    "                [0,0,0,0,0,0,1,0],\n",
    "                [0,1,0,0,0,0,0,0],\n",
    "                [1,0,0,0,0,0,0,0],\n",
    "                [0,0,0,1,0,0,0,0],\n",
    "                [0,0,1,0,0,0,0,0]])\n",
    "\n",
    "mR2_r = np.array([[0,0,0,0,0,0,1,0],\n",
    "                  [0,0,0,0,0,1,0,0],\n",
    "                  [0,0,0,0,1,0,0,0],\n",
    "                  [0,0,0,0,0,0,0,1],\n",
    "                  [0,0,1,0,0,0,0,0],\n",
    "                  [0,1,0,0,0,0,0,0],\n",
    "                  [1,0,0,0,0,0,0,0],\n",
    "                  [0,0,0,1,0,0,0,0]])\n",
    "\n",
    "mR3_r = np.array([[0,0,0,0,0,0,0,1],\n",
    "                  [0,0,0,0,0,0,1,0],\n",
    "                  [0,0,0,0,0,1,0,0],\n",
    "                  [0,0,0,0,1,0,0,0],\n",
    "                  [0,0,0,1,0,0,0,0],\n",
    "                  [0,0,1,0,0,0,0,0],\n",
    "                  [0,1,0,0,0,0,0,0],\n",
    "                  [1,0,0,0,0,0,0,0]])\n",
    "\n",
    "inv = np.array([[1,0,0,0,0,0,0,0],\n",
    "                [0,0,0,1,0,0,0,0],\n",
    "                [0,0,1,0,0,0,0,0],\n",
    "                [0,1,0,0,0,0,0,0],\n",
    "                [0,0,0,0,1,0,0,0],\n",
    "                [0,0,0,0,0,1,0,0],\n",
    "                [0,0,0,0,0,0,1,0],\n",
    "                [0,0,0,0,0,0,0,1]])\n",
    "\n",
    "# This function transforms group elements from string format (as written at start of file) to column vector format used in the code. \n",
    "# This makes some later functions more readable.\n",
    "\n",
    "def vector(element):\n",
    "    if element in ['e']:\n",
    "        return np.array([1,0,0,0,0,0,0,0])\n",
    "    elif element in ['R']:\n",
    "        return np.array([0,1,0,0,0,0,0,0])\n",
    "    elif element in ['R2']:\n",
    "        return np.array([0,0,1,0,0,0,0,0])\n",
    "    elif element in ['R3']:\n",
    "        return np.array([0,0,0,1,0,0,0,0])\n",
    "    elif element in ['m']:\n",
    "        return np.array([0,0,0,0,1,0,0,0])\n",
    "    elif element in ['mR']:\n",
    "        return np.array([0,0,0,0,0,1,0,0])\n",
    "    elif element in ['mR2']:\n",
    "        return np.array([0,0,0,0,0,0,1,0])\n",
    "    elif element in ['mR3']:\n",
    "        return np.array([0,0,0,0,0,0,0,1])\n",
    "\n",
    "def conjugacy_class(element):\n",
    "    if element in ['e']:\n",
    "        return [vector('e')]\n",
    "    elif element in ['R2']:\n",
    "        return [vector('R2')]\n",
    "    elif element in ['R','R3']:\n",
    "        return [vector('R'),vector('R3')]\n",
    "    elif element in ['m','mR2']:\n",
    "       return [vector('m'),vector('mR2')]\n",
    "    elif element in ['mR','mR3']:\n",
    "        return [vector('mR'),vector('mR3')]\n",
    "\n",
    "# Gets the correct matrices for left and right multiplication\n",
    "\n",
    "def left_mult(element):\n",
    "    if np.array_equal(element,np.array([1,0,0,0,0,0,0,0])) == True:\n",
    "        return e\n",
    "    elif np.array_equal(element,np.array([0,1,0,0,0,0,0,0])) == True:\n",
    "        return R_l\n",
    "    elif np.array_equal(element,np.array([0,0,1,0,0,0,0,0])) == True:\n",
    "        return R2\n",
    "    elif np.array_equal(element,np.array([0,0,0,1,0,0,0,0])) == True:\n",
    "        return R3_l\n",
    "    elif np.array_equal(element,np.array([0,0,0,0,1,0,0,0])) == True:\n",
    "        return m_l\n",
    "    elif np.array_equal(element,np.array([0,0,0,0,0,1,0,0])) == True:\n",
    "        return mR_l\n",
    "    elif np.array_equal(element,np.array([0,0,0,0,0,0,1,0])) == True:\n",
    "        return mR2_l\n",
    "    elif np.array_equal(element,np.array([0,0,0,0,0,0,0,1])) == True:\n",
    "        return mR3_l\n",
    "\n",
    "def right_mult(element):\n",
    "    if np.array_equal(element,np.array([1,0,0,0,0,0,0,0])) == True:\n",
    "        return e\n",
    "    elif np.array_equal(element,np.array([0,1,0,0,0,0,0,0])) == True:\n",
    "        return R_r\n",
    "    elif np.array_equal(element,np.array([0,0,1,0,0,0,0,0])) == True:\n",
    "        return R2\n",
    "    elif np.array_equal(element,np.array([0,0,0,1,0,0,0,0])) == True:\n",
    "        return R3_r\n",
    "    elif np.array_equal(element,np.array([0,0,0,0,1,0,0,0])) == True:\n",
    "        return m_r\n",
    "    elif np.array_equal(element,np.array([0,0,0,0,0,1,0,0])) == True:\n",
    "        return mR_r\n",
    "    elif np.array_equal(element,np.array([0,0,0,0,0,0,1,0])) == True:\n",
    "        return mR2_r\n",
    "    elif np.array_equal(element,np.array([0,0,0,0,0,0,0,1])) == True:\n",
    "        return mR3_r\n",
    "\n"
   ]
  },
  {
   "cell_type": "markdown",
   "metadata": {
    "tags": []
   },
   "source": [
    "## Functions"
   ]
  },
  {
   "cell_type": "code",
   "execution_count": 3,
   "metadata": {},
   "outputs": [],
   "source": [
    "def swapPositions(list, pos1, pos2):\n",
    "     \n",
    "    list[pos1], list[pos2] = list[pos2], list[pos1]\n",
    "    return list\n",
    "\n",
    "def flip(x):\n",
    "    if x==0: return 1 \n",
    "    else: return 0\n",
    "\n",
    "def flipall(x):\n",
    "    return [flip(k) for k in x]\n",
    "\n",
    "\n",
    "def convert(result):\n",
    "    array=[list(map(lambda x: int(x),list(k))) for k in result.keys() for x in range(0,result[k])]\n",
    "    for m in array:\n",
    "        m.reverse()\n",
    "    array = [k[0:measuredbits] for k in array]    \n",
    "    return array   \n",
    "    "
   ]
  },
  {
   "cell_type": "markdown",
   "metadata": {},
   "source": [
    "## Define map from old to new"
   ]
  },
  {
   "cell_type": "code",
   "execution_count": 4,
   "metadata": {},
   "outputs": [],
   "source": [
    "# Mapping the old layout to the qubits of the IBM machine\n",
    "\n",
    "g0=0\n",
    "g1=1\n",
    "g2=2\n",
    "g3=3\n",
    "g4=4\n",
    "g5=5\n",
    "g6=6\n",
    "g7=7\n",
    "g8=8\n",
    "g9=9\n",
    "g10=10\n",
    "g11=11\n",
    "g12=12\n",
    "#g13=13\n",
    "g14=13\n",
    "#g15=15\n",
    "g16=14\n",
    "g17=15\n",
    "g18=16\n",
    "g19=17\n",
    "\n",
    "#g20=2\n",
    "#g21=21\n",
    "#g22=22\n",
    "#g23=23\n",
    "#g24=24\n",
    "#g25=25\n",
    "#g26=26\n",
    "\n",
    "G=[g0,g1,g2,g3,g4,g5,g6,g7,g8,g9,g10,g11,g12,g14,g16,g17,g18,g19]"
   ]
  },
  {
   "cell_type": "markdown",
   "metadata": {
    "tags": []
   },
   "source": [
    "# Set Measurement Type"
   ]
  },
  {
   "cell_type": "code",
   "execution_count": 5,
   "metadata": {},
   "outputs": [],
   "source": [
    "# Set the measurement you want to either 'charge' or 'flux' or 'both'.\n",
    "measurement_type = 'both'\n",
    "\n",
    "# Set the initial state to 'identity', 'ground state' or 'random'\n",
    "\n",
    "initial_state = 'ground state'\n",
    "\n",
    "# Set whether or not a ribbon is applied (True/False)\n",
    "\n",
    "ribbon = True\n",
    "\n",
    "\n",
    "# Number of repetitions \n",
    "\n",
    "# repetitions = 10"
   ]
  },
  {
   "cell_type": "markdown",
   "metadata": {
    "tags": []
   },
   "source": [
    "# Define Circuit"
   ]
  },
  {
   "cell_type": "markdown",
   "metadata": {},
   "source": [
    "## Prepare initial state"
   ]
  },
  {
   "cell_type": "code",
   "execution_count": 6,
   "metadata": {
    "ExecuteTime": {
     "end_time": "2019-08-19T16:57:32.330124Z",
     "start_time": "2019-08-19T16:57:32.175615Z"
    }
   },
   "outputs": [],
   "source": [
    "# Initialize Qubits\n",
    "circ = QuantumCircuit(18, 18)\n",
    "\n",
    "\n",
    "if initial_state == 'ground state':\n",
    "# Prepare groundstate\n",
    "\n",
    "    circ.h(g0)\n",
    "    circ.h(g1)\n",
    "    circ.h(g2)\n",
    "    circ.h(g9)\n",
    "    circ.h(g10)\n",
    "    circ.h(g11)\n",
    "\n",
    "\n",
    "    circ.cx(g0,g3)\n",
    "    circ.cx(g1,g4)\n",
    "    circ.cx(g2,g5)\n",
    "    circ.cx(g9,g6)\n",
    "    circ.cx(g10,g7)\n",
    "    circ.cx(g11,g8)\n",
    "    \n",
    "if initial_state == 'random':\n",
    "\n",
    "    omegas = [np.random.rand() * np.pi * 2 for i in range(20)]\n",
    "    phis = [np.random.rand() * np.pi * 2 for i in range(20)]\n",
    "    thetas = [np.arccos(2 * np.random.rand() - 1) for i in range(20)]    \n",
    "    \n",
    "    for i in range(27):\n",
    "        circ.rz(omegas[i],i)\n",
    "    for i in range(27):\n",
    "        circ.rx(phis[i],i)\n",
    "    for i in range(27):\n",
    "        circ.rz(thetas[i],i)"
   ]
  },
  {
   "cell_type": "markdown",
   "metadata": {
    "tags": []
   },
   "source": [
    "## Ribbon operators\n",
    "Then the ribbon operators. They both use two ancillas in a Bell state, with one of the ancillas moved around the circuit and interacting with the edges. Multiplication circuits for the conjugacy class  {𝑅,𝑅3}  are given here."
   ]
  },
  {
   "cell_type": "code",
   "execution_count": 7,
   "metadata": {},
   "outputs": [
    {
     "name": "stdout",
     "output_type": "stream",
     "text": [
      "test\n"
     ]
    }
   ],
   "source": [
    "if ribbon:\n",
    "  ## Ribbon 1 up to the 'crossover swap'\n",
    "    print('test')\n",
    "    circ.h(g16)                        # create Bell pair\n",
    "    circ.cx(g16,g17)\n",
    "    #circ.swap(g0,g1)                   # Swap qubits representing R2 and m on edge 1\n",
    "    circ.cx(g0,g17)                    # Conjugate ancilla\n",
    "    circ.cx(g2,g0)                     # Start the multiplication onto the edge\n",
    "    circ.cx(g1,g0)                     # Swap back and CNOT m onto R2, 4 CNOTs simplify to 2\n",
    "    #circ.cx(g0,g1)\n",
    "    circ.cx(g17,g1)                    # CNOT from ancilla and complete the multiplication onto edge 1\n",
    "    circ.x(g2)\n",
    "\n",
    "    #circ.swap(g17,g20)                 # Move ancilla to edge 4, swap R2 and R on edge 4\n",
    "    #circ.swap(g17,g21)\n",
    "    #circ.swap(g7,g8)\n",
    "\n",
    "    circ.cx(g17,g7)                    # CNOT from ancilla onto edge 4\n",
    "    #circ.swap(g7,g8)\n",
    "    circ.cx(g8,g7)\n",
    "    circ.x(g7)                         # The two X gates complete the postmultiplication of edge 4 by the ancilla inverse\n",
    "    circ.x(g8)\n",
    "    \n",
    "    \n",
    "## Ribbon 2 up to the 'crossover swap'\n",
    "    circ.h(g18)                         # create Bell pair\n",
    "    circ.cx(g18,g19)                      \n",
    "    #circ.swap(g9,g6)                    # SWAPs for conjugation by edge 6\n",
    "    circ.cx(g9,g19)                     # conjugation\n",
    "    #circ.swap(g9,g6)\n",
    "\n",
    "    \n",
    "     # The crossover circ.swap\n",
    "\n",
    "    #circ.swap(g17,g19)                     # circ.swaps the position of the two ribbon ancillas\n",
    "\n",
    "      # Completing ribbon 1\n",
    "    circ.cx(g6,g17)                      # circ.cx from edge four, the m qubit, onto the ancilla for conjugation\n",
    "\n",
    "\n",
    "      # Completing ribbon 2\n",
    "    #circ.swap(g19,g22)\n",
    "    circ.cx(g8,g7)\n",
    "    circ.cx(g19,g7)\n",
    "    circ.x(g8)\n",
    "\n",
    "                     \n",
    "\n",
    "      # Moving both ancilla pairs back together, undoing bell pair state and measure\n",
    "\n",
    "    #circ.swap(g16,g20)\n",
    "    #circ.swap(g22,g19)\n",
    "    #circ.swap(g16,g21)\n",
    "   # circ.swap(g19,g17)\n",
    "    circ.cx(g16,g17)\n",
    "    circ.cx(g18,g19)\n",
    "    circ.h(g16)\n",
    "    circ.h(g18)\n"
   ]
  },
  {
   "cell_type": "markdown",
   "metadata": {
    "tags": []
   },
   "source": [
    "## Measurements"
   ]
  },
  {
   "cell_type": "code",
   "execution_count": 8,
   "metadata": {},
   "outputs": [
    {
     "name": "stdout",
     "output_type": "stream",
     "text": [
      "both\n"
     ]
    }
   ],
   "source": [
    "# # Charge measurement setup for edges 3 and 4\n",
    "\n",
    "if measurement_type == 'flux':\n",
    "   if ribbon:\n",
    "      measuredbits=16  \n",
    "      circ.measure(G[0:12]+G[14:18],range(measuredbits))\n",
    "        \n",
    "   else:\n",
    "      measuredbits=12\n",
    "      cirq.measure(G[0:12],range(measuredbits))\n",
    "            \n",
    "\n",
    "\n",
    "if measurement_type == 'charge':\n",
    "    circ.h(g12)\t     # Set up superposition of subgroup {e,m,R2,mR2}. Qubit 12 encodes m, qubit 14 encodes R2.\n",
    "    circ.h(g14)       \n",
    "\n",
    "  #  circ.cx(g12,g13)         # Multiply onto neighbouring ancillas\n",
    "  #  circ.cx(g14,g15)\n",
    "\n",
    "    circ.cx(g12,g6)          # Multiply into the edges 3 and 4 that make up a plaquette, acting on the m and R2 qubits.\n",
    "    circ.cx(g12,g9)\n",
    "    circ.cx(g14,g7)\n",
    "    circ.cx(g14,g10)\n",
    "\n",
    "    #circ.cx(g12,g13)         # Undo multiplication onto the additional ancillas\n",
    "    #circ.cx(g14,g15)\n",
    "\n",
    "    circ.h(g12)              # Hadamard back\n",
    "    circ.h(g14)\n",
    "    \n",
    "        \n",
    "  \n",
    "  # measure the two qubits encoding the subgroup\n",
    "    if ribbon:\n",
    "        measuredbits=6\n",
    "        circ.measure([g12,g14]+G[14:18],range(measuredbits))\n",
    "    else:\n",
    "        measuredbits=2\n",
    "        circ.measure([g12,g14],range(measuredbits))\n",
    "        \n",
    "        \n",
    "if measurement_type == 'both':\n",
    "    print('both')\n",
    "    circ.h(g12)\n",
    "    circ.h(g14)        # Set up superposition of subgroup {e,m,R2,mR2}. Qubit 12 encodes m, qubit 14 encodes R2.\n",
    "\n",
    "  #  circ.cx(g12,g13)         # Multiply onto neighbouring ancillas\n",
    "  #  circ.cx(g14,g15)\n",
    "\n",
    "    circ.cx(g12,g6)          # Multiply into the edges 3 and 4 that make up a plaquette, acting on the m and R2 qubits.\n",
    "    circ.cx(g12,g9)\n",
    "    circ.cx(g14,g7)\n",
    "    circ.cx(g14,g10)\n",
    "\n",
    "#    circ.cx(g12,g13)         # Undo multiplication onto the additional ancillas\n",
    "#    circ.cx(g14,g15)\n",
    "\n",
    "    circ.h(g12)  ##strategy=InsertStrategy.NEW_THEN_INLINE)        # Hadamard back\n",
    "    circ.h(g14)\n",
    "   \n",
    "    if ribbon:\n",
    "        measuredbits=12             \n",
    "        circ.measure(G[6:12] + [g12,g14]+G[14:18],range(measuredbits)) \n",
    "    else:\n",
    "        measuredbits=8             \n",
    "        circ.measure(G[6:12] + [g12,g14],range(measuredbits))\n",
    "    \n",
    "              "
   ]
  },
  {
   "cell_type": "markdown",
   "metadata": {
    "tags": []
   },
   "source": [
    "# Process Results"
   ]
  },
  {
   "cell_type": "code",
   "execution_count": 9,
   "metadata": {},
   "outputs": [],
   "source": [
    "def processmeasurement(outcomes):\n",
    "    # Results in array form: if there is a ribbon, pick out only the correct ones.\n",
    "\n",
    "\n",
    "    if ribbon:\n",
    "      measurements_filtered = []\n",
    "      for mmt in outcomes:\n",
    "        if np.array_equal(mmt[-4:],[0,0,0,0]):\n",
    "          measurements_filtered.append(mmt[:-4])\n",
    "      outcomes = measurements_filtered\n",
    "\n",
    "    repetitions_filtered = len(outcomes)\n",
    "   \n",
    "\n",
    "    \n",
    "    if measurement_type == 'flux':\n",
    "      centre = 0\n",
    "\n",
    "      for mmt in outcomes:\n",
    "        edge1 = np.kron(np.eye(2)[:,mmt[0]],\n",
    "                      np.kron(np.eye(2)[:,mmt[1]],\n",
    "                              np.eye(2)[:,mmt[2]]\n",
    "                              ))\n",
    "        edge2 = np.kron(np.eye(2)[:,mmt[3]],\n",
    "                      np.kron(np.eye(2)[:,mmt[4]],\n",
    "                              np.eye(2)[:,mmt[5]]\n",
    "                              ))\n",
    "        edge3 = np.kron(np.eye(2)[:,mmt[6]],\n",
    "                      np.kron(np.eye(2)[:,mmt[7]],\n",
    "                              np.eye(2)[:,mmt[8]]\n",
    "                              ))\n",
    "        edge4 = np.kron(np.eye(2)[:,mmt[9]],\n",
    "                      np.kron(np.eye(2)[:,mmt[10]],\n",
    "                              np.eye(2)[:,mmt[11]]\n",
    "                              ))\n",
    "\n",
    "        centre_flux = left_mult(edge2) @ left_mult(inv @ edge1) @ left_mult(inv @ edge3) @ edge4\n",
    "\n",
    "        if np.array_equal(centre_flux,vector('e')):\n",
    "          centre += 1\n",
    "        return centre\n",
    "    \n",
    "    if measurement_type == 'charge':\n",
    "      count00 = 0\n",
    "      count01 = 0\n",
    "      count10 = 0\n",
    "      count11 = 0\n",
    "\n",
    "      for mmt in outcomes:\n",
    "        if np.array_equal(mmt[0:2],[0,0]):\n",
    "          count00 += 1\n",
    "        if np.array_equal(mmt[0:2],[0,1]):\n",
    "          count01 += 1\n",
    "        if np.array_equal(mmt[0:2],[1,0]):\n",
    "          count10 += 1\n",
    "        if np.array_equal(mmt[0:2],[1,1]):\n",
    "          count11 += 1\n",
    "\n",
    "      return([count00,count01,count10,count11])\n",
    "    \n",
    "    if measurement_type == 'both':\n",
    "    \n",
    "      output = np.zeros((4,8))\n",
    "      for mnt in outcomes:\n",
    "          if np.array_equal(mnt[-2:],[0,0]):\n",
    "            index1 = 0\n",
    "          if np.array_equal(mnt[-2:],[0,1]):\n",
    "            index1 = 1\n",
    "          if np.array_equal(mnt[-2:],[1,0]):\n",
    "            index1 = 2\n",
    "          if np.array_equal(mnt[-2:],[1,1]):\n",
    "            index1 = 3\n",
    "\n",
    "          edge3 = np.kron(np.eye(2)[:,mnt[0]],\n",
    "                        np.kron(np.eye(2)[:,mnt[1]],\n",
    "                                np.eye(2)[:,mnt[2]]\n",
    "                                ))\n",
    "          edge4 = np.kron(np.eye(2)[:,mnt[3]],\n",
    "                        np.kron(np.eye(2)[:,mnt[4]],\n",
    "                                np.eye(2)[:,mnt[5]]\n",
    "                                ))\n",
    "          flux = left_mult(edge3) @ inv @ edge4\n",
    "\n",
    "          for i in range(8):\n",
    "            g = np.zeros(8)\n",
    "            g[i] = 1\n",
    "            if np.array_equal(flux,g):\n",
    "              index2 = i\n",
    "\n",
    "          output[index1][index2] += 1\n",
    "      return output    \n",
    "    "
   ]
  },
  {
   "cell_type": "markdown",
   "metadata": {
    "tags": []
   },
   "source": [
    "# Ideal Simulation"
   ]
  },
  {
   "cell_type": "code",
   "execution_count": 10,
   "metadata": {},
   "outputs": [
    {
     "name": "stdout",
     "output_type": "stream",
     "text": [
      "[[68.  0. 70.  0.  0.  0.  0.  0.]\n",
      " [ 0.  0.  0.  0.  0.  0.  0.  0.]\n",
      " [87.  0. 83.  0.  0.  0.  0.  0.]\n",
      " [ 0.  0.  0.  0.  0.  0.  0.  0.]]\n"
     ]
    }
   ],
   "source": [
    "# Define simulator for ideal simulation\n",
    "sim_ideal = AerSimulator()\n",
    "\n",
    "# Execute and get counts\n",
    "results = sim_ideal.run(transpile(circ, sim_ideal),shots=5000).result()\n",
    "counts = results.get_counts(0)\n",
    "\n",
    "\n",
    "\n",
    "measurements=convert(counts)\n",
    "# conversion that is tailored to having removed swaps\n",
    "#measurements = [swapPositions(k,1,2) for k in measurements]\n",
    "\n",
    "\n",
    "print(processmeasurement(measurements))\n",
    "\n"
   ]
  },
  {
   "cell_type": "markdown",
   "metadata": {
    "tags": []
   },
   "source": [
    "# Noisy Simulation"
   ]
  },
  {
   "cell_type": "markdown",
   "metadata": {
    "jp-MarkdownHeadingCollapsed": true,
    "tags": []
   },
   "source": [
    "## Description"
   ]
  },
  {
   "cell_type": "markdown",
   "metadata": {},
   "source": [
    "Running a noise simulation\n",
    "\n",
    "By storing the device properties in `simulator`, we ensure that the appropriate basis gates and coupling map are used when compiling circuits for simulation, thereby most closely mimicking the gates that will be executed on a real device. In addition `simulator` contains an approximate noise model consisting of:\n",
    "\n",
    "* **Single-qubit gate errors** consisting of a single qubit depolarizing error followed by a single qubit thermal relaxation error.\n",
    "* **Two-qubit gate errors** consisting of a two-qubit depolarizing error followed by single-qubit thermal relaxation errors on both qubits in the gate.\n",
    "* **Single-qubit readout errors** on the classical bit value obtained from measurements on individual qubits.\n",
    "\n",
    "For the gate errors the error parameter of the thermal relaxation errors is derived using the `thermal_relaxation_error` function from `aer.noise.errors` module, along with the individual qubit $T_1$ and $T_2$ parameters, and the `gate_time` parameter from the device backend properties. The probability of the depolarizing error is then set so that the combined average gate infidelity from the depolarizing error followed by the thermal relaxation is equal to the `gate_error` value from the backend properties.\n",
    "\n",
    "For the readout errors the probability that the recorded classical bit value will be flipped from the true outcome after a measurement is given by the qubit `readout_errors`.\n",
    "\n",
    "We call `from_backend` to create a simulator for `ibmq_mumbai`:\n",
    "\n",
    "Once we have created a noisy simulator backend based on a real device we can use it to run noisy simulations.\n",
    "\n",
    "**Important:** When running noisy simulations it is *critical* to `transpile` the circuit for the backend so that the circuit is transpiled to the correct noisy basis gate set for the backend."
   ]
  },
  {
   "cell_type": "markdown",
   "metadata": {},
   "source": [
    "## Transpile"
   ]
  },
  {
   "cell_type": "code",
   "execution_count": 13,
   "metadata": {},
   "outputs": [
    {
     "name": "stdout",
     "output_type": "stream",
     "text": [
      "2022-09-23 12:32:31\n",
      "67\n",
      "58\n",
      "56\n",
      "54\n",
      "53\n",
      "51\n",
      "50\n",
      "2022-09-23 12:35:23\n"
     ]
    },
    {
     "data": {
      "image/png": "[encoded data removed]",
      "text/plain": [
       "<Figure size 500x500 with 1 Axes>"
      ]
     },
     "execution_count": 13,
     "metadata": {},
     "output_type": "execute_result"
    }
   ],
   "source": [
    "from qiskit.providers.fake_provider import FakeMumbai\n",
    "\n",
    "# Get a fake backend from the fake provider\n",
    "backend = FakeMumbai()\n",
    "\n",
    "sim = AerSimulator.from_backend(backend)\n",
    "\n",
    "#local_layout=[15,18,21, 16,19,22, 10,7,4, 8,5,9, 14,11, 2,3, 13,12, 0,1]\n",
    "local_layout=[15,18,21, 16,19,22, 4, 10,7, 5,11,8,3,14,13,12,0,1] \n",
    "\n",
    "\n",
    "# We want to get a short circuit, let the transpiler try to minimize and accept only circuits with a depth below min\n",
    "min = 100\n",
    "print(strftime(\"%Y-%m-%d %H:%M:%S\", localtime()))\n",
    "\n",
    "# Transpile the circuit for the noisy basis gates\n",
    "for i in range(1000):\n",
    "    ttest = transpile(circ, sim, initial_layout=local_layout,optimization_level=3)\n",
    "    testmin=ttest.depth()\n",
    "    if testmin< min:\n",
    "        min=testmin\n",
    "        tcirc=ttest\n",
    "        print(min)   \n",
    "print(strftime(\"%Y-%m-%d %H:%M:%S\", localtime()))\n",
    "        \n",
    "        \n",
    "        \n",
    "plot_circuit_layout(tcirc,backend)        "
   ]
  },
  {
   "cell_type": "markdown",
   "metadata": {},
   "source": [
    "## Run"
   ]
  },
  {
   "cell_type": "code",
   "execution_count": 14,
   "metadata": {},
   "outputs": [
    {
     "name": "stdout",
     "output_type": "stream",
     "text": [
      "2022-09-23 12:35:23\n",
      "2022-09-23 12:35:58\n"
     ]
    }
   ],
   "source": [
    "# Execute noisy simulation and get counts\n",
    "print(strftime(\"%Y-%m-%d %H:%M:%S\", localtime()))\n",
    "result_noise = sim.run(tcirc,shots=10).result()\n",
    "print(strftime(\"%Y-%m-%d %H:%M:%S\", localtime()))\n",
    "\n"
   ]
  },
  {
   "cell_type": "code",
   "execution_count": 44,
   "metadata": {},
   "outputs": [
    {
     "name": "stdout",
     "output_type": "stream",
     "text": [
      "[[46.  5. 53.  8. 18.  2. 11.  0.]\n",
      " [21.  4. 19.  4.  3.  1.  4.  2.]\n",
      " [41.  9. 44.  4. 16.  4. 15.  7.]\n",
      " [24.  4. 26. 10.  4.  2.  5.  1.]]\n"
     ]
    }
   ],
   "source": [
    "\n",
    "counts_noise = result_noise.get_counts(0)\n",
    "measurements=convert(counts_noise)\n",
    "measurements = [swapPositions(k,1,2) for k in measurements]\n",
    "print(processmeasurement(measurements))"
   ]
  },
  {
   "cell_type": "code",
   "execution_count": 45,
   "metadata": {},
   "outputs": [
    {
     "data": {
      "image/png": "[encoded data removed]",
      "text/plain": [
       "<Figure size 500x500 with 1 Axes>"
      ]
     },
     "execution_count": 45,
     "metadata": {},
     "output_type": "execute_result"
    }
   ],
   "source": [
    "plot_circuit_layout(tcirc,backend)"
   ]
  },
  {
   "cell_type": "code",
   "execution_count": null,
   "metadata": {},
   "outputs": [],
   "source": []
  }
 ],
 "metadata": {
  "celltoolbar": "Tags",
  "kernelspec": {
   "display_name": "Python 3 (ipykernel)",
   "language": "python",
   "name": "python3"
  },
  "language_info": {
   "codemirror_mode": {
    "name": "ipython",
    "version": 3
   },
   "file_extension": ".py",
   "mimetype": "text/x-python",
   "name": "python",
   "nbconvert_exporter": "python",
   "pygments_lexer": "ipython3",
   "version": "3.10.4"
  },
  "toc-autonumbering": false,
  "toc-showmarkdowntxt": false,
  "varInspector": {
   "cols": {
    "lenName": 16,
    "lenType": 16,
    "lenVar": 40
   },
   "kernels_config": {
    "python": {
     "delete_cmd_postfix": "",
     "delete_cmd_prefix": "del ",
     "library": "var_list.py",
     "varRefreshCmd": "print(var_dic_list())"
    },
    "r": {
     "delete_cmd_postfix": ") ",
     "delete_cmd_prefix": "rm(",
     "library": "var_list.r",
     "varRefreshCmd": "cat(var_dic_list()) "
    }
   },
   "types_to_exclude": [
    "module",
    "function",
    "builtin_function_or_method",
    "instance",
    "_Feature"
   ],
   "window_display": false
  },
  "widgets": {
   "application/vnd.jupyter.widget-state+json": {
    "state": {
     "03d832a1e96d409b8195730e206d7bcb": {
      "model_module": "@jupyter-widgets/base",
      "model_module_version": "1.2.0",
      "model_name": "LayoutModel",
      "state": {
       "width": "145px"
      }
     },
     "06397968a34f45c3867824d27868702e": {
      "model_module": "@jupyter-widgets/base",
      "model_module_version": "1.2.0",
      "model_name": "LayoutModel",
      "state": {
       "width": "70px"
      }
     },
     "08884ec0d3bf4cfda110f0772c5d7857": {
      "model_module": "@jupyter-widgets/controls",
      "model_module_version": "1.5.0",
      "model_name": "HTMLModel",
      "state": {
       "layout": "IPY_MODEL_06397968a34f45c3867824d27868702e",
       "style": "IPY_MODEL_77150c7a271848e099049cf447d2158e",
       "value": "<h5>Queue</h5>"
      }
     },
     "0c83c5c92b254e9bb6ec63eb67a2a4e3": {
      "model_module": "@jupyter-widgets/base",
      "model_module_version": "1.2.0",
      "model_name": "LayoutModel",
      "state": {
       "grid_template_areas": "\n                                       \". . . . right \"\n                                        ",
       "grid_template_columns": "20% 20% 20% 20% 20%",
       "width": "100%"
      }
     },
     "16c3fcc9238a442ba9b69147db2514ec": {
      "model_module": "@jupyter-widgets/base",
      "model_module_version": "1.2.0",
      "model_name": "LayoutModel",
      "state": {
       "width": "190px"
      }
     },
     "2b116cf1791d4679b912e2e683e9f137": {
      "model_module": "@jupyter-widgets/base",
      "model_module_version": "1.2.0",
      "model_name": "LayoutModel",
      "state": {
       "grid_area": "right",
       "padding": "0px 0px 0px 0px",
       "width": "70px"
      }
     },
     "2c08dc9c1544427a876408d47097f0fb": {
      "model_module": "@jupyter-widgets/controls",
      "model_module_version": "1.5.0",
      "model_name": "GridBoxModel",
      "state": {
       "children": [
        "IPY_MODEL_abf5e2cb3f664fda960848dba32b760d"
       ],
       "layout": "IPY_MODEL_0c83c5c92b254e9bb6ec63eb67a2a4e3"
      }
     },
     "34b9610f876b4d17a4935707ea0a2aae": {
      "model_module": "@jupyter-widgets/base",
      "model_module_version": "1.2.0",
      "model_name": "LayoutModel",
      "state": {
       "margin": "0px 0px 0px 37px",
       "width": "600px"
      }
     },
     "4ff69d4e486b43979e22de5ffcbd5a45": {
      "model_module": "@jupyter-widgets/controls",
      "model_module_version": "1.5.0",
      "model_name": "HTMLModel",
      "state": {
       "layout": "IPY_MODEL_a0baa04b85bc4d4ab00250de60ea0f6e",
       "style": "IPY_MODEL_9b292310b9c04d83bdebad92d2970734",
       "value": "<h5>Status</h5>"
      }
     },
     "59ea791c4aee46348509125c325bef8e": {
      "model_module": "@jupyter-widgets/controls",
      "model_module_version": "1.5.0",
      "model_name": "DescriptionStyleModel",
      "state": {
       "description_width": ""
      }
     },
     "72fb8b0fc75a4e57bd11dca7b26dc744": {
      "model_module": "@jupyter-widgets/controls",
      "model_module_version": "1.5.0",
      "model_name": "HBoxModel",
      "state": {
       "children": [
        "IPY_MODEL_b268f58ec52846cbac8e769a15f899ad",
        "IPY_MODEL_d98a276cdede458cb5f12e6cafb6f4d5",
        "IPY_MODEL_4ff69d4e486b43979e22de5ffcbd5a45",
        "IPY_MODEL_08884ec0d3bf4cfda110f0772c5d7857",
        "IPY_MODEL_94b3c0f340974047b952400ff59b6f00"
       ],
       "layout": "IPY_MODEL_34b9610f876b4d17a4935707ea0a2aae"
      }
     },
     "77150c7a271848e099049cf447d2158e": {
      "model_module": "@jupyter-widgets/controls",
      "model_module_version": "1.5.0",
      "model_name": "DescriptionStyleModel",
      "state": {
       "description_width": ""
      }
     },
     "94b3c0f340974047b952400ff59b6f00": {
      "model_module": "@jupyter-widgets/controls",
      "model_module_version": "1.5.0",
      "model_name": "HTMLModel",
      "state": {
       "layout": "IPY_MODEL_e9d00813af8e4316a97763e67a3571cb",
       "style": "IPY_MODEL_a4044a0d762d41d9a31e3cdc572075df",
       "value": "<h5>Message</h5>"
      }
     },
     "9b292310b9c04d83bdebad92d2970734": {
      "model_module": "@jupyter-widgets/controls",
      "model_module_version": "1.5.0",
      "model_name": "DescriptionStyleModel",
      "state": {
       "description_width": ""
      }
     },
     "a0baa04b85bc4d4ab00250de60ea0f6e": {
      "model_module": "@jupyter-widgets/base",
      "model_module_version": "1.2.0",
      "model_name": "LayoutModel",
      "state": {
       "width": "95px"
      }
     },
     "a4044a0d762d41d9a31e3cdc572075df": {
      "model_module": "@jupyter-widgets/controls",
      "model_module_version": "1.5.0",
      "model_name": "DescriptionStyleModel",
      "state": {
       "description_width": ""
      }
     },
     "aba107344b0c42cc9ba6f465a259db4e": {
      "model_module": "@jupyter-widgets/controls",
      "model_module_version": "1.5.0",
      "model_name": "ButtonStyleModel",
      "state": {}
     },
     "abf5e2cb3f664fda960848dba32b760d": {
      "model_module": "@jupyter-widgets/controls",
      "model_module_version": "1.5.0",
      "model_name": "ButtonModel",
      "state": {
       "button_style": "primary",
       "description": "Clear",
       "layout": "IPY_MODEL_2b116cf1791d4679b912e2e683e9f137",
       "style": "IPY_MODEL_aba107344b0c42cc9ba6f465a259db4e"
      }
     },
     "b268f58ec52846cbac8e769a15f899ad": {
      "model_module": "@jupyter-widgets/controls",
      "model_module_version": "1.5.0",
      "model_name": "HTMLModel",
      "state": {
       "layout": "IPY_MODEL_16c3fcc9238a442ba9b69147db2514ec",
       "style": "IPY_MODEL_f6025e48d83747f3b91ab1ce2f5038b0",
       "value": "<h5>Job ID</h5>"
      }
     },
     "c62af4d74db94fcab590bdba1526e0b7": {
      "model_module": "@jupyter-widgets/base",
      "model_module_version": "1.2.0",
      "model_name": "LayoutModel",
      "state": {
       "margin": "0px 0px 10px 0px"
      }
     },
     "d03d9b02de384020a27c0fb08414e152": {
      "model_module": "@jupyter-widgets/controls",
      "model_module_version": "1.5.0",
      "model_name": "HTMLModel",
      "state": {
       "layout": "IPY_MODEL_c62af4d74db94fcab590bdba1526e0b7",
       "style": "IPY_MODEL_e6d10370703640be916e72dc68110db9",
       "value": "<p style='font-family: IBM Plex Sans, Arial, Helvetica, sans-serif; font-size: 20px; font-weight: medium;'>Circuit Properties</p>"
      }
     },
     "d98a276cdede458cb5f12e6cafb6f4d5": {
      "model_module": "@jupyter-widgets/controls",
      "model_module_version": "1.5.0",
      "model_name": "HTMLModel",
      "state": {
       "layout": "IPY_MODEL_03d832a1e96d409b8195730e206d7bcb",
       "style": "IPY_MODEL_59ea791c4aee46348509125c325bef8e",
       "value": "<h5>Backend</h5>"
      }
     },
     "e6d10370703640be916e72dc68110db9": {
      "model_module": "@jupyter-widgets/controls",
      "model_module_version": "1.5.0",
      "model_name": "DescriptionStyleModel",
      "state": {
       "description_width": ""
      }
     },
     "e9d00813af8e4316a97763e67a3571cb": {
      "model_module": "@jupyter-widgets/base",
      "model_module_version": "1.2.0",
      "model_name": "LayoutModel",
      "state": {}
     },
     "f6025e48d83747f3b91ab1ce2f5038b0": {
      "model_module": "@jupyter-widgets/controls",
      "model_module_version": "1.5.0",
      "model_name": "DescriptionStyleModel",
      "state": {
       "description_width": ""
      }
     }
    },
    "version_major": 2,
    "version_minor": 0
   }
  }
 },
 "nbformat": 4,
 "nbformat_minor": 4
}
